{
 "cells": [
  {
   "cell_type": "code",
   "execution_count": 3,
   "id": "d7c503e3-8883-4047-9cfc-8a1592dc7043",
   "metadata": {},
   "outputs": [
    {
     "name": "stdin",
     "output_type": "stream",
     "text": [
      "Enter the elements of your choice :  1 2 2 3 3 3 4 4 4 4 5 5 5 5 5 \n"
     ]
    },
    {
     "name": "stdout",
     "output_type": "stream",
     "text": [
      "The list containing unique elements is :  [1, 2, 3, 4, 5]\n"
     ]
    }
   ],
   "source": [
    "string = input('Enter the elements of your choice : ')\n",
    "list1 = [int(item) for item in string.split()]\n",
    "set1 = set(list1)\n",
    "v = list(set1)\n",
    "print('The list containing unique elements is : ', v)"
   ]
  },
  {
   "cell_type": "code",
   "execution_count": null,
   "id": "7e861143-3b74-4053-9b2b-a281cc45bb6b",
   "metadata": {},
   "outputs": [],
   "source": []
  },
  {
   "cell_type": "code",
   "execution_count": null,
   "id": "65e93d29-e868-4248-bbd1-c758c13c8d80",
   "metadata": {},
   "outputs": [],
   "source": []
  },
  {
   "cell_type": "code",
   "execution_count": 5,
   "id": "423f693d-172a-4a69-a3ef-d823f9e6d1fb",
   "metadata": {},
   "outputs": [
    {
     "name": "stdin",
     "output_type": "stream",
     "text": [
      "Enter the elements of your choice for list1 :  1 2 3 4 5 6\n",
      "Enter the elements of your choice for list1 :  2 4 6 8 10 12\n"
     ]
    },
    {
     "name": "stdout",
     "output_type": "stream",
     "text": [
      "The list of common elements present are  :  [2, 4, 6]\n"
     ]
    }
   ],
   "source": [
    "s1 = input('Enter the elements of your choice for list1 : ')\n",
    "list1 = [int(item1) for item1 in s1.split()]\n",
    "s2 = input('Enter the elements of your choice for list1 : ')\n",
    "list2 = [int(item2) for item2 in s2.split()]\n",
    "\n",
    "commonele = list(set(list1) & set(list2))\n",
    "\n",
    "commonele = sorted(commonele)\n",
    "\n",
    "print('The list of common elements present are  : ', commonele)"
   ]
  },
  {
   "cell_type": "code",
   "execution_count": null,
   "id": "9bdfaaba-7343-47d5-ad69-d15a2c074d8f",
   "metadata": {},
   "outputs": [],
   "source": []
  },
  {
   "cell_type": "code",
   "execution_count": null,
   "id": "fe71bf39-0e11-4383-9ba7-63f2858c9a08",
   "metadata": {},
   "outputs": [],
   "source": []
  },
  {
   "cell_type": "code",
   "execution_count": 7,
   "id": "11040604-fece-45f3-89ff-7b4925eec3db",
   "metadata": {},
   "outputs": [
    {
     "name": "stdin",
     "output_type": "stream",
     "text": [
      "Enter the elements of your choice for list1 :  1 2 4 6 7 5 9 0\n",
      "Enter the elements of your choice for list1 :  1 3 2 5 7 0 8 3\n"
     ]
    },
    {
     "name": "stdout",
     "output_type": "stream",
     "text": [
      "The list of differences is :  [4, 6, 9]  and  [3, 8]\n"
     ]
    }
   ],
   "source": [
    "s1 = input('Enter the elements of your choice for list1 : ')\n",
    "list1 = [int(item1) for item1 in s1.split()]\n",
    "s2 = input('Enter the elements of your choice for list1 : ')\n",
    "list2 = [int(item2) for item2 in s2.split()]\n",
    "\n",
    "difference1 = list(set(list1) - set(list2))\n",
    "difference2 = list(set(list2) - set(list1))\n",
    "difference1 =  sorted(difference1)\n",
    "difference2 = sorted(difference2)\n",
    "\n",
    "print('The list of differences is : ', difference1, ' and ', difference2)"
   ]
  },
  {
   "cell_type": "code",
   "execution_count": null,
   "id": "aa472f4d-fc19-46d5-abaa-6664d240a170",
   "metadata": {},
   "outputs": [],
   "source": []
  },
  {
   "cell_type": "code",
   "execution_count": null,
   "id": "319ecb58-f304-4e01-8f39-7f0e823f1f41",
   "metadata": {},
   "outputs": [],
   "source": []
  },
  {
   "cell_type": "code",
   "execution_count": 3,
   "id": "43c14aa0-b2af-4d03-8253-97f400c4db24",
   "metadata": {},
   "outputs": [
    {
     "name": "stdin",
     "output_type": "stream",
     "text": [
      "Enter the elements of your choice for list1 :  6 7 8 9 0\n",
      "Enter the elements of your choice for list1 :  1 2 3 4 5\n"
     ]
    },
    {
     "name": "stdout",
     "output_type": "stream",
     "text": [
      "The merged list is :  [0, 1, 2, 3, 4, 5, 6, 7, 8, 9]\n"
     ]
    }
   ],
   "source": [
    "s1 = input('Enter the elements of your choice for list1 : ')\n",
    "list1 = [int(item1) for item1 in s1.split()]\n",
    "s2 = input('Enter the elements of your choice for list1 : ')\n",
    "list2 = [int(item2) for item2 in s2.split()]\n",
    "\n",
    "list1.extend(list2)\n",
    "\n",
    "list1 = sorted(list1)\n",
    "\n",
    "print('The merged list is : ', list1)\n"
   ]
  },
  {
   "cell_type": "code",
   "execution_count": null,
   "id": "665928c4-3b03-41b0-8cce-3b9bf05f4444",
   "metadata": {},
   "outputs": [],
   "source": []
  },
  {
   "cell_type": "code",
   "execution_count": null,
   "id": "402d9100-c7e5-49ad-822f-e1f9167e0bd1",
   "metadata": {},
   "outputs": [],
   "source": []
  },
  {
   "cell_type": "code",
   "execution_count": 4,
   "id": "dcb73751-71c7-4208-b7ae-f574755c0225",
   "metadata": {},
   "outputs": [
    {
     "name": "stdin",
     "output_type": "stream",
     "text": [
      "Enter the string of your choice :  1 2 3 4 5 6 7 8 9 0\n"
     ]
    },
    {
     "name": "stdout",
     "output_type": "stream",
     "text": [
      "The list with each element doubled is :  [2, 4, 6, 8, 10, 12, 14, 16, 18, 0]\n"
     ]
    }
   ],
   "source": [
    "s = input('Enter the string of your choice : ')\n",
    "l1 = [int(item) for item in s.split()]\n",
    "l2 = [item1*2 for item1 in l1]\n",
    "print('The list with each element doubled is : ',l2)"
   ]
  },
  {
   "cell_type": "code",
   "execution_count": null,
   "id": "4bea038f-e4e8-428f-aac6-55ebb9890276",
   "metadata": {},
   "outputs": [],
   "source": []
  },
  {
   "cell_type": "code",
   "execution_count": null,
   "id": "17809651-c15b-45c0-accd-86d5af8c3d9e",
   "metadata": {},
   "outputs": [],
   "source": []
  },
  {
   "cell_type": "code",
   "execution_count": 5,
   "id": "cdacfdb4-b6d3-4e34-b04d-6d5196f9f01f",
   "metadata": {},
   "outputs": [
    {
     "name": "stdin",
     "output_type": "stream",
     "text": [
      "Enter the string of your choice :  1 2 3 4 5 6 7 8 9 10 11 12 13 14 15 16 17 18 19 20\n"
     ]
    },
    {
     "name": "stdout",
     "output_type": "stream",
     "text": [
      "The new list with all even values filtered out are :  [1, 3, 5, 7, 9, 11, 13, 15, 17, 19]\n"
     ]
    }
   ],
   "source": [
    "s = input('Enter the string of your choice : ')\n",
    "l1 = [int(item) for item in s.split()]\n",
    "oddlist = [i for i in l1 if (i%2!=0)]\n",
    "\n",
    "print('The new list with all even values filtered out are : ', oddlist)"
   ]
  },
  {
   "cell_type": "code",
   "execution_count": null,
   "id": "d6768b10-6227-4593-85fb-adaaa706e97d",
   "metadata": {},
   "outputs": [],
   "source": []
  },
  {
   "cell_type": "code",
   "execution_count": null,
   "id": "2239b904-6c6f-49d8-8cfb-05b6d2de83f1",
   "metadata": {},
   "outputs": [],
   "source": []
  },
  {
   "cell_type": "code",
   "execution_count": 6,
   "id": "28100b01-aef6-4c01-a95f-4ce324192a1f",
   "metadata": {},
   "outputs": [
    {
     "name": "stdin",
     "output_type": "stream",
     "text": [
      "Enter the string of your choice :  1 2 3 4 5 6 7 8 9\n"
     ]
    },
    {
     "name": "stdout",
     "output_type": "stream",
     "text": [
      "The list of string is :  ['1', '2', '3', '4', '5', '6', '7', '8', '9']\n",
      "The list of inetger is :  [1, 2, 3, 4, 5, 6, 7, 8, 9]\n"
     ]
    }
   ],
   "source": [
    "s = input('Enter the string of your choice : ')\n",
    "l1 = [(item) for item in s.split()]\n",
    "l2 = [int(item) for item in l1]\n",
    "\n",
    "print('The list of string is : ', l1)\n",
    "print('The list of inetger is : ', l2)"
   ]
  },
  {
   "cell_type": "code",
   "execution_count": null,
   "id": "9e4942fb-6e6b-4b66-a4dc-f672f886d213",
   "metadata": {},
   "outputs": [],
   "source": []
  },
  {
   "cell_type": "code",
   "execution_count": null,
   "id": "728a43a7-4c71-468f-9338-5b840d5a8268",
   "metadata": {},
   "outputs": [],
   "source": []
  },
  {
   "cell_type": "code",
   "execution_count": 7,
   "id": "176da507-da64-41f7-94dd-517d8040f094",
   "metadata": {},
   "outputs": [
    {
     "name": "stdin",
     "output_type": "stream",
     "text": [
      "Enter the string of your choice :  1 2 3 4 5 6 7 8\n"
     ]
    },
    {
     "name": "stdout",
     "output_type": "stream",
     "text": [
      "The list of integer is :  [1, 2, 3, 4, 5, 6, 7, 8]\n",
      "The list of string is :  [1, 2, 3, 4, 5, 6, 7, 8]\n"
     ]
    }
   ],
   "source": [
    "s = input('Enter the string of your choice : ')\n",
    "l1 = [int(item) for item in s.split()]\n",
    "l2 = [(item) for item in l1]\n",
    "\n",
    "print('The list of integer is : ', l1)\n",
    "print('The list of string is : ', l2)"
   ]
  },
  {
   "cell_type": "code",
   "execution_count": null,
   "id": "d9742cdc-f236-4c13-951f-a21057fc3dfb",
   "metadata": {},
   "outputs": [],
   "source": []
  },
  {
   "cell_type": "code",
   "execution_count": null,
   "id": "30f0c7d4-9f75-455c-ab0c-055f05cd6144",
   "metadata": {},
   "outputs": [],
   "source": [
    "\n"
   ]
  },
  {
   "cell_type": "code",
   "execution_count": 11,
   "id": "5936f763-347b-435f-b923-213bd68bb92d",
   "metadata": {},
   "outputs": [
    {
     "name": "stdout",
     "output_type": "stream",
     "text": [
      "Output :  [1, 2, 3, 4, 5]\n"
     ]
    }
   ],
   "source": [
    "def flattendlist(nestedlist):\n",
    "    flattened = []\n",
    "    for item in nestedlist:\n",
    "        if isinstance(item,list):\n",
    "            flattened.extend(flattendlist(item))\n",
    "        else:\n",
    "            flattened.append(item)\n",
    "            \n",
    "    return flattened\n",
    "\n",
    "nestedlist = [1, [2], [3,[4,5]]]\n",
    "flatlist = flattendlist(nestedlist)\n",
    "print('Output : ', flatlist)"
   ]
  },
  {
   "cell_type": "code",
   "execution_count": null,
   "id": "5407ddb1-5b55-4075-b5da-41efe22ec7a3",
   "metadata": {},
   "outputs": [],
   "source": []
  },
  {
   "cell_type": "code",
   "execution_count": null,
   "id": "bcdab3f9-ac38-4b53-b550-738d8ae9f3a8",
   "metadata": {},
   "outputs": [],
   "source": [
    "\n"
   ]
  },
  {
   "cell_type": "code",
   "execution_count": 13,
   "id": "4fe6e66c-79ce-451b-8343-19c2661ad158",
   "metadata": {},
   "outputs": [
    {
     "name": "stdout",
     "output_type": "stream",
     "text": [
      "The updated fibonacci list is :  [0, 1, 1, 2, 3, 5, 8, 13, 21, 34]\n"
     ]
    }
   ],
   "source": [
    "fiblist = [0,1]\n",
    "\n",
    "while len(fiblist) < 10 :\n",
    "    fibx = fiblist[-1] + fiblist[-2]\n",
    "    fiblist.append(fibx)\n",
    "    \n",
    "print('The updated fibonacci list is : ', fiblist)"
   ]
  },
  {
   "cell_type": "code",
   "execution_count": null,
   "id": "7d35cd24-2214-4a9c-b808-54495ed2b2b3",
   "metadata": {},
   "outputs": [],
   "source": []
  },
  {
   "cell_type": "code",
   "execution_count": null,
   "id": "386fcc4f-263a-4414-9975-a4cff1617372",
   "metadata": {},
   "outputs": [],
   "source": []
  },
  {
   "cell_type": "code",
   "execution_count": 14,
   "id": "23ccc35b-1cd4-4e88-93fa-bbf169a83a11",
   "metadata": {},
   "outputs": [
    {
     "name": "stdin",
     "output_type": "stream",
     "text": [
      "Enter the elements of your desired list :  1 3 4 6 8 9 0\n"
     ]
    },
    {
     "name": "stdout",
     "output_type": "stream",
     "text": [
      "The list is not sorted\n"
     ]
    }
   ],
   "source": [
    "def sortornot(list1):\n",
    "    for i in range(1,len(list1)):\n",
    "        if list1[i] < list1[i-1]:\n",
    "            return False\n",
    "    return True\n",
    "\n",
    "s = input('Enter the elements of your desired list : ')\n",
    "list1 = [int(item) for item in s.split()]\n",
    "sortn = sortornot(list1)\n",
    "\n",
    "if sortn:\n",
    "    print('The list is sorted')\n",
    "else :\n",
    "    print('The list is not sorted')"
   ]
  },
  {
   "cell_type": "code",
   "execution_count": null,
   "id": "d9e92763-8e7f-4b2c-8e2f-17b3218045bb",
   "metadata": {},
   "outputs": [],
   "source": []
  },
  {
   "cell_type": "code",
   "execution_count": null,
   "id": "984a0c62-dc9e-40d9-83ca-8f5cde4aea44",
   "metadata": {},
   "outputs": [],
   "source": []
  },
  {
   "cell_type": "code",
   "execution_count": 18,
   "id": "5b172938-3e73-4375-a65e-268703f54634",
   "metadata": {},
   "outputs": [
    {
     "name": "stdin",
     "output_type": "stream",
     "text": [
      "Enter the elements of the list of your choice :  1 2 3 4 5 6\n",
      "Enter the nth position on which the rotation is to take place :  3\n"
     ]
    },
    {
     "name": "stdout",
     "output_type": "stream",
     "text": [
      "The list after rotating it leftwise :  [4, 5, 6, 1, 2, 3]\n"
     ]
    }
   ],
   "source": [
    "def rotatedlist(list1,n):\n",
    "    return list1[n:] + list1[:n]\n",
    "\n",
    "s = input('Enter the elements of the list of your choice : ')\n",
    "list1 = [int(item) for item in s.split()]\n",
    "n = int(input('Enter the nth position on which the rotation is to take place : '))\n",
    "rotatedleft = rotatedlist(list1,n)\n",
    "print('The list after rotating it leftwise : ',rotatedleft)"
   ]
  },
  {
   "cell_type": "code",
   "execution_count": null,
   "id": "55467e5f-81ed-44b9-8d01-7c953ee9c813",
   "metadata": {},
   "outputs": [],
   "source": []
  },
  {
   "cell_type": "code",
   "execution_count": null,
   "id": "05aeba43-55ec-48cb-b920-86aa6f8b0d96",
   "metadata": {},
   "outputs": [],
   "source": []
  },
  {
   "cell_type": "code",
   "execution_count": 23,
   "id": "9d33ac3b-d384-451c-9387-a154b2d780b2",
   "metadata": {},
   "outputs": [
    {
     "name": "stdin",
     "output_type": "stream",
     "text": [
      "Enter the elements of the list of your choice :  1 2 3 4 5 6\n",
      "Enter the nth position on which the rotation is to take place :  2\n"
     ]
    },
    {
     "name": "stdout",
     "output_type": "stream",
     "text": [
      "The list after rotating it leftwise :  [5, 6, 1, 2, 3, 4]\n"
     ]
    }
   ],
   "source": [
    "def rotatedlist(list1,n):\n",
    "    return list1[-n:] + list1[:-n]\n",
    "\n",
    "s = input('Enter the elements of the list of your choice : ')\n",
    "list1 = [int(item) for item in s.split()]\n",
    "n = int(input('Enter the nth position on which the rotation is to take place : '))\n",
    "rotatedright = rotatedlist(list1,n)\n",
    "print('The list after rotating it leftwise : ',rotatedright)"
   ]
  },
  {
   "cell_type": "code",
   "execution_count": null,
   "id": "656be02f-f8ef-481b-a067-efc8815374cd",
   "metadata": {},
   "outputs": [],
   "source": []
  },
  {
   "cell_type": "code",
   "execution_count": null,
   "id": "bef2e677-bc30-45a1-9972-1e8068576e73",
   "metadata": {},
   "outputs": [],
   "source": []
  },
  {
   "cell_type": "code",
   "execution_count": 24,
   "id": "164101be-564e-4484-b95c-a9d191f21393",
   "metadata": {},
   "outputs": [
    {
     "name": "stdout",
     "output_type": "stream",
     "text": [
      "The list of prime numbers :  [2, 3, 5, 7, 11, 13, 17, 19, 23, 29, 31, 37, 41, 43, 47]\n"
     ]
    }
   ],
   "source": [
    "from sympy import primerange\n",
    "\n",
    "list1 = list(primerange(1,51))\n",
    "\n",
    "print('The list of prime numbers : ', list1)"
   ]
  },
  {
   "cell_type": "code",
   "execution_count": null,
   "id": "c51fb58c-738d-4bd3-b124-d71382bb408e",
   "metadata": {},
   "outputs": [],
   "source": []
  },
  {
   "cell_type": "code",
   "execution_count": null,
   "id": "3687076c-ef74-4e16-b98e-96fc4d115d82",
   "metadata": {},
   "outputs": [],
   "source": []
  },
  {
   "cell_type": "code",
   "execution_count": 3,
   "id": "5840a288-ac99-40b2-b184-b449a463cbb1",
   "metadata": {},
   "outputs": [
    {
     "name": "stdin",
     "output_type": "stream",
     "text": [
      "Enter the elements of the list :  1 2 3 4 5 6 7 8\n",
      "Enter the size of each chunk :  3\n"
     ]
    },
    {
     "name": "stdout",
     "output_type": "stream",
     "text": [
      "The Output :  [[1, 2, 3], [4, 5, 6], [7, 8]]\n"
     ]
    }
   ],
   "source": [
    "def splitlistx(list1, n):\n",
    "    for i in range(0,len(list1),n):\n",
    "        yield list1[i:i+n]\n",
    "        \n",
    "s = input('Enter the elements of the list : ')\n",
    "list1 = [int(item) for item in s.split()]\n",
    "n = int(input('Enter the size of each chunk : '))\n",
    "\n",
    "chunklist = list(splitlistx(list1, n))\n",
    "\n",
    "print('The Output : ', chunklist)"
   ]
  },
  {
   "cell_type": "code",
   "execution_count": null,
   "id": "2af4d4db-b3b9-47af-beb4-50f032972020",
   "metadata": {},
   "outputs": [],
   "source": []
  },
  {
   "cell_type": "code",
   "execution_count": null,
   "id": "0f57ea09-a2e6-45d4-a089-13de03758fb5",
   "metadata": {},
   "outputs": [],
   "source": []
  },
  {
   "cell_type": "code",
   "execution_count": 6,
   "id": "59bbe565-a4e9-41fb-a90d-31ea5dbeca84",
   "metadata": {},
   "outputs": [
    {
     "name": "stdin",
     "output_type": "stream",
     "text": [
      "Enter the elements of the list :  1 2 3 4 5 6 7 8 9\n"
     ]
    },
    {
     "name": "stdout",
     "output_type": "stream",
     "text": [
      "The second largest element of the given list is :  8\n"
     ]
    }
   ],
   "source": [
    "s = input('Enter the elements of the list : ')\n",
    "list1 = [int(item) for item in s.split()]\n",
    "\n",
    "list1 = sorted(list1, reverse=True)\n",
    "\n",
    "secondlargestelement = list1[1]\n",
    "\n",
    "print('The second largest element of the given list is : ', secondlargestelement)"
   ]
  },
  {
   "cell_type": "code",
   "execution_count": null,
   "id": "a32d3db0-a243-49ce-999f-39d98a10b58f",
   "metadata": {},
   "outputs": [],
   "source": []
  },
  {
   "cell_type": "code",
   "execution_count": null,
   "id": "489f6c14-26c6-492a-9f95-f7e45cda0d38",
   "metadata": {},
   "outputs": [],
   "source": []
  },
  {
   "cell_type": "code",
   "execution_count": 9,
   "id": "93c98edc-8594-4f8f-8e8a-c34d14b9549f",
   "metadata": {},
   "outputs": [
    {
     "name": "stdin",
     "output_type": "stream",
     "text": [
      "Enter the elements of the list to be squared :  1 2 3 4 5 6\n"
     ]
    },
    {
     "name": "stdout",
     "output_type": "stream",
     "text": [
      "The squared list is :  [1, 4, 9, 16, 25, 36]\n"
     ]
    }
   ],
   "source": [
    "s = input('Enter the elements of the list to be squared : ')\n",
    "list1 = [int(item) for item in s.split()]\n",
    "\n",
    "for i in range(len(list1)):\n",
    "    list1[i] = list1[i]*list1[i]\n",
    "    \n",
    "print('The squared list is : ', list1)"
   ]
  },
  {
   "cell_type": "code",
   "execution_count": null,
   "id": "0d3f3ce7-b230-4dc9-b9de-12bcb78feba9",
   "metadata": {},
   "outputs": [],
   "source": []
  },
  {
   "cell_type": "code",
   "execution_count": null,
   "id": "adb8b23b-7b36-4f8b-bd7c-b04658d06615",
   "metadata": {},
   "outputs": [],
   "source": [
    "\n"
   ]
  },
  {
   "cell_type": "code",
   "execution_count": 10,
   "id": "30dcad72-c115-444c-8d4a-c6700425ebae",
   "metadata": {},
   "outputs": [
    {
     "name": "stdin",
     "output_type": "stream",
     "text": [
      "Enter the elements of the list :  a b c d e f g h i j\n"
     ]
    },
    {
     "name": "stdout",
     "output_type": "stream",
     "text": [
      "Output as dictionary :  {'a': 0, 'b': 1, 'c': 2, 'd': 3, 'e': 4, 'f': 5, 'g': 6, 'h': 7, 'i': 8, 'j': 9}\n"
     ]
    }
   ],
   "source": [
    "s = input('Enter the elements of the list : ')\n",
    "list1 = [items for items in s.split()]\n",
    "dicr1 = { value : index for index, value in enumerate(list1)}\n",
    "\n",
    "print('Output as dictionary : ', dicr1)"
   ]
  },
  {
   "cell_type": "code",
   "execution_count": null,
   "id": "2fb9cfa1-f63c-4c38-ae15-303e2e99f84a",
   "metadata": {},
   "outputs": [],
   "source": []
  },
  {
   "cell_type": "code",
   "execution_count": null,
   "id": "129bbba4-0ccd-4136-a481-bb0b75efb008",
   "metadata": {},
   "outputs": [],
   "source": []
  },
  {
   "cell_type": "code",
   "execution_count": 11,
   "id": "bc9f45be-2d67-4ab9-bae4-8ebd6fa0e781",
   "metadata": {},
   "outputs": [
    {
     "name": "stdin",
     "output_type": "stream",
     "text": [
      "Enter the elements of the list :  1 2 3 4 5 6 7 8 9\n"
     ]
    },
    {
     "name": "stdout",
     "output_type": "stream",
     "text": [
      "Output :  [7, 1, 4, 9, 3, 8, 5, 6, 2]\n"
     ]
    }
   ],
   "source": [
    "import random\n",
    "\n",
    "s = input('Enter the elements of the list : ')\n",
    "list1 = [int(item) for item in s.split()]\n",
    " \n",
    "randomlist = random.sample(list1,len(list1))\n",
    "\n",
    "print('Output : ', randomlist)"
   ]
  },
  {
   "cell_type": "code",
   "execution_count": null,
   "id": "792f02a2-a5ed-4739-8129-26c06f55eacc",
   "metadata": {},
   "outputs": [],
   "source": []
  },
  {
   "cell_type": "code",
   "execution_count": null,
   "id": "55aa4f33-94f0-4fd4-9fb6-8b31f09c5ebd",
   "metadata": {},
   "outputs": [],
   "source": []
  },
  {
   "cell_type": "code",
   "execution_count": 19,
   "id": "584459ac-8b5f-4362-8351-83666339ef1d",
   "metadata": {},
   "outputs": [
    {
     "name": "stdout",
     "output_type": "stream",
     "text": [
      "The Output :  [1, 1, 2, 6, 24, 120, 720, 5040, 40320, 362880]\n"
     ]
    }
   ],
   "source": [
    "def fact1(n):\n",
    "    if n == 0 or n == 1:\n",
    "        return 1\n",
    "    else :\n",
    "        return n * factorial(n-1)\n",
    "    \n",
    "\n",
    "factnum = [fact1(i) for i in range(10)]\n",
    "\n",
    "print('The Output : ', factnum)"
   ]
  },
  {
   "cell_type": "code",
   "execution_count": null,
   "id": "b8d7c2d3-3664-47ad-b746-7c7ee6d50ae6",
   "metadata": {},
   "outputs": [],
   "source": []
  },
  {
   "cell_type": "code",
   "execution_count": null,
   "id": "086c25b6-a2c9-4db7-b03b-42db77c8fbbd",
   "metadata": {},
   "outputs": [],
   "source": []
  },
  {
   "cell_type": "code",
   "execution_count": 20,
   "id": "2f9d301a-afb8-40b6-a1ff-e4cf37c26d92",
   "metadata": {},
   "outputs": [
    {
     "name": "stdin",
     "output_type": "stream",
     "text": [
      "Enter the elements of the first list :  1 2 3 4 5 6\n",
      "Enter the elements of the second list :  3 6 9 12 15 18\n"
     ]
    },
    {
     "name": "stdout",
     "output_type": "stream",
     "text": [
      "The first list is :  [1, 2, 3, 4, 5, 6]\n",
      "The second list is :  [3, 6, 9, 12, 15, 18]\n",
      "At least one common element is present in both the sets\n"
     ]
    }
   ],
   "source": [
    "s1 = input('Enter the elements of the first list : ')\n",
    "s2 = input('Enter the elements of the second list : ')\n",
    "l1 = [int(items) for items in s1.split()]\n",
    "l2 = [int(items) for items in s2.split()]\n",
    "print('The first list is : ', l1)\n",
    "print('The second list is : ', l2)\n",
    "commonele = set(l1) & set(l2)\n",
    "\n",
    "if commonele:\n",
    "    print('At least one common element is present in both the sets')\n",
    "else:\n",
    "    print('No common elements are present in both the sets')\n",
    "    "
   ]
  },
  {
   "cell_type": "code",
   "execution_count": null,
   "id": "39774675-8e71-488d-a66c-1e6786c0d37d",
   "metadata": {},
   "outputs": [],
   "source": []
  },
  {
   "cell_type": "code",
   "execution_count": null,
   "id": "8f376d68-3c40-4fb7-a110-b155bb6840bc",
   "metadata": {},
   "outputs": [],
   "source": []
  },
  {
   "cell_type": "code",
   "execution_count": 21,
   "id": "ee083e8b-6f0e-4c51-8c7c-4ded28466491",
   "metadata": {},
   "outputs": [
    {
     "name": "stdin",
     "output_type": "stream",
     "text": [
      "Enter the elements of the list :  1 2 3 4 5 6 7 8\n"
     ]
    },
    {
     "name": "stdout",
     "output_type": "stream",
     "text": [
      "The list before element removal :  [1, 2, 3, 4, 5, 6, 7, 8]\n",
      "The list after element removal :  []\n"
     ]
    }
   ],
   "source": [
    "s = input('Enter the elements of the list : ')\n",
    "l1 = [int(items) for items in s.split()]\n",
    "\n",
    "print('The list before element removal : ', l1)\n",
    "\n",
    "while l1:\n",
    "    l1.pop()\n",
    "    \n",
    "print('The list after element removal : ', l1)\n"
   ]
  },
  {
   "cell_type": "code",
   "execution_count": null,
   "id": "26d3d6b6-3c89-4229-8280-9beab3ccf932",
   "metadata": {},
   "outputs": [],
   "source": []
  },
  {
   "cell_type": "code",
   "execution_count": null,
   "id": "ede1fa6d-8a33-489b-9d00-f1a861b37455",
   "metadata": {},
   "outputs": [],
   "source": []
  },
  {
   "cell_type": "code",
   "execution_count": 22,
   "id": "af5e0499-ea7c-45cf-8203-ec4eebf093bb",
   "metadata": {},
   "outputs": [
    {
     "name": "stdin",
     "output_type": "stream",
     "text": [
      "Enter the elements of the list :  1 2 3 4 -8 9 -7 0 -45\n"
     ]
    },
    {
     "name": "stdout",
     "output_type": "stream",
     "text": [
      "The list before modifications :  [1, 2, 3, 4, -8, 9, -7, 0, -45]\n",
      "The list after modifications :  [1, 2, 3, 4, 0, 9, 0, 0, 0]\n"
     ]
    }
   ],
   "source": [
    "s = input('Enter the elements of the list : ')\n",
    "l1 = [int(items) for items in s.split()]\n",
    "\n",
    "print('The list before modifications : ', l1)\n",
    "\n",
    "for i in range(len(l1)):\n",
    "    if l1[i] < 0:\n",
    "        l1[i] = 0\n",
    "\n",
    "print('The list after modifications : ', l1)"
   ]
  },
  {
   "cell_type": "code",
   "execution_count": null,
   "id": "8763b57b-2e18-42b3-b3f1-2a4756bdd791",
   "metadata": {},
   "outputs": [],
   "source": []
  },
  {
   "cell_type": "code",
   "execution_count": null,
   "id": "5c94e20e-380b-48a5-9b3d-58ccc1ffb759",
   "metadata": {},
   "outputs": [],
   "source": []
  },
  {
   "cell_type": "code",
   "execution_count": 23,
   "id": "7fc6ed50-6872-404f-8f2f-bd607f4aca29",
   "metadata": {},
   "outputs": [
    {
     "name": "stdin",
     "output_type": "stream",
     "text": [
      "Enter the elements of the list :  Hello my name is Anthony Gonsalvez\n"
     ]
    },
    {
     "name": "stdout",
     "output_type": "stream",
     "text": [
      "List of words :  ['Hello', 'my', 'name', 'is', 'Anthony', 'Gonsalvez']\n"
     ]
    }
   ],
   "source": [
    "s = input('Enter the elements of the list : ')\n",
    "l1 = [(items) for items in s.split()]\n",
    "\n",
    "print('List of words : ', l1)\n"
   ]
  },
  {
   "cell_type": "code",
   "execution_count": null,
   "id": "084c39c4-831e-49ca-90a8-d3a891928d66",
   "metadata": {},
   "outputs": [],
   "source": []
  },
  {
   "cell_type": "code",
   "execution_count": null,
   "id": "2eed937f-7823-4fcc-8dda-38625e098596",
   "metadata": {},
   "outputs": [],
   "source": []
  },
  {
   "cell_type": "code",
   "execution_count": 24,
   "id": "7b246ba9-c7ce-4cba-8320-765e6c9fcbe2",
   "metadata": {},
   "outputs": [
    {
     "name": "stdout",
     "output_type": "stream",
     "text": [
      "Hello my name is Anthony Gonsalvez\n"
     ]
    }
   ],
   "source": [
    "l1 = ['Hello', 'my', 'name', 'is', 'Anthony', 'Gonsalvez']\n",
    "s = ' '.join(l1)\n",
    "\n",
    "print(s)"
   ]
  },
  {
   "cell_type": "code",
   "execution_count": null,
   "id": "3780c6aa-1dbb-4faa-98da-141ce0539441",
   "metadata": {},
   "outputs": [],
   "source": []
  },
  {
   "cell_type": "code",
   "execution_count": null,
   "id": "28f8efc9-4548-457d-be2f-0a6418f25193",
   "metadata": {},
   "outputs": [],
   "source": []
  },
  {
   "cell_type": "code",
   "execution_count": 25,
   "id": "b293ce84-3fa1-45a6-bdd7-dd84db046f55",
   "metadata": {},
   "outputs": [
    {
     "name": "stdin",
     "output_type": "stream",
     "text": [
      "Enter the nth power of 2 :  10\n"
     ]
    },
    {
     "name": "stdout",
     "output_type": "stream",
     "text": [
      "The list of nth powers of 2 is :  [1, 2, 4, 8, 16, 32, 64, 128, 256, 512, 1024]\n"
     ]
    }
   ],
   "source": [
    "n = int(input('Enter the nth power of 2 : '))\n",
    "\n",
    "list1 = [2**i for i in range(n+1)]\n",
    "\n",
    "print('The list of nth powers of 2 is : ', list1)"
   ]
  },
  {
   "cell_type": "code",
   "execution_count": null,
   "id": "1c7a5e65-69cd-425b-b818-910eb6e109b4",
   "metadata": {},
   "outputs": [],
   "source": []
  },
  {
   "cell_type": "code",
   "execution_count": null,
   "id": "40e829d3-7d1a-48c5-a67e-a43fabf5bb0c",
   "metadata": {},
   "outputs": [],
   "source": []
  },
  {
   "cell_type": "code",
   "execution_count": 26,
   "id": "7a92b9bd-b143-473c-88f8-f521297bc0a4",
   "metadata": {},
   "outputs": [
    {
     "name": "stdout",
     "output_type": "stream",
     "text": [
      "Max string present inside the list :  tangerine\n"
     ]
    }
   ],
   "source": [
    "l1 = ['red','blue','green','yellow','pink','black','white','emerald','tangerine']\n",
    "\n",
    "maxstr = max(l1, key=len)\n",
    "\n",
    "print('Max string present inside the list : ', maxstr)"
   ]
  },
  {
   "cell_type": "code",
   "execution_count": null,
   "id": "f1f281a2-eb7c-429d-90e8-82fe7d086940",
   "metadata": {},
   "outputs": [],
   "source": []
  },
  {
   "cell_type": "code",
   "execution_count": null,
   "id": "e504ba32-4499-43e2-acca-523ec7a8a9ef",
   "metadata": {},
   "outputs": [],
   "source": []
  },
  {
   "cell_type": "code",
   "execution_count": 27,
   "id": "5e25d0eb-0955-4142-99dd-2232feff4501",
   "metadata": {},
   "outputs": [
    {
     "name": "stdout",
     "output_type": "stream",
     "text": [
      "Max string present inside the list :  blue\n"
     ]
    }
   ],
   "source": [
    "l1 = ['redex','blue','green','yellow','pink','black','white','emerald','tangerine']\n",
    "\n",
    "minstr = min(l1, key=len)\n",
    "\n",
    "print('Max string present inside the list : ', minstr)"
   ]
  },
  {
   "cell_type": "code",
   "execution_count": null,
   "id": "53a5c439-8365-4952-bad4-eaaba65fd1a5",
   "metadata": {},
   "outputs": [],
   "source": []
  },
  {
   "cell_type": "code",
   "execution_count": null,
   "id": "4a2e13c0-b6a4-4965-93de-35acf3f641af",
   "metadata": {},
   "outputs": [],
   "source": []
  },
  {
   "cell_type": "code",
   "execution_count": 28,
   "id": "ebb251c0-4a35-47f0-a492-50bfd00cf992",
   "metadata": {},
   "outputs": [
    {
     "name": "stdin",
     "output_type": "stream",
     "text": [
      "Enter the nth limit of the triangular numbers :  10\n"
     ]
    },
    {
     "name": "stdout",
     "output_type": "stream",
     "text": [
      "The list of triangular numbers are :  [0.0, 1.0, 3.0, 6.0, 10.0, 15.0, 21.0, 28.0, 36.0, 45.0]\n"
     ]
    }
   ],
   "source": [
    "n = int(input('Enter the nth limit of the triangular numbers : '))\n",
    "\n",
    "triangularset = [(i*(i+1))/2 for i in range(n)]\n",
    "\n",
    "print('The list of triangular numbers are : ', triangularset)"
   ]
  },
  {
   "cell_type": "code",
   "execution_count": null,
   "id": "23f49f34-6b7b-4cbe-900e-c615a1bcb8c3",
   "metadata": {},
   "outputs": [],
   "source": []
  },
  {
   "cell_type": "code",
   "execution_count": null,
   "id": "732f336b-2d11-4814-9e35-55815dc424e1",
   "metadata": {},
   "outputs": [],
   "source": []
  },
  {
   "cell_type": "code",
   "execution_count": 31,
   "id": "7043453e-4e30-42ee-b535-1c9d0c0f7a55",
   "metadata": {},
   "outputs": [
    {
     "name": "stdout",
     "output_type": "stream",
     "text": [
      "Subsequence is present\n"
     ]
    }
   ],
   "source": [
    "def checkitz(mainlist, sublist):\n",
    "    mainlen = len(mainlist)\n",
    "    sublen = len(sublist)\n",
    "    i,j = 0,0\n",
    "    \n",
    "    \n",
    "    while i<mainlen and j<sublen:\n",
    "        if mainlist[i]==sublist[j]:\n",
    "            j = j + 1\n",
    "        i = i + 1\n",
    "        \n",
    "    return j == sublen\n",
    "\n",
    "mainlist = [1,2,3,4,5,6,7]\n",
    "sublist = [3,4,5]\n",
    "\n",
    "if checkitz(mainlist, sublist):\n",
    "    print('Subsequence is present')\n",
    "else:\n",
    "    print('Subsequence is not present')"
   ]
  },
  {
   "cell_type": "code",
   "execution_count": null,
   "id": "f8dcd099-5e62-4fef-9e2c-2e398a27afba",
   "metadata": {},
   "outputs": [],
   "source": []
  },
  {
   "cell_type": "code",
   "execution_count": null,
   "id": "e2b19afd-0376-494b-b52a-2207abcb7085",
   "metadata": {},
   "outputs": [],
   "source": []
  },
  {
   "cell_type": "code",
   "execution_count": 32,
   "id": "d5036485-bcb0-4b02-97e0-84b010390037",
   "metadata": {},
   "outputs": [
    {
     "name": "stdin",
     "output_type": "stream",
     "text": [
      "Enter the elements of the list :  1 2 3 4 5 6 7 8\n",
      "Enter the first index selected for swapping :  4\n",
      "Enter the second index selected for swapping :  5\n"
     ]
    },
    {
     "name": "stdout",
     "output_type": "stream",
     "text": [
      "The list before swapping :  [1, 2, 3, 4, 5, 6, 7, 8]\n",
      "The list after swapping :  [1, 2, 3, 4, 6, 5, 7, 8]\n"
     ]
    }
   ],
   "source": [
    "s = input('Enter the elements of the list : ')\n",
    "list1 = [int(item) for item in s.split()]\n",
    "\n",
    "n1 = int(input('Enter the first index selected for swapping : '))\n",
    "n2 = int(input('Enter the second index selected for swapping : '))\n",
    "\n",
    "print('The list before swapping : ', list1)\n",
    "\n",
    "list1[n1], list1[n2] = list1[n2], list1[n1]\n",
    "\n",
    "print('The list after swapping : ', list1)"
   ]
  },
  {
   "cell_type": "code",
   "execution_count": null,
   "id": "5233a06e-39c4-4960-9a9d-796ab10e6472",
   "metadata": {},
   "outputs": [],
   "source": []
  }
 ],
 "metadata": {
  "kernelspec": {
   "display_name": "Python 3 (ipykernel)",
   "language": "python",
   "name": "python3"
  },
  "language_info": {
   "codemirror_mode": {
    "name": "ipython",
    "version": 3
   },
   "file_extension": ".py",
   "mimetype": "text/x-python",
   "name": "python",
   "nbconvert_exporter": "python",
   "pygments_lexer": "ipython3",
   "version": "3.10.8"
  }
 },
 "nbformat": 4,
 "nbformat_minor": 5
}
