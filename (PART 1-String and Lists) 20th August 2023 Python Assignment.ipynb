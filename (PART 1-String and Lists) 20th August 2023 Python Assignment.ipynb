{
 "cells": [
  {
   "cell_type": "markdown",
   "id": "44849a92-b415-4996-b39c-87c6b9228b2b",
   "metadata": {},
   "source": [
    "TOPIC: String Based Assignment Problem"
   ]
  },
  {
   "cell_type": "code",
   "execution_count": 1,
   "id": "a69d68c3-e905-48d2-91de-f93ceab2a86e",
   "metadata": {},
   "outputs": [
    {
     "name": "stdin",
     "output_type": "stream",
     "text": [
      "Enter a string of your desire :  Everytime I wake up I pray to the Sun\n"
     ]
    }
   ],
   "source": [
    "s = input('Enter a string of your desire : ')"
   ]
  },
  {
   "cell_type": "code",
   "execution_count": 2,
   "id": "510451a7-908c-4b91-b646-23fb88419797",
   "metadata": {},
   "outputs": [],
   "source": [
    "s1 = s[::-1]"
   ]
  },
  {
   "cell_type": "code",
   "execution_count": 4,
   "id": "52d374c0-11fc-43f4-a2f9-2fdc5f111d71",
   "metadata": {},
   "outputs": [
    {
     "name": "stdout",
     "output_type": "stream",
     "text": [
      "The reversed string is : nuS eht ot yarp I pu ekaw I emityrevE\n"
     ]
    }
   ],
   "source": [
    "print('The reversed string is :',s1)"
   ]
  },
  {
   "cell_type": "code",
   "execution_count": null,
   "id": "3ac8324e-99bd-4fec-ac7b-bb8d22c10622",
   "metadata": {},
   "outputs": [],
   "source": []
  },
  {
   "cell_type": "code",
   "execution_count": null,
   "id": "64afea74-d58f-4203-9138-e2ea511e1347",
   "metadata": {},
   "outputs": [],
   "source": []
  },
  {
   "cell_type": "code",
   "execution_count": 5,
   "id": "16b02266-dd0d-4e0a-a89a-cecce978e8ce",
   "metadata": {},
   "outputs": [
    {
     "name": "stdin",
     "output_type": "stream",
     "text": [
      "Enter a string of your desire :  Malayalam\n"
     ]
    }
   ],
   "source": [
    "s = input('Enter a string of your desire : ')"
   ]
  },
  {
   "cell_type": "code",
   "execution_count": 9,
   "id": "db03761c-7cc2-4e71-b3ac-81a989b72473",
   "metadata": {},
   "outputs": [
    {
     "name": "stdout",
     "output_type": "stream",
     "text": [
      "The given string is palindromic in nature\n"
     ]
    }
   ],
   "source": [
    "s1 = s.lower()\n",
    "s2 = s1[::-1]\n",
    "\n",
    "if s1 == s2:\n",
    "    print('The given string is palindromic in nature')\n",
    "else:\n",
    "    print('The given string is not palindromic in nature')"
   ]
  },
  {
   "cell_type": "code",
   "execution_count": null,
   "id": "074f0fe9-6fc2-4fe1-a573-363e91c7aab4",
   "metadata": {},
   "outputs": [],
   "source": []
  },
  {
   "cell_type": "code",
   "execution_count": null,
   "id": "3e85f162-edf0-4a32-a55f-c40537ccb187",
   "metadata": {},
   "outputs": [],
   "source": []
  },
  {
   "cell_type": "code",
   "execution_count": 10,
   "id": "93356f51-a769-4e6a-a604-6d911f40c66d",
   "metadata": {},
   "outputs": [
    {
     "name": "stdin",
     "output_type": "stream",
     "text": [
      "Enter the string desired by you : It's all statis\n"
     ]
    }
   ],
   "source": [
    "s = input('Enter the string desired by you :')"
   ]
  },
  {
   "cell_type": "code",
   "execution_count": 11,
   "id": "86ac7079-3e33-4043-8b25-456ab47c01a0",
   "metadata": {},
   "outputs": [],
   "source": [
    "s1 = s.upper()"
   ]
  },
  {
   "cell_type": "code",
   "execution_count": 12,
   "id": "386b1761-ead9-4c4e-b9bc-73da77bbdb44",
   "metadata": {},
   "outputs": [
    {
     "name": "stdout",
     "output_type": "stream",
     "text": [
      "The transformed string is :  IT'S ALL STATIS\n"
     ]
    }
   ],
   "source": [
    "print('The transformed string is : ', s1)"
   ]
  },
  {
   "cell_type": "code",
   "execution_count": null,
   "id": "2093a083-dd0d-469f-aefe-107efdaf8267",
   "metadata": {},
   "outputs": [],
   "source": []
  },
  {
   "cell_type": "code",
   "execution_count": null,
   "id": "5d4081ab-b041-4dc7-b567-2f02d379feb7",
   "metadata": {},
   "outputs": [],
   "source": []
  },
  {
   "cell_type": "code",
   "execution_count": 13,
   "id": "006d5a2d-4ec7-4eec-b7e5-b29aacd668f7",
   "metadata": {},
   "outputs": [
    {
     "name": "stdin",
     "output_type": "stream",
     "text": [
      "Enter the string of your desire : Tried and Tested\n"
     ]
    }
   ],
   "source": [
    "s = input('Enter the string of your desire :')"
   ]
  },
  {
   "cell_type": "code",
   "execution_count": 18,
   "id": "999e37d0-9474-4ad4-a341-8be258fd4211",
   "metadata": {},
   "outputs": [],
   "source": [
    "vowels = ['a','e','i','o','u']\n",
    "\n",
    "count = 0\n",
    "\n",
    "for char in s:\n",
    "    if char in vowels:\n",
    "        count = count + 1\n",
    "\n",
    "        "
   ]
  },
  {
   "cell_type": "code",
   "execution_count": 19,
   "id": "b0dd5aa1-489e-483d-b859-4f8320a1472e",
   "metadata": {},
   "outputs": [
    {
     "name": "stdout",
     "output_type": "stream",
     "text": [
      "The number of vowels in the string : 5\n"
     ]
    }
   ],
   "source": [
    "print('The number of vowels in the string :',count)"
   ]
  },
  {
   "cell_type": "code",
   "execution_count": null,
   "id": "51f14f35-88c3-4cf3-9ec3-4f41958c2c2d",
   "metadata": {},
   "outputs": [],
   "source": []
  },
  {
   "cell_type": "code",
   "execution_count": null,
   "id": "24648e53-2ff9-452c-8a46-8df8d5057884",
   "metadata": {},
   "outputs": [],
   "source": []
  },
  {
   "cell_type": "code",
   "execution_count": 20,
   "id": "9406a8c0-08d4-4005-bdd2-06d98a25255c",
   "metadata": {},
   "outputs": [
    {
     "name": "stdin",
     "output_type": "stream",
     "text": [
      "Enter the sentence of your desire : Vowels are to be considered forgone\n"
     ]
    }
   ],
   "source": [
    "s = input('Enter the sentence of your desire :')"
   ]
  },
  {
   "cell_type": "code",
   "execution_count": 29,
   "id": "d74490ca-e215-4588-8c90-352aa4f5e7b6",
   "metadata": {},
   "outputs": [],
   "source": [
    "vowels = ['a','e','i','o','u']\n",
    "\n",
    "count = 0\n",
    "\n",
    "for char in s:\n",
    "    if char not in vowels:\n",
    "        count = count + 1\n",
    "        "
   ]
  },
  {
   "cell_type": "code",
   "execution_count": 30,
   "id": "3e1a6749-3800-4e04-b382-5bee50bc5d28",
   "metadata": {},
   "outputs": [
    {
     "name": "stdout",
     "output_type": "stream",
     "text": [
      "The total number of consonants in the given string : 22\n"
     ]
    }
   ],
   "source": [
    "print('The total number of consonants in the given string :',count)"
   ]
  },
  {
   "cell_type": "code",
   "execution_count": null,
   "id": "2da11a5e-4b4a-42c9-a794-075dea7ba9e9",
   "metadata": {},
   "outputs": [],
   "source": []
  },
  {
   "cell_type": "code",
   "execution_count": null,
   "id": "7216fbe3-f14d-4d35-b758-7cb894acb94c",
   "metadata": {},
   "outputs": [],
   "source": []
  },
  {
   "cell_type": "code",
   "execution_count": 34,
   "id": "4fe956b9-ef86-40ad-8f16-6db819fe32cb",
   "metadata": {},
   "outputs": [
    {
     "name": "stdin",
     "output_type": "stream",
     "text": [
      "Input the string of your desire : I'm on X all night and all morning\n"
     ]
    }
   ],
   "source": [
    "s = input('Input the string of your desire :')"
   ]
  },
  {
   "cell_type": "code",
   "execution_count": 35,
   "id": "41eef2b7-3ad9-4dbf-93de-2143d7d82bc7",
   "metadata": {},
   "outputs": [],
   "source": [
    "s1 = s.split()"
   ]
  },
  {
   "cell_type": "code",
   "execution_count": 36,
   "id": "9942d75e-6530-4da9-8c09-683b8ddc344f",
   "metadata": {},
   "outputs": [
    {
     "name": "stdout",
     "output_type": "stream",
     "text": [
      "The modified string is : [\"I'm\", 'on', 'X', 'all', 'night', 'and', 'all', 'morning']\n"
     ]
    }
   ],
   "source": [
    "print('The modified string is :',s1)"
   ]
  },
  {
   "cell_type": "code",
   "execution_count": null,
   "id": "ecc7c012-b9de-4906-ad99-8bae4855e8d1",
   "metadata": {},
   "outputs": [],
   "source": []
  },
  {
   "cell_type": "code",
   "execution_count": null,
   "id": "6cff4709-5a24-4a2b-8828-28f32e7d91ea",
   "metadata": {},
   "outputs": [],
   "source": []
  },
  {
   "cell_type": "code",
   "execution_count": 37,
   "id": "13c76614-f6cb-4eb7-81fb-6fa59b362401",
   "metadata": {},
   "outputs": [
    {
     "name": "stdin",
     "output_type": "stream",
     "text": [
      "Enter the string of your desire : On that time, we will rise through hell into oblivion\n"
     ]
    }
   ],
   "source": [
    "s = input('Enter the string of your desire :')"
   ]
  },
  {
   "cell_type": "code",
   "execution_count": 39,
   "id": "74126cd1-ed16-443e-a7de-6b16a0ff2b22",
   "metadata": {},
   "outputs": [],
   "source": [
    "l = 0\n",
    "\n",
    "for char in s:\n",
    "    l = l + 1\n",
    "    "
   ]
  },
  {
   "cell_type": "code",
   "execution_count": 40,
   "id": "96d84b63-9a8f-415e-907a-0de29cb4bd52",
   "metadata": {},
   "outputs": [
    {
     "name": "stdout",
     "output_type": "stream",
     "text": [
      "The length of the string is : 53\n"
     ]
    }
   ],
   "source": [
    "print('The length of the string is :', l)"
   ]
  },
  {
   "cell_type": "code",
   "execution_count": null,
   "id": "858a293d-de53-47df-895d-a6c92ac94f51",
   "metadata": {},
   "outputs": [],
   "source": []
  },
  {
   "cell_type": "code",
   "execution_count": null,
   "id": "922225e0-24b6-4634-8fbc-3457ca32be0d",
   "metadata": {},
   "outputs": [],
   "source": []
  },
  {
   "cell_type": "code",
   "execution_count": 43,
   "id": "288681d4-07f5-47f7-96b1-946ab7c57a82",
   "metadata": {},
   "outputs": [
    {
     "name": "stdin",
     "output_type": "stream",
     "text": [
      "Enter the sentence of your desire : I got these ones on their toes\n",
      "Enter the word to searched : toes\n"
     ]
    }
   ],
   "source": [
    "s = input('Enter the sentence of your desire :')\n",
    "s1 = input('Enter the word to searched :')"
   ]
  },
  {
   "cell_type": "code",
   "execution_count": 45,
   "id": "88697255-0c59-4b11-a936-350a2a38bdc5",
   "metadata": {},
   "outputs": [
    {
     "name": "stdout",
     "output_type": "stream",
     "text": [
      "Word has been found in the sentence\n"
     ]
    }
   ],
   "source": [
    "if s1 in s:\n",
    "    print('Word has been found in the sentence')\n",
    "else:\n",
    "    print('Word has not been found in the sentence')"
   ]
  },
  {
   "cell_type": "code",
   "execution_count": null,
   "id": "03f6b566-f07a-41ce-9308-1c8474ea14bb",
   "metadata": {},
   "outputs": [],
   "source": []
  },
  {
   "cell_type": "code",
   "execution_count": null,
   "id": "0a1cbbe2-8f35-48ba-a828-e17f23a7947c",
   "metadata": {},
   "outputs": [],
   "source": []
  },
  {
   "cell_type": "code",
   "execution_count": 47,
   "id": "36ddbf73-f05f-4a67-b8ee-f3768789b774",
   "metadata": {},
   "outputs": [
    {
     "name": "stdin",
     "output_type": "stream",
     "text": [
      "Enter the string of your desire : The sky is blue\n",
      "Enter the word to be inserted in : red\n"
     ]
    }
   ],
   "source": [
    "s = input('Enter the string of your desire :')\n",
    "s1 = input('Enter the word to be inserted in :')"
   ]
  },
  {
   "cell_type": "code",
   "execution_count": 48,
   "id": "3f7d0e1c-0a29-4290-992f-92c899a90674",
   "metadata": {},
   "outputs": [],
   "source": [
    "s2 = s.replace('blue',s1)"
   ]
  },
  {
   "cell_type": "code",
   "execution_count": 51,
   "id": "4302f814-3f88-4f9c-9158-6b5a08ad52b4",
   "metadata": {},
   "outputs": [
    {
     "name": "stdout",
     "output_type": "stream",
     "text": [
      "The modified sentence is :  The sky is red\n"
     ]
    }
   ],
   "source": [
    "print('The modified sentence is : ', s2)"
   ]
  },
  {
   "cell_type": "code",
   "execution_count": null,
   "id": "95e1fb33-ea31-44b5-8677-7ba6fb869c0c",
   "metadata": {},
   "outputs": [],
   "source": []
  },
  {
   "cell_type": "code",
   "execution_count": null,
   "id": "12e7bd62-29fd-4f55-a7e2-5a2fc63ca151",
   "metadata": {},
   "outputs": [],
   "source": []
  },
  {
   "cell_type": "code",
   "execution_count": 52,
   "id": "1a64e60a-3cce-437e-92c8-1af16bfd22de",
   "metadata": {},
   "outputs": [
    {
     "name": "stdin",
     "output_type": "stream",
     "text": [
      "Enter the sentence of your desire :  Sun is good. Sun is great. Sun is happy.\n"
     ]
    }
   ],
   "source": [
    "s = input('Enter the sentence of your desire : ')"
   ]
  },
  {
   "cell_type": "code",
   "execution_count": 54,
   "id": "0591dd98-1fc5-4ab3-bdc1-54af70c7840b",
   "metadata": {},
   "outputs": [],
   "source": [
    "s1 = s.lower()\n",
    "l = s1.count('sun')"
   ]
  },
  {
   "cell_type": "code",
   "execution_count": 55,
   "id": "7cc17e9a-083b-4359-8f8a-fabd47737cae",
   "metadata": {},
   "outputs": [
    {
     "name": "stdout",
     "output_type": "stream",
     "text": [
      "The number of times \"Sun\" has been mentioned inside of the given sentence :  3\n"
     ]
    }
   ],
   "source": [
    "print('The number of times \"Sun\" has been mentioned inside of the given sentence : ',l)"
   ]
  },
  {
   "cell_type": "code",
   "execution_count": null,
   "id": "f59c2a27-de3d-4caa-a7e7-d426d56a9df7",
   "metadata": {},
   "outputs": [],
   "source": []
  },
  {
   "cell_type": "code",
   "execution_count": null,
   "id": "9c9b59ea-3b7e-4b5b-ae39-6f0ada385a06",
   "metadata": {},
   "outputs": [],
   "source": []
  },
  {
   "cell_type": "code",
   "execution_count": 3,
   "id": "4271fa4c-71c5-4b6e-9c36-765e9cb76823",
   "metadata": {},
   "outputs": [
    {
     "name": "stdin",
     "output_type": "stream",
     "text": [
      "Enter the sentence of your choice : I am going for a walk right now\n",
      "Enter the word to be found : Walk\n"
     ]
    }
   ],
   "source": [
    "s = input('Enter the sentence of your choice :')\n",
    "\n",
    "w = input('Enter the word to be found :')"
   ]
  },
  {
   "cell_type": "code",
   "execution_count": 4,
   "id": "7f58283c-cb8e-4bcb-a7bc-f5a93b2f6112",
   "metadata": {},
   "outputs": [
    {
     "name": "stdout",
     "output_type": "stream",
     "text": [
      "The desired word  Walk  is found at position :  5\n"
     ]
    }
   ],
   "source": [
    "s1 = s.lower()\n",
    "w1 = w.lower()\n",
    "\n",
    "wordlist = s1.split()\n",
    "\n",
    "pos = (-1)\n",
    "\n",
    "for index,word in enumerate(wordlist):\n",
    "    if word == w1 :\n",
    "        pos = index\n",
    "        break\n",
    "        \n",
    "\n",
    "if pos != (-1):\n",
    "    print(\"The desired word \", w,\" is found at position : \", pos)\n",
    "else:\n",
    "    print(\"The word \", w,\" is not present in the sentence\")"
   ]
  },
  {
   "cell_type": "code",
   "execution_count": null,
   "id": "02b5f18a-0085-4fa8-bc09-8dd43c17708a",
   "metadata": {},
   "outputs": [],
   "source": []
  },
  {
   "cell_type": "code",
   "execution_count": null,
   "id": "b1122b85-0aab-4d6a-81f5-407fdcc80417",
   "metadata": {},
   "outputs": [],
   "source": []
  },
  {
   "cell_type": "code",
   "execution_count": 5,
   "id": "f58c0fd6-9a89-4721-9265-1cd48799520e",
   "metadata": {},
   "outputs": [
    {
     "name": "stdin",
     "output_type": "stream",
     "text": [
      "Enter the sentence of your choice : Water is dripping from the faucet, it's almost dripping diamonds from the water that be coming out of the faucet\n",
      "Enter the word to be found : Water\n"
     ]
    }
   ],
   "source": [
    "s = input('Enter the sentence of your choice :')\n",
    "w = input('Enter the word to be found :')\n"
   ]
  },
  {
   "cell_type": "code",
   "execution_count": 10,
   "id": "9f03a910-d63e-42c7-96c9-0eed622f37db",
   "metadata": {},
   "outputs": [
    {
     "name": "stdout",
     "output_type": "stream",
     "text": [
      "The desired word ' Water ' was found at position :  12\n"
     ]
    }
   ],
   "source": [
    "s1 = s.lower()\n",
    "w1 = w.lower()\n",
    "s2 = s1.split()\n",
    "pos = (-1)\n",
    "\n",
    "\n",
    "for index in range(len(s2) - 1, -1, -1):\n",
    "    if s2[index] == w1:\n",
    "        pos = index\n",
    "        break\n",
    "        \n",
    "\n",
    "if pos != (-1):\n",
    "    print(\"The desired word '\",w,\"' was found at position : \", pos)\n",
    "else :\n",
    "    print(\"The given word '\",w,\"' was not found in the given sentence.\")"
   ]
  },
  {
   "cell_type": "code",
   "execution_count": null,
   "id": "39d9ea8a-c561-4760-836b-db04298d59a3",
   "metadata": {},
   "outputs": [],
   "source": []
  },
  {
   "cell_type": "code",
   "execution_count": null,
   "id": "dcb7d490-78ab-445a-899a-427bd11d316d",
   "metadata": {},
   "outputs": [],
   "source": []
  },
  {
   "cell_type": "code",
   "execution_count": 11,
   "id": "08d91fe7-ca9a-4bd3-a075-50a2f4229267",
   "metadata": {},
   "outputs": [
    {
     "name": "stdin",
     "output_type": "stream",
     "text": [
      "Enter your desired sentence :  It's the west side, and we repping 4l 24/7\n"
     ]
    }
   ],
   "source": [
    "s = input('Enter your desired sentence : ')"
   ]
  },
  {
   "cell_type": "code",
   "execution_count": 12,
   "id": "34aeca73-ae3d-48f1-99e2-a681f2931e3c",
   "metadata": {},
   "outputs": [
    {
     "name": "stdout",
     "output_type": "stream",
     "text": [
      "The string \"s\" is split and this is the result :  [\"It's\", 'the', 'west', 'side,', 'and', 'we', 'repping', '4l', '24/7']\n"
     ]
    }
   ],
   "source": [
    "s1 = s.split()\n",
    "\n",
    "print('The string \"s\" is split and this is the result : ',s1)"
   ]
  },
  {
   "cell_type": "code",
   "execution_count": null,
   "id": "41a446a6-bc86-4134-99e9-c8d562c9b683",
   "metadata": {},
   "outputs": [],
   "source": []
  },
  {
   "cell_type": "code",
   "execution_count": null,
   "id": "b826b84a-b265-4dd2-b96f-4e60db1022b8",
   "metadata": {},
   "outputs": [],
   "source": []
  },
  {
   "cell_type": "code",
   "execution_count": 17,
   "id": "3b3fdd79-77dd-4af7-8b81-9b418ad55082",
   "metadata": {},
   "outputs": [
    {
     "name": "stdout",
     "output_type": "stream",
     "text": [
      "The newly formed sentence is :  Making these youngins learn the way of truth\n"
     ]
    }
   ],
   "source": [
    "l = ['Making', 'these', 'youngins', 'learn', 'the', 'way', 'of', 'truth']\n",
    "\n",
    "s = \"\"\n",
    "\n",
    "for word in l:\n",
    "    s =  s + word + \" \"\n",
    "    \n",
    "s1 = s.rstrip()\n",
    "\n",
    "print(\"The newly formed sentence is : \", s1)\n"
   ]
  },
  {
   "cell_type": "code",
   "execution_count": null,
   "id": "3aff5480-442f-4588-ad4c-4b4bb2388580",
   "metadata": {},
   "outputs": [],
   "source": []
  },
  {
   "cell_type": "code",
   "execution_count": null,
   "id": "ad785ba8-ad43-4611-995e-b35418204203",
   "metadata": {},
   "outputs": [],
   "source": []
  },
  {
   "cell_type": "code",
   "execution_count": 18,
   "id": "c4ad1eaa-4477-425c-9e4b-c5556f2f6542",
   "metadata": {},
   "outputs": [
    {
     "name": "stdin",
     "output_type": "stream",
     "text": [
      "Enter the sentence of your desire :  Just waking up in the morning gotta thank God\n"
     ]
    },
    {
     "name": "stdout",
     "output_type": "stream",
     "text": [
      "The new sentence is :  Just_waking_up_in_the_morning_gotta_thank_God\n"
     ]
    }
   ],
   "source": [
    "s = input('Enter the sentence of your desire : ')\n",
    "\n",
    "s1 = s.replace(' ','_')\n",
    "\n",
    "print('The new sentence is : ', s1)"
   ]
  },
  {
   "cell_type": "code",
   "execution_count": null,
   "id": "2b8847ac-b355-400b-92aa-e68793007187",
   "metadata": {},
   "outputs": [],
   "source": []
  },
  {
   "cell_type": "code",
   "execution_count": null,
   "id": "17716ae7-2183-45a8-944e-2c90e54537fa",
   "metadata": {},
   "outputs": [],
   "source": []
  },
  {
   "cell_type": "code",
   "execution_count": 19,
   "id": "c2a20878-f55a-4441-8774-29bf22ea982f",
   "metadata": {},
   "outputs": [
    {
     "name": "stdin",
     "output_type": "stream",
     "text": [
      "Enter the sentence of your choice :  Hey I have been looking for you\n"
     ]
    }
   ],
   "source": [
    "s = input('Enter the sentence of your choice : ')"
   ]
  },
  {
   "cell_type": "code",
   "execution_count": 24,
   "id": "2a559dde-f380-4dbe-9509-542ad9b0a8ef",
   "metadata": {},
   "outputs": [
    {
     "name": "stdin",
     "output_type": "stream",
     "text": [
      "Enter the word to be checked for :  Hey\n"
     ]
    }
   ],
   "source": [
    "w = input('Enter the word to be checked for : ')\n"
   ]
  },
  {
   "cell_type": "code",
   "execution_count": 26,
   "id": "28db851d-c797-48fb-bfc7-a361fcdc97d7",
   "metadata": {},
   "outputs": [
    {
     "name": "stdout",
     "output_type": "stream",
     "text": [
      "The word is present inside the string\n"
     ]
    }
   ],
   "source": [
    "s1 = s.lower()\n",
    "w1 = w.lower()\n",
    "\n",
    "if s1.startswith(w1):\n",
    "    print('The word is present inside the string')\n",
    "else:\n",
    "    print('The word is not present')"
   ]
  },
  {
   "cell_type": "code",
   "execution_count": null,
   "id": "0ee52ee9-2f72-4304-9809-ede76b72d692",
   "metadata": {},
   "outputs": [],
   "source": []
  },
  {
   "cell_type": "code",
   "execution_count": null,
   "id": "16bab4c9-60c4-48ac-9b7b-b76d8ee0d1d3",
   "metadata": {},
   "outputs": [],
   "source": []
  },
  {
   "cell_type": "code",
   "execution_count": 2,
   "id": "10240c6e-539e-4580-8250-5c599b9fb876",
   "metadata": {},
   "outputs": [
    {
     "name": "stdin",
     "output_type": "stream",
     "text": [
      "Enter the sentence of your choice :  Run up the racks and I'm going\n",
      "Enter the word to be searched for :  GoiNG\n"
     ]
    },
    {
     "name": "stdout",
     "output_type": "stream",
     "text": [
      "The given sentence ends with the test case word\n"
     ]
    }
   ],
   "source": [
    "s = input('Enter the sentence of your choice : ')\n",
    "w = input('Enter the word to be searched for : ')\n",
    "\n",
    "s1 = s.lower()\n",
    "w1 = w.lower()\n",
    "\n",
    "if s1.endswith(w1):\n",
    "    print('The given sentence ends with the test case word')\n",
    "else:\n",
    "    print('The test case word is not present inside of the sentence')"
   ]
  },
  {
   "cell_type": "code",
   "execution_count": null,
   "id": "815353fa-1007-4679-9f54-91df4bdb79bb",
   "metadata": {},
   "outputs": [],
   "source": []
  },
  {
   "cell_type": "code",
   "execution_count": null,
   "id": "b646eba9-b14e-45c4-ac1e-3ab78f40ff07",
   "metadata": {},
   "outputs": [],
   "source": []
  },
  {
   "cell_type": "code",
   "execution_count": 4,
   "id": "de2adb24-0497-4eec-a97e-3e17765fa85c",
   "metadata": {},
   "outputs": [
    {
     "name": "stdin",
     "output_type": "stream",
     "text": [
      "Enter your desired string :  We do that stick talk\n"
     ]
    },
    {
     "name": "stdout",
     "output_type": "stream",
     "text": [
      "The original input is :  We do that stick talk\n",
      "The transformed input is :  WE DO THAT STICK TALK\n"
     ]
    }
   ],
   "source": [
    "s = input('Enter your desired string : ')\n",
    "\n",
    "s1 = s.upper()\n",
    "\n",
    "print('The original input is : ', s)\n",
    "print('The transformed input is : ', s1)"
   ]
  },
  {
   "cell_type": "code",
   "execution_count": null,
   "id": "c176610b-85d8-4c93-bb50-eee1c8553aa3",
   "metadata": {},
   "outputs": [],
   "source": []
  },
  {
   "cell_type": "code",
   "execution_count": null,
   "id": "d2e2fb8c-bbaf-42f9-85f6-bbc0e0a71a08",
   "metadata": {},
   "outputs": [],
   "source": []
  },
  {
   "cell_type": "code",
   "execution_count": 5,
   "id": "2fc25356-0abf-4d18-ac54-b02acff4b7ca",
   "metadata": {},
   "outputs": [
    {
     "name": "stdin",
     "output_type": "stream",
     "text": [
      "Enter the string of your desire :  Ghostface Killee 21 news gang\n"
     ]
    },
    {
     "name": "stdout",
     "output_type": "stream",
     "text": [
      "The longest word in the string is :  Ghostface\n"
     ]
    }
   ],
   "source": [
    "s = input('Enter the string of your desire : ')\n",
    "w = s.split()\n",
    "lw = max(w,key=len)\n",
    "print('The longest word in the string is : ',lw)"
   ]
  },
  {
   "cell_type": "code",
   "execution_count": null,
   "id": "f4f546c9-a137-41a3-bc79-2acb65a7a675",
   "metadata": {},
   "outputs": [],
   "source": []
  },
  {
   "cell_type": "code",
   "execution_count": null,
   "id": "60cd4521-ffb5-4eb2-bccc-af098af64095",
   "metadata": {},
   "outputs": [],
   "source": []
  },
  {
   "cell_type": "code",
   "execution_count": 6,
   "id": "9f37a497-8bfb-40b4-afba-e654b09f44e9",
   "metadata": {},
   "outputs": [
    {
     "name": "stdin",
     "output_type": "stream",
     "text": [
      "Enter the string of your desire :  Im your mister miyagii\n"
     ]
    },
    {
     "name": "stdout",
     "output_type": "stream",
     "text": [
      "The shortest word in the string is :  Im\n"
     ]
    }
   ],
   "source": [
    "s = input('Enter the string of your desire : ')\n",
    "w = s.split()\n",
    "sw = min(w,key=len)\n",
    "print('The shortest word in the string is : ', sw)"
   ]
  },
  {
   "cell_type": "code",
   "execution_count": null,
   "id": "e2844a2a-de33-442d-a099-43a400fff421",
   "metadata": {},
   "outputs": [],
   "source": []
  },
  {
   "cell_type": "code",
   "execution_count": null,
   "id": "4b4fb04e-29ae-4c4b-b50d-11acfb3646b1",
   "metadata": {},
   "outputs": [],
   "source": []
  },
  {
   "cell_type": "code",
   "execution_count": 7,
   "id": "fb1233a0-bf11-4279-a85b-1bec03d149d5",
   "metadata": {},
   "outputs": [
    {
     "name": "stdin",
     "output_type": "stream",
     "text": [
      "Enter your desired string :  I'm from the future \n"
     ]
    },
    {
     "name": "stdout",
     "output_type": "stream",
     "text": [
      "The original string is :  I'm from the future \n",
      "The reversed string is :  future the from I'm\n"
     ]
    }
   ],
   "source": [
    "s = input('Enter your desired string : ')\n",
    "w = s.split()\n",
    "rw = w[::-1]\n",
    "rs = ' '.join(rw)\n",
    "print('The original string is : ', s)\n",
    "print('The reversed string is : ', rs)"
   ]
  },
  {
   "cell_type": "code",
   "execution_count": null,
   "id": "f973c3b2-a468-44be-8458-aa0c3489b65f",
   "metadata": {},
   "outputs": [],
   "source": []
  },
  {
   "cell_type": "code",
   "execution_count": null,
   "id": "c5f8162c-aebd-4d17-9627-86772b50d2b7",
   "metadata": {},
   "outputs": [],
   "source": []
  },
  {
   "cell_type": "code",
   "execution_count": 8,
   "id": "6876d771-949c-4853-a312-1e354c8c222d",
   "metadata": {},
   "outputs": [
    {
     "name": "stdin",
     "output_type": "stream",
     "text": [
      "Enter the string of your desire :  Alpha623\n"
     ]
    },
    {
     "name": "stdout",
     "output_type": "stream",
     "text": [
      "The string is alphanumeric in nature\n"
     ]
    }
   ],
   "source": [
    "s = input('Enter the string of your desire : ')\n",
    "\n",
    "if s.isalnum():\n",
    "    print('The string is alphanumeric in nature')\n",
    "else:\n",
    "    print('The string is not alphanumeric in nature')"
   ]
  },
  {
   "cell_type": "code",
   "execution_count": null,
   "id": "e7cf484e-edf3-4d5a-8c56-b22327f3b16f",
   "metadata": {},
   "outputs": [],
   "source": []
  },
  {
   "cell_type": "code",
   "execution_count": null,
   "id": "189ace5f-aee1-40cb-9b7f-c65a1ea5f716",
   "metadata": {},
   "outputs": [],
   "source": []
  },
  {
   "cell_type": "code",
   "execution_count": 10,
   "id": "40a97420-0226-4cfe-918b-172817ef5b7d",
   "metadata": {},
   "outputs": [
    {
     "name": "stdin",
     "output_type": "stream",
     "text": [
      "Enter the string of your desire :  Its 1975 and Im riding down the 420th avenue\n"
     ]
    },
    {
     "name": "stdout",
     "output_type": "stream",
     "text": [
      "The original string is :  Its 1975 and Im riding down the 420th avenue\n",
      "The extracted digits are :  ['1', '9', '7', '5', '4', '2', '0']\n"
     ]
    }
   ],
   "source": [
    "s = input('Enter the string of your desire : ')\n",
    "\n",
    "extnum = []\n",
    "\n",
    "for char in s:\n",
    "    if char.isdigit():\n",
    "        extnum.append(char)\n",
    "        \n",
    "print('The original string is : ', s)\n",
    "print('The extracted digits are : ', extnum)"
   ]
  },
  {
   "cell_type": "code",
   "execution_count": null,
   "id": "9dabedfb-80f0-4092-9595-509a31fb54e7",
   "metadata": {},
   "outputs": [],
   "source": []
  },
  {
   "cell_type": "code",
   "execution_count": null,
   "id": "07fc1020-6392-4fed-800b-509efb8dc2c3",
   "metadata": {},
   "outputs": [],
   "source": []
  },
  {
   "cell_type": "code",
   "execution_count": 12,
   "id": "9e0aae41-5404-40f2-b777-6785fb7beb68",
   "metadata": {},
   "outputs": [
    {
     "name": "stdin",
     "output_type": "stream",
     "text": [
      "Enter the string of your desire :  Its 1975 and Im riding down the 420th avenue\n"
     ]
    },
    {
     "name": "stdout",
     "output_type": "stream",
     "text": [
      "The original string is :  Its 1975 and Im riding down the 420th avenue\n",
      "The extracted alphabets are :  ['I', 't', 's', 'a', 'n', 'd', 'I', 'm', 'r', 'i', 'd', 'i', 'n', 'g', 'd', 'o', 'w', 'n', 't', 'h', 'e', 't', 'h', 'a', 'v', 'e', 'n', 'u', 'e']\n"
     ]
    }
   ],
   "source": [
    "s = input('Enter the string of your desire : ')\n",
    "\n",
    "extalpha = []\n",
    "\n",
    "for char in s:\n",
    "    if char.isalpha():\n",
    "        extalpha.append(char)\n",
    "        \n",
    "print('The original string is : ', s)\n",
    "print('The extracted alphabets are : ', extalpha)"
   ]
  },
  {
   "cell_type": "code",
   "execution_count": null,
   "id": "caaa2161-9f9c-4d92-ad02-92dc07cb6136",
   "metadata": {},
   "outputs": [],
   "source": []
  },
  {
   "cell_type": "code",
   "execution_count": null,
   "id": "be7c80b2-4c5e-4c3d-92eb-2cb5f47bb848",
   "metadata": {},
   "outputs": [],
   "source": []
  },
  {
   "cell_type": "code",
   "execution_count": 14,
   "id": "88f4995e-84de-4d6e-8afd-84f3b8742707",
   "metadata": {},
   "outputs": [
    {
     "name": "stdin",
     "output_type": "stream",
     "text": [
      "Enter the desired string :  Its 1975 and Im Riding Down the 420th Avenue\n"
     ]
    },
    {
     "name": "stdout",
     "output_type": "stream",
     "text": [
      "The original string is : Its 1975 and Im Riding Down the 420th Avenue\n",
      "The count of extracted characters is : 5\n"
     ]
    }
   ],
   "source": [
    "s = input('Enter the desired string : ')\n",
    "\n",
    "count = 0\n",
    "\n",
    "for char in s:\n",
    "    if char.isupper():\n",
    "        count =  count + 1\n",
    "\n",
    "print('The original string is :', s)\n",
    "print('The count of extracted characters is :', count)"
   ]
  },
  {
   "cell_type": "code",
   "execution_count": null,
   "id": "75923852-ced5-4776-b30c-35a5b6b5484d",
   "metadata": {},
   "outputs": [],
   "source": []
  },
  {
   "cell_type": "code",
   "execution_count": null,
   "id": "d83da20d-3b60-4673-9428-11744025ef91",
   "metadata": {},
   "outputs": [],
   "source": []
  },
  {
   "cell_type": "code",
   "execution_count": 17,
   "id": "8f02aa6e-dacd-498b-8c76-5aa993badb9c",
   "metadata": {},
   "outputs": [
    {
     "name": "stdin",
     "output_type": "stream",
     "text": [
      "Enter the desired string :  Its 1975 and Im Riding Down the 420th Avenue\n"
     ]
    },
    {
     "name": "stdout",
     "output_type": "stream",
     "text": [
      "The original string is : Its 1975 and Im Riding Down the 420th Avenue\n",
      "The count of extracted characters is : 24\n"
     ]
    }
   ],
   "source": [
    "s = input('Enter the desired string : ')\n",
    "\n",
    "count = 0\n",
    "\n",
    "for char in s:\n",
    "    if char.islower():\n",
    "        count =  count + 1\n",
    "\n",
    "print('The original string is :', s)\n",
    "print('The count of extracted characters is :', count)"
   ]
  },
  {
   "cell_type": "code",
   "execution_count": null,
   "id": "227eccec-dc63-45ef-acd2-e971d56b7573",
   "metadata": {},
   "outputs": [],
   "source": []
  },
  {
   "cell_type": "code",
   "execution_count": null,
   "id": "90e1ecaf-3dc2-4694-a1bd-c6dab8da77f0",
   "metadata": {},
   "outputs": [],
   "source": []
  },
  {
   "cell_type": "code",
   "execution_count": 18,
   "id": "7ea2444e-fcdf-4273-bbd1-640cb911aad5",
   "metadata": {},
   "outputs": [
    {
     "name": "stdin",
     "output_type": "stream",
     "text": [
      "Enter the string of your desire :  Its 1975 and Im Riding Down the 420th Avenue\n"
     ]
    },
    {
     "name": "stdout",
     "output_type": "stream",
     "text": [
      "The original string is :  Its 1975 and Im Riding Down the 420th Avenue\n",
      "The resltant after swapping : iTS 1975 AND iM rIDING dOWN THE 420TH aVENUE\n"
     ]
    }
   ],
   "source": [
    "s = input('Enter the string of your desire : ')\n",
    "\n",
    "swapcasestr = s.swapcase()\n",
    "\n",
    "print('The original string is : ', s)\n",
    "print('The resltant after swapping :', swapcasestr)"
   ]
  },
  {
   "cell_type": "code",
   "execution_count": null,
   "id": "e816940b-db4c-4f8a-b6a4-9eb98a1e76f5",
   "metadata": {},
   "outputs": [],
   "source": []
  },
  {
   "cell_type": "code",
   "execution_count": null,
   "id": "f1237b67-0de7-4206-b45f-00b57ec65a5f",
   "metadata": {},
   "outputs": [],
   "source": []
  },
  {
   "cell_type": "code",
   "execution_count": 22,
   "id": "98bf38f6-61fd-46fe-a8e4-74a4b01c8849",
   "metadata": {},
   "outputs": [
    {
     "name": "stdin",
     "output_type": "stream",
     "text": [
      "Enter the desired string :  Its 1975 and Im Riding Down the 420th Avenue\n",
      "Enter the word to be removed : Avenue\n"
     ]
    },
    {
     "name": "stdout",
     "output_type": "stream",
     "text": [
      "The old string : Its 1975 and Im Riding Down the 420th Avenue\n",
      "The new string :  Its 1975 and Im Riding Down the 420th \n"
     ]
    }
   ],
   "source": [
    "s = input('Enter the desired string : ')\n",
    "w = input('Enter the word to be removed :')\n",
    "\n",
    "s1 = s.replace(w,'')\n",
    "\n",
    "print('The old string :', s)\n",
    "print('The new string : ', s1)\n"
   ]
  },
  {
   "cell_type": "code",
   "execution_count": null,
   "id": "55f79d73-3cd8-4044-882c-e56509bf352d",
   "metadata": {},
   "outputs": [],
   "source": []
  },
  {
   "cell_type": "code",
   "execution_count": null,
   "id": "ddbdfcd9-373e-42b5-be4b-fe3c50f6bd7a",
   "metadata": {},
   "outputs": [],
   "source": []
  },
  {
   "cell_type": "code",
   "execution_count": 23,
   "id": "9f6c25bb-5243-4a54-9639-a99f17abb14f",
   "metadata": {},
   "outputs": [
    {
     "name": "stdout",
     "output_type": "stream",
     "text": [
      "Collecting validate_email\n",
      "  Downloading validate_email-1.3.tar.gz (4.7 kB)\n",
      "  Preparing metadata (setup.py) ... \u001b[?25ldone\n",
      "\u001b[?25hBuilding wheels for collected packages: validate_email\n",
      "  Building wheel for validate_email (setup.py) ... \u001b[?25ldone\n",
      "\u001b[?25h  Created wheel for validate_email: filename=validate_email-1.3-py3-none-any.whl size=5467 sha256=e92b2b95639ecdc74aaa2ee43d9154a7ac16ca2e0befc19598ccc14458ccc1fa\n",
      "  Stored in directory: /home/jovyan/.cache/pip/wheels/2a/7c/c9/0a5b1d17f87faadbf9c515122c4916f1f5b2cd34fca25b90af\n",
      "Successfully built validate_email\n",
      "Installing collected packages: validate_email\n",
      "Successfully installed validate_email-1.3\n",
      "Note: you may need to restart the kernel to use updated packages.\n"
     ]
    }
   ],
   "source": [
    "pip install validate_email"
   ]
  },
  {
   "cell_type": "code",
   "execution_count": 25,
   "id": "72672dc6-801f-413b-856f-53a03deb0ccb",
   "metadata": {},
   "outputs": [
    {
     "name": "stdin",
     "output_type": "stream",
     "text": [
      "Enter your email address :  ayonc1099@gmail.com\n"
     ]
    },
    {
     "name": "stdout",
     "output_type": "stream",
     "text": [
      "User has given a valid email address\n"
     ]
    }
   ],
   "source": [
    "from validate_email import validate_email\n",
    "\n",
    "s = input('Enter your email address : ')\n",
    "\n",
    "if validate_email(s):\n",
    "    print('User has given a valid email address')\n",
    "else :\n",
    "    print('Not an email id')"
   ]
  },
  {
   "cell_type": "code",
   "execution_count": null,
   "id": "e092606f-400c-4c42-b8f7-cb5b4a35689c",
   "metadata": {},
   "outputs": [],
   "source": []
  },
  {
   "cell_type": "code",
   "execution_count": null,
   "id": "2224b48a-c76b-4ac9-a31a-520ef82769df",
   "metadata": {},
   "outputs": [],
   "source": []
  },
  {
   "cell_type": "code",
   "execution_count": 2,
   "id": "fb0c564d-0239-48ce-986f-7b0ddfdeecc5",
   "metadata": {},
   "outputs": [
    {
     "name": "stdin",
     "output_type": "stream",
     "text": [
      "Enter the email :  ayonc1099@gmail.com\n"
     ]
    },
    {
     "name": "stdout",
     "output_type": "stream",
     "text": [
      "Username :  ayonc1099\n"
     ]
    }
   ],
   "source": [
    "def extract(ex):\n",
    "    p = ex.split('@')\n",
    "    if len(p)==2:\n",
    "        return p[0]\n",
    "    else:\n",
    "        return None\n",
    "    \n",
    "email = input('Enter the email : ')\n",
    "username = extract(email)\n",
    "\n",
    "if username :\n",
    "    print('Username : ', username)\n",
    "else:\n",
    "    print('No user name ')"
   ]
  },
  {
   "cell_type": "code",
   "execution_count": null,
   "id": "f12896d9-8908-4e35-986f-9c83f1321c10",
   "metadata": {},
   "outputs": [],
   "source": []
  },
  {
   "cell_type": "code",
   "execution_count": null,
   "id": "6ed0bc9e-1f47-4bf2-8a21-f27290984592",
   "metadata": {},
   "outputs": [],
   "source": []
  },
  {
   "cell_type": "code",
   "execution_count": 3,
   "id": "1e4e78a4-0560-4de0-b5d0-1dba7b69cfaf",
   "metadata": {},
   "outputs": [
    {
     "name": "stdin",
     "output_type": "stream",
     "text": [
      "Enter the email :  ayonc1099@gmail.com\n"
     ]
    },
    {
     "name": "stdout",
     "output_type": "stream",
     "text": [
      "Domain :  gmail.com\n"
     ]
    }
   ],
   "source": [
    "def extract(ex):\n",
    "    p = ex.split('@')\n",
    "    if len(p)==2:\n",
    "        return p[1]\n",
    "    else:\n",
    "        return None\n",
    "    \n",
    "email = input('Enter the email : ')\n",
    "domain = extract(email)\n",
    "\n",
    "if username :\n",
    "    print('Domain : ', domain)\n",
    "else:\n",
    "    print('No user name ')"
   ]
  },
  {
   "cell_type": "code",
   "execution_count": null,
   "id": "b56cf2fc-8bd1-4c4f-beab-ec5e33542025",
   "metadata": {},
   "outputs": [],
   "source": []
  },
  {
   "cell_type": "code",
   "execution_count": null,
   "id": "8092f42f-4d56-4013-a148-293cd1f553f1",
   "metadata": {},
   "outputs": [],
   "source": []
  },
  {
   "cell_type": "code",
   "execution_count": 4,
   "id": "ea3bddeb-20d5-449b-93d6-86d6f02ad25d",
   "metadata": {},
   "outputs": [
    {
     "name": "stdin",
     "output_type": "stream",
     "text": [
      "Enter the string of your choice with multiple spaces :  There's    no  space    like    home\n"
     ]
    },
    {
     "name": "stdout",
     "output_type": "stream",
     "text": [
      "The modified string is :  There's no space like home\n"
     ]
    }
   ],
   "source": [
    "def addsinglespace(s):\n",
    "    w1 = s.split()\n",
    "    s1 = ' '.join(w1)\n",
    "    return s1\n",
    "    \n",
    "s = input('Enter the string of your choice with multiple spaces : ')\n",
    "s1 = addsinglespace(s)\n",
    "print('The modified string is : ', s1)"
   ]
  },
  {
   "cell_type": "code",
   "execution_count": null,
   "id": "7a99e6c6-1e3a-4f07-982a-7f7c3fa76bb7",
   "metadata": {},
   "outputs": [],
   "source": []
  },
  {
   "cell_type": "code",
   "execution_count": null,
   "id": "5cc99656-6328-4d29-b7bd-b18c37f79726",
   "metadata": {},
   "outputs": [],
   "source": []
  },
  {
   "cell_type": "code",
   "execution_count": 6,
   "id": "9eb55187-7e54-4a83-b1f5-7749c026dd89",
   "metadata": {},
   "outputs": [
    {
     "name": "stdin",
     "output_type": "stream",
     "text": [
      "Input the email of your choice :  https://www.google.com/\n"
     ]
    },
    {
     "name": "stdout",
     "output_type": "stream",
     "text": [
      "Valid URl\n"
     ]
    }
   ],
   "source": [
    "from urllib.parse import urlparse\n",
    "\n",
    "def check_url(url):\n",
    "    try:\n",
    "        result = urlparse(url)\n",
    "        return all ([result.scheme, result.netloc])\n",
    "    except ValueError:\n",
    "        return False\n",
    "    \n",
    "\n",
    "url = input('Input the email of your choice : ')\n",
    "\n",
    "if check_url(url):\n",
    "    print('Valid URl')\n",
    "else :\n",
    "    print('Invalid URL')\n",
    "    \n",
    "    \n",
    "    \n",
    "   "
   ]
  },
  {
   "cell_type": "code",
   "execution_count": null,
   "id": "8d049d1b-2eaf-4846-b028-52ae65d1f294",
   "metadata": {},
   "outputs": [],
   "source": []
  },
  {
   "cell_type": "code",
   "execution_count": null,
   "id": "8e32fe3c-9835-4f51-9897-372ec8e13398",
   "metadata": {},
   "outputs": [],
   "source": []
  },
  {
   "cell_type": "code",
   "execution_count": 1,
   "id": "86ce628f-e0f0-41a9-8f57-9775901f7db9",
   "metadata": {},
   "outputs": [
    {
     "name": "stdin",
     "output_type": "stream",
     "text": [
      "Enter URL of your choice :  https://www.youtube.com/watch?v=vsoYlH1_hbc&list=PLWPirh4EWFpHk70zwYoHu87uVsCC8E2S-\n"
     ]
    },
    {
     "name": "stdout",
     "output_type": "stream",
     "text": [
      "The extracted protocol is :  https\n"
     ]
    }
   ],
   "source": [
    "url = input('Enter URL of your choice : ')\n",
    "\n",
    "protocolend = url.find('://')\n",
    "\n",
    "if protocolend != -1 :\n",
    "    protocol = url[:protocolend]\n",
    "    print('The extracted protocol is : ',protocol)\n",
    "else:\n",
    "    print('No protocol exists')"
   ]
  },
  {
   "cell_type": "code",
   "execution_count": null,
   "id": "66ad7004-1b3a-4515-82d9-9a36f88785f9",
   "metadata": {},
   "outputs": [],
   "source": []
  },
  {
   "cell_type": "code",
   "execution_count": null,
   "id": "01cc5d78-b0fb-4101-8265-eb491c0caeaa",
   "metadata": {},
   "outputs": [],
   "source": []
  },
  {
   "cell_type": "code",
   "execution_count": 3,
   "id": "a04fecb4-1a56-44b9-805a-2bb255b7bb01",
   "metadata": {},
   "outputs": [
    {
     "name": "stdin",
     "output_type": "stream",
     "text": [
      "Enter the string of your choice :  Enabling MFA adds an extra layer of security by requiring additional verification beyond just a password.\n"
     ]
    },
    {
     "name": "stdout",
     "output_type": "stream",
     "text": [
      "'E':1\n",
      "'n':7\n",
      "'a':10\n",
      "'b':3\n",
      "'l':3\n",
      "'i':9\n",
      "'g':2\n",
      "' ':15\n",
      "'M':1\n",
      "'F':1\n",
      "'A':1\n",
      "'d':6\n",
      "'s':5\n",
      "'e':6\n",
      "'x':1\n",
      "'t':5\n",
      "'r':7\n",
      "'y':4\n",
      "'o':5\n",
      "'f':2\n",
      "'c':2\n",
      "'u':3\n",
      "'q':1\n",
      "'v':1\n",
      "'j':1\n",
      "'p':1\n",
      "'w':1\n",
      "'.':1\n"
     ]
    }
   ],
   "source": [
    "from collections import Counter\n",
    "\n",
    "s = input('Enter the string of your choice : ')\n",
    "\n",
    "frequency_counter  = Counter(s)\n",
    "\n",
    "for char, count in frequency_counter.items():\n",
    "    print(f\"'{char}':{count}\")"
   ]
  },
  {
   "cell_type": "code",
   "execution_count": null,
   "id": "0a80fcaa-605e-42e7-a3a0-2ce361f3b520",
   "metadata": {},
   "outputs": [],
   "source": []
  },
  {
   "cell_type": "code",
   "execution_count": null,
   "id": "e3b51320-e60b-4008-b6ff-f9346d0730b5",
   "metadata": {},
   "outputs": [],
   "source": []
  },
  {
   "cell_type": "code",
   "execution_count": 8,
   "id": "694ae561-fda1-43ab-a7c5-5d798c0e0501",
   "metadata": {},
   "outputs": [
    {
     "name": "stdin",
     "output_type": "stream",
     "text": [
      "Enter the string of your choice :  As intimate, sensitive, and private information takes up residence within the digital realm, the pressing necessity for adept cybersecurity stands as an irrefutable truth — a barrier shielding against potential threats and a pledge of upholding privacy within an ever-more fragile landscape.\n"
     ]
    },
    {
     "name": "stdout",
     "output_type": "stream",
     "text": [
      "The cleaned string :  As intimate sensitive and private information takes up residence within the digital realm the pressing necessity for adept cybersecurity stands as an irrefutable truth — a barrier shielding against potential threats and a pledge of upholding privacy within an evermore fragile landscape\n"
     ]
    }
   ],
   "source": [
    "import string \n",
    "\n",
    "def removepunc(inputstring):\n",
    "    cleanedstring = inputstring.translate(str.maketrans('','',string.punctuation))\n",
    "    return cleanedstring\n",
    "   \n",
    "                                          \n",
    "inputstring = input('Enter the string of your choice : ')\n",
    "cleaneds = removepunc(inputstring)\n",
    "print('The cleaned string : ',cleaneds)"
   ]
  },
  {
   "cell_type": "code",
   "execution_count": null,
   "id": "4409c037-3304-4290-a2d8-9216d14ad664",
   "metadata": {},
   "outputs": [],
   "source": []
  },
  {
   "cell_type": "code",
   "execution_count": null,
   "id": "c0e4f16e-66d9-47f6-bda9-5942a9550d5b",
   "metadata": {},
   "outputs": [],
   "source": []
  },
  {
   "cell_type": "code",
   "execution_count": 9,
   "id": "a319f822-20e6-4fe2-9868-7d9fc6c41ee4",
   "metadata": {},
   "outputs": [
    {
     "name": "stdin",
     "output_type": "stream",
     "text": [
      "Enter the string of your choice :  1234556789\n",
      "Enter the string of your choice :  Slime here 45\n"
     ]
    },
    {
     "name": "stdout",
     "output_type": "stream",
     "text": [
      "This string contains numbers only :  1234556789\n",
      "This string isnt numerically exclusive : Slime here 45\n"
     ]
    }
   ],
   "source": [
    "def checkstring(s):\n",
    "    return s.isdigit()\n",
    "\n",
    "test1 = input('Enter the string of your choice : ')\n",
    "test2 = input('Enter the string of your choice : ')\n",
    "\n",
    "if checkstring(test1):\n",
    "    print('This string contains numbers only : ',test1)\n",
    "else :\n",
    "    print('This string isnt numerically exclusive : ',test1)\n",
    "    \n",
    "if checkstring(test2):\n",
    "    print('This string contains numbers only : ', test2)\n",
    "else:\n",
    "    print('This string isnt numerically exclusive :',test2)"
   ]
  },
  {
   "cell_type": "code",
   "execution_count": null,
   "id": "4248e723-27b3-4035-8d9a-334eef0f8ec7",
   "metadata": {},
   "outputs": [],
   "source": []
  },
  {
   "cell_type": "code",
   "execution_count": null,
   "id": "5459a340-ff4c-4c6d-bdc5-4e3b68dfbf76",
   "metadata": {},
   "outputs": [],
   "source": []
  },
  {
   "cell_type": "code",
   "execution_count": 11,
   "id": "38872b8d-3a37-4bf6-a5ea-4656f03b333a",
   "metadata": {},
   "outputs": [
    {
     "name": "stdin",
     "output_type": "stream",
     "text": [
      "Enter the string of your choice :  11j di90eik\n",
      "Enter the string of your choice :  Anthony\n"
     ]
    },
    {
     "name": "stdout",
     "output_type": "stream",
     "text": [
      "This string isnt alphabetically exclusive :  11j di90eik\n",
      "This string contains alphabets only :  Anthony\n"
     ]
    }
   ],
   "source": [
    "def checkstring(s):\n",
    "    return s.isalpha()\n",
    "\n",
    "test1 = input('Enter the string of your choice : ')\n",
    "test2 = input('Enter the string of your choice : ')\n",
    "\n",
    "if checkstring(test1):\n",
    "    print('This string contains alphabets only : ',test1)\n",
    "else :\n",
    "    print('This string isnt alphabetically exclusive : ',test1)\n",
    "    \n",
    "if checkstring(test2):\n",
    "    print('This string contains alphabets only : ', test2)\n",
    "else:\n",
    "    print('This string isnt alphabetically exclusive :',test2)"
   ]
  },
  {
   "cell_type": "code",
   "execution_count": null,
   "id": "7c37c7cd-66f6-46cd-a253-d8d2eb993c6d",
   "metadata": {},
   "outputs": [],
   "source": []
  },
  {
   "cell_type": "code",
   "execution_count": null,
   "id": "9f41149e-fac4-4151-a3c6-3fde7fdcac7a",
   "metadata": {},
   "outputs": [],
   "source": []
  },
  {
   "cell_type": "code",
   "execution_count": 12,
   "id": "4b05a470-5cba-4a63-9185-6bfd1089152e",
   "metadata": {},
   "outputs": [
    {
     "name": "stdin",
     "output_type": "stream",
     "text": [
      "Enter the string of your choice :  The lengthy sample essays in the pdf link below showcase writers who, to varying degrees, took chances or simply reached higher.\n"
     ]
    },
    {
     "name": "stdout",
     "output_type": "stream",
     "text": [
      "The list of characters extracted from the string input :  ['T', 'h', 'e', ' ', 'l', 'e', 'n', 'g', 't', 'h', 'y', ' ', 's', 'a', 'm', 'p', 'l', 'e', ' ', 'e', 's', 's', 'a', 'y', 's', ' ', 'i', 'n', ' ', 't', 'h', 'e', ' ', 'p', 'd', 'f', ' ', 'l', 'i', 'n', 'k', ' ', 'b', 'e', 'l', 'o', 'w', ' ', 's', 'h', 'o', 'w', 'c', 'a', 's', 'e', ' ', 'w', 'r', 'i', 't', 'e', 'r', 's', ' ', 'w', 'h', 'o', ',', ' ', 't', 'o', ' ', 'v', 'a', 'r', 'y', 'i', 'n', 'g', ' ', 'd', 'e', 'g', 'r', 'e', 'e', 's', ',', ' ', 't', 'o', 'o', 'k', ' ', 'c', 'h', 'a', 'n', 'c', 'e', 's', ' ', 'o', 'r', ' ', 's', 'i', 'm', 'p', 'l', 'y', ' ', 'r', 'e', 'a', 'c', 'h', 'e', 'd', ' ', 'h', 'i', 'g', 'h', 'e', 'r', '.']\n"
     ]
    }
   ],
   "source": [
    "s = input('Enter the string of your choice : ')\n",
    "\n",
    "char_list = list(s)\n",
    "\n",
    "print('The list of characters extracted from the string input : ', char_list)"
   ]
  },
  {
   "cell_type": "code",
   "execution_count": null,
   "id": "918393ab-713e-4eea-af05-321515501fcd",
   "metadata": {},
   "outputs": [],
   "source": []
  },
  {
   "cell_type": "code",
   "execution_count": null,
   "id": "5cff7a20-6dc3-4e07-9e6c-b707cb417729",
   "metadata": {},
   "outputs": [],
   "source": []
  },
  {
   "cell_type": "code",
   "execution_count": 15,
   "id": "7a2e72fc-229f-43c8-a1c3-6a18a76212c0",
   "metadata": {},
   "outputs": [
    {
     "name": "stdin",
     "output_type": "stream",
     "text": [
      "Enter string of your choice :  night\n",
      "Enter string of your choice :  thing\n"
     ]
    },
    {
     "name": "stdout",
     "output_type": "stream",
     "text": [
      "The given strings are anagramic in nature\n"
     ]
    }
   ],
   "source": [
    "def checkstring(s1,s2):\n",
    "    s1 = s1.replace(' ','').lower()\n",
    "    s2 = s2.replace(' ','').lower()\n",
    "    \n",
    "    return sorted(s1)==sorted(s2)\n",
    "\n",
    "s1 = input('Enter string of your choice : ')\n",
    "s2 = input('Enter string of your choice : ')\n",
    "\n",
    "if checkstring(s1,s2):\n",
    "    print('The given strings are anagramic in nature')\n",
    "else :\n",
    "    print('The given strings are not anagramic in nature')"
   ]
  },
  {
   "cell_type": "code",
   "execution_count": null,
   "id": "19e26c56-cf5e-4e0a-ba42-cc29632b5958",
   "metadata": {},
   "outputs": [],
   "source": []
  },
  {
   "cell_type": "code",
   "execution_count": null,
   "id": "c26126fe-f310-402d-9179-b8c8067482e7",
   "metadata": {},
   "outputs": [],
   "source": []
  },
  {
   "cell_type": "code",
   "execution_count": 19,
   "id": "03bec0c1-dc98-43ea-b68f-de9f52725dca",
   "metadata": {},
   "outputs": [
    {
     "name": "stdin",
     "output_type": "stream",
     "text": [
      "Enter the text to be encrypted :  The three-page personal statement by the liberal arts student is interesting in that it is often intentionally abstract and a bit philosophical.\n",
      "Enter the value for shifting :  5\n"
     ]
    },
    {
     "name": "stdout",
     "output_type": "stream",
     "text": [
      "Encrypted Text :  Ymj ymwjj-uflj ujwxtsfq xyfyjrjsy gd ymj qngjwfq fwyx xyzijsy nx nsyjwjxynsl ns ymfy ny nx tkyjs nsyjsyntsfqqd fgxywfhy fsi f gny umnqtxtumnhfq.\n"
     ]
    }
   ],
   "source": [
    "def caesarencryption(text, shift):\n",
    "    encrypttext = ''\n",
    "    \n",
    "    for char in text :\n",
    "        if char.isalpha():\n",
    "            asciivalue = 65 if char.isupper() else 97\n",
    "            encryptchar = chr((ord(char) - asciivalue + shift)%26 + asciivalue)\n",
    "            encrypttext = encrypttext + encryptchar\n",
    "        else:\n",
    "            encrypttext = encrypttext + char\n",
    "            \n",
    "    return encrypttext\n",
    "\n",
    "text = input('Enter the text to be encrypted : ')\n",
    "shift = int(input('Enter the value for shifting : '))\n",
    "            \n",
    "encrypttext = caesarencryption(text,shift)\n",
    "            \n",
    "print('Encrypted Text : ', encrypttext)"
   ]
  },
  {
   "cell_type": "code",
   "execution_count": null,
   "id": "25711353-44a2-4121-9c9a-0c4fce60555f",
   "metadata": {},
   "outputs": [],
   "source": []
  },
  {
   "cell_type": "code",
   "execution_count": null,
   "id": "7bf14ef4-8857-43f3-b86d-7a8c5be24d12",
   "metadata": {},
   "outputs": [],
   "source": []
  },
  {
   "cell_type": "code",
   "execution_count": 23,
   "id": "e2a9c77c-0607-420e-83e5-a92269add739",
   "metadata": {},
   "outputs": [
    {
     "name": "stdin",
     "output_type": "stream",
     "text": [
      "Enter the text to be decrypted :  Ymj ymwjj-uflj ujwxtsfq xyfyjrjsy gd ymj qngjwfq fwyx xyzijsy nx nsyjwjxynsl ns ymfy ny nx tkyjs nsyjsyntsfqqd fgxywfhy fsi f gny umnqtxtumnhfq.\n",
      "Enter the value used for encryption shifting :  5\n"
     ]
    },
    {
     "name": "stdout",
     "output_type": "stream",
     "text": [
      "Encrypted Text :  Dro drboo-zkqo zobcyxkv cdkdowoxd li dro vslobkv kbdc cdenoxd sc sxdobocdsxq sx drkd sd sc ypdox sxdoxdsyxkvvi klcdbkmd kxn k lsd zrsvycyzrsmkv.\n"
     ]
    }
   ],
   "source": [
    "def caesardecryption(encryptttext, shift):\n",
    "    decrypttext = ''\n",
    "    \n",
    "    for char in encrypttext :\n",
    "        if char.isalpha():\n",
    "            asciivalue = 65 if char.isupper() else 97\n",
    "            decryptchar = chr((ord(char) + asciivalue - shift)*26 - asciivalue)\n",
    "            decrypttext = decrypttext + decryptchar\n",
    "        else:\n",
    "            decrypttext = decrypttext + char\n",
    "            \n",
    "    return encrypttext\n",
    "\n",
    "encrypttext = input('Enter the text to be decrypted : ')\n",
    "shift = int(input('Enter the value used for encryption shifting : '))\n",
    "            \n",
    "decrypttext = caesarencryption(encrypttext,shift)\n",
    "            \n",
    "print('Encrypted Text : ', decrypttext)"
   ]
  },
  {
   "cell_type": "code",
   "execution_count": null,
   "id": "bd476baf-41c6-4e7c-bdad-4f51d4644973",
   "metadata": {},
   "outputs": [],
   "source": []
  },
  {
   "cell_type": "code",
   "execution_count": null,
   "id": "f343250b-297c-489d-981b-4e2293999056",
   "metadata": {},
   "outputs": [],
   "source": [
    "\n"
   ]
  },
  {
   "cell_type": "code",
   "execution_count": 25,
   "id": "2a8eed94-ad22-4e8e-95b2-93f9608bc76c",
   "metadata": {},
   "outputs": [
    {
     "name": "stdin",
     "output_type": "stream",
     "text": [
      "Enter the string of your choice :  Red is the colour of my life. Red envelopes all my sorrows. Red  above all else. All hail Red\n"
     ]
    },
    {
     "name": "stdout",
     "output_type": "stream",
     "text": [
      "The word with the maxium frequency is :  red\n"
     ]
    }
   ],
   "source": [
    "def inputstring(s):\n",
    "    words = s.split()\n",
    "    \n",
    "    word_count = {}\n",
    "    \n",
    "    for word in words :\n",
    "        word = word.lower()\n",
    "        if word in word_count:\n",
    "            word_count[word] = word_count[word] + 1   \n",
    "        else:\n",
    "            word_count[word] = 1\n",
    "            \n",
    "            \n",
    "    max_occurence = max(word_count,key=word_count.get)\n",
    "    \n",
    "    return max_occurence\n",
    "\n",
    "\n",
    "s = input('Enter the string of your choice : ')\n",
    "\n",
    "maximumfrequencyword = inputstring(s)\n",
    "\n",
    "print('The word with the maxium frequency is : ', maximumfrequencyword)\n",
    "\n",
    "    "
   ]
  },
  {
   "cell_type": "code",
   "execution_count": null,
   "id": "d31bd3e9-6581-4075-accc-c8c89feb22c7",
   "metadata": {},
   "outputs": [],
   "source": []
  },
  {
   "cell_type": "code",
   "execution_count": null,
   "id": "fd38c633-67aa-41eb-9c28-193f75e06c8e",
   "metadata": {},
   "outputs": [],
   "source": [
    "\n"
   ]
  },
  {
   "cell_type": "code",
   "execution_count": 26,
   "id": "3a20a066-ba74-45d9-b026-550ebdbe35b0",
   "metadata": {},
   "outputs": [
    {
     "name": "stdin",
     "output_type": "stream",
     "text": [
      "Enter the string of your choice :   He has also taken a ten-day service learning trip to Costa Rica, studied at the Institute of Gandhian Studies in India, served part-time as an assistant to a member of the European Parliament, and written a paper entitled A Knowledge-Based Society and the Digital Divide.\n"
     ]
    },
    {
     "name": "stdout",
     "output_type": "stream",
     "text": [
      "The unique set of words are :  {'part-time', 'member', 'service', 'taken', 'ten-day', 'of', 'Costa', 'served', 'Gandhian', 'and', 'Society', 'in', 'the', 'a', 'European', 'Rica,', 'to', 'Divide.', 'paper', 'trip', 'an', 'entitled', 'written', 'Institute', 'Knowledge-Based', 'studied', 'India,', 'also', 'at', 'has', 'A', 'learning', 'Parliament,', 'Studies', 'Digital', 'assistant', 'He', 'as'}\n"
     ]
    }
   ],
   "source": [
    "def uniquew(s):\n",
    "    words = s.split()\n",
    "    uniquewords = set(words)\n",
    "    \n",
    "    return uniquewords\n",
    "\n",
    "s = input('Enter the string of your choice : ')\n",
    "\n",
    "uniquewords = uniquew(s)\n",
    "\n",
    "print('The unique set of words are : ', uniquewords)"
   ]
  },
  {
   "cell_type": "code",
   "execution_count": null,
   "id": "3be6def7-ced7-4b7f-887b-a3d5402d3c43",
   "metadata": {},
   "outputs": [],
   "source": []
  },
  {
   "cell_type": "code",
   "execution_count": null,
   "id": "ba97fc05-d1b2-4a05-94ac-6d44f4b78d64",
   "metadata": {},
   "outputs": [],
   "source": []
  },
  {
   "cell_type": "code",
   "execution_count": 4,
   "id": "a34d0b7a-20dc-4b4e-9702-bcd366aed0a9",
   "metadata": {},
   "outputs": [
    {
     "name": "stdin",
     "output_type": "stream",
     "text": [
      "Enter the string of your choice :  For the lengthy sample essay from the student in biological science, the extensive length and scientific depth are necessary because the student is applying for the highly competitive STAR Fellowship. \n"
     ]
    },
    {
     "name": "stdout",
     "output_type": "stream",
     "text": [
      "The total number of syllables present in the given string is :  63\n"
     ]
    }
   ],
   "source": [
    "def syllablecount(s):\n",
    "    s = s.lower()\n",
    "    count = 0\n",
    "    \n",
    "    syllablepatterns = ['ai', 'au', 'ea', 'ee', 'ei', 'eu', 'ia', 'ie', 'io', 'oa', 'oo',\n",
    "        'ou', 'ue', 'ui', 'a', 'e', 'i', 'o', 'u']\n",
    "    \n",
    "    for pattern in syllablepatterns :\n",
    "        count = count + s.count(pattern)\n",
    "        \n",
    "    if s.endswith('e'):\n",
    "        count = count - 1\n",
    "        \n",
    "    return max(count,1)\n",
    "\n",
    "s = input('Enter the string of your choice : ')\n",
    "syllablescounted = syllablecount(s)\n",
    "print('The total number of syllables present in the given string is : ', syllablescounted)"
   ]
  },
  {
   "cell_type": "code",
   "execution_count": null,
   "id": "b4c7a326-e782-4cfe-8fc3-f34da889cd1c",
   "metadata": {},
   "outputs": [],
   "source": []
  },
  {
   "cell_type": "code",
   "execution_count": null,
   "id": "058640ab-2a5d-4940-87c0-809ba3f53860",
   "metadata": {},
   "outputs": [],
   "source": []
  },
  {
   "cell_type": "code",
   "execution_count": 16,
   "id": "45dbe4a6-ddbf-4cba-ba97-d05f08e2dd30",
   "metadata": {},
   "outputs": [
    {
     "name": "stdin",
     "output_type": "stream",
     "text": [
      "Enter the string of your choice :  Hello! Are you @Ayonav?\n",
      "Enter another string of your check : Yes I am\n"
     ]
    },
    {
     "name": "stdout",
     "output_type": "stream",
     "text": [
      "Special characters are present in the string.\n",
      "Special characters are not present in the string.\n"
     ]
    }
   ],
   "source": [
    "def checkspecialcharacter(s):\n",
    "    s1 = list(s)\n",
    "    special_character_list = ['!', '@', '#', '$', '%', '^', '&', '*', '(', ')', '-', '_', '+', '=', '{', '}', '[', ']', '|', '\\\\', ':', ';', '\"', \"'\", '<', '>', ',', '.', '/', '?']\n",
    "    \n",
    "    for char in s:\n",
    "        if char in special_character_list :\n",
    "            return True\n",
    "    return False\n",
    "            \n",
    "        \n",
    "\n",
    "s = input('Enter the string of your choice : ')\n",
    "s2 = input('Enter another string of your check :')\n",
    "\n",
    "if checkspecialcharacter(s):\n",
    "    print('Special characters are present in the string.')\n",
    "else:\n",
    "    print('Special characters are not present in the string.')\n",
    "    \n",
    "if checkspecialcharacter(s2):\n",
    "    print('Special characters are present in the string.')\n",
    "else:\n",
    "    print('Special characters are not present in the string.')"
   ]
  },
  {
   "cell_type": "code",
   "execution_count": null,
   "id": "f899644d-832a-4074-b012-c9e34e01d9ce",
   "metadata": {},
   "outputs": [],
   "source": []
  },
  {
   "cell_type": "code",
   "execution_count": null,
   "id": "c689f672-1929-44d0-a779-8cd34d7a7b69",
   "metadata": {},
   "outputs": [],
   "source": []
  },
  {
   "cell_type": "code",
   "execution_count": 18,
   "id": "7bb1b99a-cea3-47ed-b511-621ebfc7f4da",
   "metadata": {},
   "outputs": [
    {
     "name": "stdin",
     "output_type": "stream",
     "text": [
      "Enter the string of your choice :  Hello my name is Anthony Gonsalvez\n",
      "Enter the nth position for deletion :  5\n"
     ]
    },
    {
     "name": "stdout",
     "output_type": "stream",
     "text": [
      "THe modifid string is :  Hello my name is Gonsalvez\n"
     ]
    }
   ],
   "source": [
    "def nthdeletion(s, n):\n",
    "    words = s.split()\n",
    "    \n",
    "    if n>=1 and n<=len(words):\n",
    "        del words[n-1]\n",
    "        return ' '.join(words)\n",
    "    else:\n",
    "        return s\n",
    "    \n",
    "s = input('Enter the string of your choice : ')\n",
    "n = int(input('Enter the nth position for deletion : '))\n",
    "\n",
    "s1 = nthdeletion(s,n)\n",
    "\n",
    "print('THe modifid string is : ', s1)\n",
    "    "
   ]
  },
  {
   "cell_type": "code",
   "execution_count": null,
   "id": "590e0c5d-a57a-4cfb-a3e2-c2f623a39942",
   "metadata": {},
   "outputs": [],
   "source": []
  },
  {
   "cell_type": "code",
   "execution_count": null,
   "id": "2e867d18-3766-4669-8c0f-de29f2a701b9",
   "metadata": {},
   "outputs": [],
   "source": []
  },
  {
   "cell_type": "code",
   "execution_count": 20,
   "id": "4be5c241-6e07-4f63-8bab-d9f18fdb6d82",
   "metadata": {},
   "outputs": [
    {
     "name": "stdin",
     "output_type": "stream",
     "text": [
      "Enter the string of your choice :  Hello my name is Anthony Gonsalvez\n",
      "Enter the nth position for deletion :  5\n",
      "Enter the new word for insertion : Kumar\n"
     ]
    },
    {
     "name": "stdout",
     "output_type": "stream",
     "text": [
      "THe modifid string is :  Hello my name is Anthony Kumar Gonsalvez\n"
     ]
    }
   ],
   "source": [
    "def nthinsertion(s, n, newword):\n",
    "    words = s.split()\n",
    "    \n",
    "    if n>=1 and n<=len(words):\n",
    "        words.insert(n,newword)\n",
    "        return ' '.join(words)\n",
    "    else:\n",
    "        return s\n",
    "    \n",
    "s = input('Enter the string of your choice : ')\n",
    "n = int(input('Enter the nth position for deletion : '))\n",
    "newword = input('Enter the new word for insertion :')\n",
    "\n",
    "s1 = nthinsertion(s,n,newword)\n",
    "\n",
    "print('THe modifid string is : ', s1)"
   ]
  },
  {
   "cell_type": "code",
   "execution_count": null,
   "id": "dde52f3f-fc81-430f-8074-a817c461e581",
   "metadata": {},
   "outputs": [],
   "source": []
  },
  {
   "cell_type": "code",
   "execution_count": null,
   "id": "089b96db-b0dc-4f55-b095-dc67114e0abd",
   "metadata": {},
   "outputs": [],
   "source": [
    "\n"
   ]
  },
  {
   "cell_type": "code",
   "execution_count": 9,
   "id": "b6355fc3-bdca-408d-909d-0d1252c174ef",
   "metadata": {},
   "outputs": [
    {
     "name": "stdin",
     "output_type": "stream",
     "text": [
      "Enter the csvstring of your choice : 1, Red; 2, Blue; 3, Yellow\n"
     ]
    },
    {
     "name": "stdout",
     "output_type": "stream",
     "text": [
      "The list of lists :  [['1', ' Red'], [' 2', ' Blue'], [' 3', ' Yellow']]\n"
     ]
    }
   ],
   "source": [
    "def parsecsv(csvstring):\n",
    "    lines = csvstring.strip().split(';')\n",
    "    listoflists = [line.split(',') for line in lines]\n",
    "    return listoflists\n",
    "\n",
    "csvstring = input('Enter the csvstring of your choice :')\n",
    "listoflists = parsecsv(csvstring)\n",
    "print('The list of lists : ', listoflists)"
   ]
  },
  {
   "cell_type": "code",
   "execution_count": null,
   "id": "95f71fa8-b344-4ee9-9d17-bf5a3334ae17",
   "metadata": {},
   "outputs": [],
   "source": []
  },
  {
   "cell_type": "code",
   "execution_count": null,
   "id": "602f0ee4-e017-485b-88c6-a1a1074609dc",
   "metadata": {},
   "outputs": [],
   "source": []
  },
  {
   "cell_type": "markdown",
   "id": "42b8d8c5-52b7-45b1-a248-64ab019b1785",
   "metadata": {},
   "source": [
    "List Based Practice Problem :"
   ]
  },
  {
   "cell_type": "code",
   "execution_count": null,
   "id": "0a8f7024-0c37-45ef-88aa-a9b06c1ee483",
   "metadata": {},
   "outputs": [],
   "source": []
  },
  {
   "cell_type": "code",
   "execution_count": null,
   "id": "00b548fd-d0de-4388-a99e-2a7f8fd3e2cc",
   "metadata": {},
   "outputs": [],
   "source": []
  },
  {
   "cell_type": "code",
   "execution_count": 10,
   "id": "4c4de0c6-8995-45ff-8ae7-cbdf12788304",
   "metadata": {},
   "outputs": [
    {
     "name": "stdout",
     "output_type": "stream",
     "text": [
      "[1, 2, 3, 4, 5, 6, 7, 8, 9, 10]\n"
     ]
    }
   ],
   "source": [
    "integerlist = list(range(1,11))\n",
    "print(integerlist)"
   ]
  },
  {
   "cell_type": "code",
   "execution_count": null,
   "id": "492c5231-b4f3-48f1-8f2e-666872043253",
   "metadata": {},
   "outputs": [],
   "source": []
  },
  {
   "cell_type": "code",
   "execution_count": null,
   "id": "b1193160-97f7-4108-954a-9bdfcae3b024",
   "metadata": {},
   "outputs": [],
   "source": []
  },
  {
   "cell_type": "code",
   "execution_count": 11,
   "id": "b00dd0ed-4539-41c4-9172-84f38e3b2f2f",
   "metadata": {},
   "outputs": [
    {
     "name": "stdin",
     "output_type": "stream",
     "text": [
      "Enter the desired elements for the list :  1 23 445 67 86 90 32 3 4\n"
     ]
    },
    {
     "name": "stdout",
     "output_type": "stream",
     "text": [
      "The count of elements in the list is :  9\n"
     ]
    }
   ],
   "source": [
    "def custominput(list1):\n",
    "    count = 0\n",
    "    for i in list1:\n",
    "        count = count + 1\n",
    "    return count\n",
    "\n",
    "string = input('Enter the desired elements for the list : ')\n",
    "list1 = [int(item) for item in string.split()]\n",
    "count = custominput(list1)\n",
    "print('The count of elements in the list is : ',count)"
   ]
  },
  {
   "cell_type": "code",
   "execution_count": null,
   "id": "1c9c15ae-9942-4bd6-9517-608af2aa8315",
   "metadata": {},
   "outputs": [],
   "source": []
  },
  {
   "cell_type": "code",
   "execution_count": null,
   "id": "32133b9f-d1bb-43cb-93e5-222f31dea151",
   "metadata": {},
   "outputs": [],
   "source": []
  },
  {
   "cell_type": "code",
   "execution_count": 13,
   "id": "263f1374-d870-4965-9f44-7525b48f6667",
   "metadata": {},
   "outputs": [
    {
     "name": "stdin",
     "output_type": "stream",
     "text": [
      "Enter the desired elements for the list :  1 23 345 4567 5678\n"
     ]
    },
    {
     "name": "stdout",
     "output_type": "stream",
     "text": [
      "The modified list is :  [1, 23, 345, 4567, 5678, 89]\n"
     ]
    }
   ],
   "source": [
    "string = input('Enter the desired elements for the list : ')\n",
    "list1 = [int(item) for item in string.split()]\n",
    "\n",
    "newele = 89\n",
    "list1.append(newele)\n",
    "print('The modified list is : ',list1)"
   ]
  },
  {
   "cell_type": "code",
   "execution_count": null,
   "id": "6d7b6c92-0bc0-48a7-9492-0f73f73f1932",
   "metadata": {},
   "outputs": [],
   "source": []
  },
  {
   "cell_type": "code",
   "execution_count": null,
   "id": "74361238-7934-42c8-a52f-113dacb5e16a",
   "metadata": {},
   "outputs": [],
   "source": []
  },
  {
   "cell_type": "code",
   "execution_count": 16,
   "id": "aabe95df-6593-4036-a181-8f7db601bc50",
   "metadata": {},
   "outputs": [
    {
     "name": "stdin",
     "output_type": "stream",
     "text": [
      "Enter the desired elements for the list :  0 1 3 4 5\n",
      "Enter the element to be inserted :  2 \n",
      "Enter the index for input :  2\n"
     ]
    },
    {
     "name": "stdout",
     "output_type": "stream",
     "text": [
      "The new list is :  [0, 1, 2, 3, 4, 5]\n"
     ]
    }
   ],
   "source": [
    "string = input('Enter the desired elements for the list : ')\n",
    "list1 = [int(item) for item in string.split()]\n",
    "ele = int(input('Enter the element to be inserted : '))\n",
    "newindex = int(input('Enter the index for input : '))\n",
    "               \n",
    "list1.insert(ele,newindex)\n",
    "print('The new list is : ',list1)\n",
    "               "
   ]
  },
  {
   "cell_type": "code",
   "execution_count": null,
   "id": "459d63e0-6dbc-4cd0-ba54-e8285e67cbc7",
   "metadata": {},
   "outputs": [],
   "source": []
  },
  {
   "cell_type": "code",
   "execution_count": null,
   "id": "34363787-6f8e-48a9-b9f6-f21937a0febe",
   "metadata": {},
   "outputs": [],
   "source": []
  },
  {
   "cell_type": "code",
   "execution_count": 18,
   "id": "e0fcea95-f224-4e39-8738-420cf5927d47",
   "metadata": {},
   "outputs": [
    {
     "name": "stdin",
     "output_type": "stream",
     "text": [
      "Enter the desired elements for the list :  1 2 3 9 4 5\n",
      "Enter the element to be removed :  9\n"
     ]
    },
    {
     "name": "stdout",
     "output_type": "stream",
     "text": [
      "The modified list is :  [1, 2, 3, 4, 5]\n"
     ]
    }
   ],
   "source": [
    "string = input('Enter the desired elements for the list : ')\n",
    "list1 = [int(item) for item in string.split()]\n",
    "ele = int(input('Enter the element to be removed : '))\n",
    "list1.remove(ele)\n",
    "print('The modified list is : ', list)"
   ]
  },
  {
   "cell_type": "code",
   "execution_count": null,
   "id": "bc05ff59-649c-49ee-92a9-8b713ab9267a",
   "metadata": {},
   "outputs": [],
   "source": []
  },
  {
   "cell_type": "code",
   "execution_count": null,
   "id": "6e4d7cec-d5e2-40a6-b57a-726921896cd2",
   "metadata": {},
   "outputs": [],
   "source": [
    "\n"
   ]
  },
  {
   "cell_type": "code",
   "execution_count": 20,
   "id": "db1923cc-cf49-4e76-8d6a-addbb59539b6",
   "metadata": {},
   "outputs": [
    {
     "name": "stdin",
     "output_type": "stream",
     "text": [
      "Enter the desired elements for the list :  1 2 3 4 5 6 8\n",
      "Enter the index at which the element is to be removed :  2\n"
     ]
    },
    {
     "name": "stdout",
     "output_type": "stream",
     "text": [
      "The modified list is :  [1, 2, 4, 5, 6, 8]\n",
      "The element popped is :  3\n"
     ]
    }
   ],
   "source": [
    "string = input('Enter the desired elements for the list : ')\n",
    "list1 = [int(item) for item in string.split()]\n",
    "index = int(input('Enter the index at which the element is to be removed : '))\n",
    "ele = list1.pop(index)\n",
    "print('The modified list is : ', list1)\n",
    "print('The element popped is : ', ele)"
   ]
  },
  {
   "cell_type": "code",
   "execution_count": null,
   "id": "2186a2ee-5953-454a-9af9-8369dbccf0c1",
   "metadata": {},
   "outputs": [],
   "source": []
  },
  {
   "cell_type": "code",
   "execution_count": null,
   "id": "863534f9-0131-4d5f-8d1a-d76f3bb94fe7",
   "metadata": {},
   "outputs": [],
   "source": []
  },
  {
   "cell_type": "code",
   "execution_count": 21,
   "id": "84128298-3983-4df1-a0a3-9be56cfc19dd",
   "metadata": {},
   "outputs": [
    {
     "name": "stdin",
     "output_type": "stream",
     "text": [
      "Enter the desired elements for the list :  1 2 3 4 5 6 7\n",
      "Enter the element to be checked for :  5\n"
     ]
    },
    {
     "name": "stdout",
     "output_type": "stream",
     "text": [
      "Element is present inside of the string\n"
     ]
    }
   ],
   "source": [
    "string = input('Enter the desired elements for the list : ')\n",
    "list1 = [int(item) for item in string.split()]\n",
    "ele = int(input('Enter the element to be checked for : '))\n",
    "\n",
    "try : \n",
    "    index = list1.index(ele)\n",
    "    print('Element is present inside of the string')\n",
    "except ValueError :\n",
    "    print('Element not present inside of the string')"
   ]
  },
  {
   "cell_type": "code",
   "execution_count": null,
   "id": "74dbde85-cfa2-4bf7-aa7c-dc3a5f2db09b",
   "metadata": {},
   "outputs": [],
   "source": []
  },
  {
   "cell_type": "code",
   "execution_count": null,
   "id": "bffda5f3-be3b-45f0-b669-167161137eea",
   "metadata": {},
   "outputs": [],
   "source": []
  },
  {
   "cell_type": "code",
   "execution_count": 22,
   "id": "72e65245-b2a1-4c82-9218-ca1145c1f4da",
   "metadata": {},
   "outputs": [
    {
     "name": "stdin",
     "output_type": "stream",
     "text": [
      "Enter the desired elements for the list :  1 2 3 4 5 6 7 8\n",
      "Enter the element to be checked for :  8\n"
     ]
    },
    {
     "name": "stdout",
     "output_type": "stream",
     "text": [
      "First occurence of Element :  7\n"
     ]
    }
   ],
   "source": [
    "string = input('Enter the desired elements for the list : ')\n",
    "list1 = [int(item) for item in string.split()]\n",
    "ele = int(input('Enter the element to be checked for : '))\n",
    "\n",
    "try : \n",
    "    index = list1.index(ele)\n",
    "    print('First occurence of Element : ',index)\n",
    "except ValueError :\n",
    "    print('Element not present inside of the string')"
   ]
  },
  {
   "cell_type": "code",
   "execution_count": null,
   "id": "38a3e231-92ce-42c7-bbfc-ee71992d55a0",
   "metadata": {},
   "outputs": [],
   "source": []
  },
  {
   "cell_type": "code",
   "execution_count": null,
   "id": "69615020-edfe-491b-939e-105c9e761884",
   "metadata": {},
   "outputs": [],
   "source": [
    "\n"
   ]
  },
  {
   "cell_type": "code",
   "execution_count": 23,
   "id": "10d5088f-a094-40bb-8874-87a7088e9e8c",
   "metadata": {},
   "outputs": [
    {
     "name": "stdin",
     "output_type": "stream",
     "text": [
      "Enter the desired elements for the list :  1 2 2 4 5 5 6 7 5 6 3 5\n",
      "Enter the element to be checked for :  5\n"
     ]
    },
    {
     "name": "stdout",
     "output_type": "stream",
     "text": [
      "Occurence of the  5  is  :  4\n"
     ]
    }
   ],
   "source": [
    "string = input('Enter the desired elements for the list : ')\n",
    "list1 = [int(item) for item in string.split()]\n",
    "ele = int(input('Enter the element to be checked for : '))\n",
    "\n",
    "occ = list1.count(ele)\n",
    "print('Occurence of the ', ele, ' is  : ', occ)\n"
   ]
  },
  {
   "cell_type": "code",
   "execution_count": null,
   "id": "779b3851-20af-483e-9858-2c1f8f79bfca",
   "metadata": {},
   "outputs": [],
   "source": []
  },
  {
   "cell_type": "code",
   "execution_count": null,
   "id": "50b200ba-7331-42fd-b6a5-170d3884ace0",
   "metadata": {},
   "outputs": [],
   "source": []
  },
  {
   "cell_type": "code",
   "execution_count": 1,
   "id": "fd0969b7-45bf-499f-adb8-809aee17d9e9",
   "metadata": {},
   "outputs": [
    {
     "name": "stdin",
     "output_type": "stream",
     "text": [
      "Enter the elements of your choice for the list :  1 2 3 4 5 6\n"
     ]
    },
    {
     "name": "stdout",
     "output_type": "stream",
     "text": [
      "The new list in reversed order is :  [6, 5, 4, 3, 2, 1]\n"
     ]
    }
   ],
   "source": [
    "string = input('Enter the elements of your choice for the list : ')\n",
    "list2 = [int(item) for item in string.split()]\n",
    "list1 = list2[::-1]\n",
    "print('The new list in reversed order is : ',list1)"
   ]
  },
  {
   "cell_type": "code",
   "execution_count": null,
   "id": "a3669176-65a9-4728-b3ee-39b000d91ffe",
   "metadata": {},
   "outputs": [],
   "source": []
  },
  {
   "cell_type": "code",
   "execution_count": null,
   "id": "618b4106-c2c4-4271-a424-f9ff96b77c89",
   "metadata": {},
   "outputs": [],
   "source": []
  },
  {
   "cell_type": "code",
   "execution_count": 2,
   "id": "878cb92a-b65a-4f83-8e72-e7c55590182e",
   "metadata": {},
   "outputs": [
    {
     "name": "stdin",
     "output_type": "stream",
     "text": [
      "Enter the elements of your choice for the list :  1 3 7 2 5 8 4 6\n"
     ]
    },
    {
     "name": "stdout",
     "output_type": "stream",
     "text": [
      "The sorted list is  :  [1, 2, 3, 4, 5, 6, 7, 8]\n"
     ]
    }
   ],
   "source": [
    "string = input('Enter the elements of your choice for the list : ')\n",
    "list2 = [int(item) for item in string.split()]\n",
    "list1 = sorted(list2)\n",
    "print('The sorted list is  : ',list1)"
   ]
  },
  {
   "cell_type": "code",
   "execution_count": null,
   "id": "f631d4cb-8487-4cb0-8bd4-f8bad3686d14",
   "metadata": {},
   "outputs": [],
   "source": []
  },
  {
   "cell_type": "code",
   "execution_count": null,
   "id": "c062c34c-1d90-4671-88ba-35fedbd0decb",
   "metadata": {},
   "outputs": [],
   "source": []
  },
  {
   "cell_type": "code",
   "execution_count": 3,
   "id": "76d2c1a7-a802-4882-8760-f754601e5501",
   "metadata": {},
   "outputs": [
    {
     "name": "stdin",
     "output_type": "stream",
     "text": [
      "Enter the elements of your choice for the list :  1 3 5 8 9 2 7 6 4 0\n"
     ]
    },
    {
     "name": "stdout",
     "output_type": "stream",
     "text": [
      "The sorted list in descending form is :  [9, 8, 7, 6, 5, 4, 3, 2, 1, 0]\n"
     ]
    }
   ],
   "source": [
    "string = input('Enter the elements of your choice for the list : ')\n",
    "list2 = [int(item) for item in string.split()]\n",
    "list1 = sorted(list2, reverse=True)\n",
    "print('The sorted list in descending form is : ', list1)"
   ]
  },
  {
   "cell_type": "code",
   "execution_count": null,
   "id": "07fc100e-b91a-4598-8cac-5854bb5ecaa1",
   "metadata": {},
   "outputs": [],
   "source": []
  },
  {
   "cell_type": "code",
   "execution_count": null,
   "id": "fdaf8ffe-4ec1-4ab8-ba61-8fee94c31ab9",
   "metadata": {},
   "outputs": [],
   "source": []
  },
  {
   "cell_type": "code",
   "execution_count": 4,
   "id": "edffc3a7-09cd-413e-980f-11a8b62f3cfa",
   "metadata": {},
   "outputs": [
    {
     "name": "stdout",
     "output_type": "stream",
     "text": [
      "The list of even numbers from 1 to 20 is :  [2, 4, 6, 8, 10, 12, 14, 16, 18, 20]\n"
     ]
    }
   ],
   "source": [
    "even = [i for i in range(2,21,2)]\n",
    "print('The list of even numbers from 1 to 20 is : ', even)"
   ]
  },
  {
   "cell_type": "code",
   "execution_count": null,
   "id": "fa5f7484-6ef5-4131-bde2-ac3e1c8727d5",
   "metadata": {},
   "outputs": [],
   "source": []
  },
  {
   "cell_type": "code",
   "execution_count": null,
   "id": "e04f411b-7c7e-40ed-905b-9037abd6b042",
   "metadata": {},
   "outputs": [],
   "source": []
  },
  {
   "cell_type": "code",
   "execution_count": 5,
   "id": "1bdc2208-200f-4ce2-a9c5-624f16c3b84c",
   "metadata": {},
   "outputs": [
    {
     "name": "stdout",
     "output_type": "stream",
     "text": [
      "The list of even numbers from 1 to 20 is :  [1, 3, 5, 7, 9, 11, 13, 15, 17, 19]\n"
     ]
    }
   ],
   "source": [
    "odd = [i for i in range(1,20,2)]\n",
    "print('The list of even numbers from 1 to 20 is : ', odd)"
   ]
  },
  {
   "cell_type": "code",
   "execution_count": null,
   "id": "ece30749-c764-44d9-8ba0-5e93325c04ab",
   "metadata": {},
   "outputs": [],
   "source": []
  },
  {
   "cell_type": "code",
   "execution_count": null,
   "id": "a079417a-f75f-40d1-b0c3-206f953169cb",
   "metadata": {},
   "outputs": [],
   "source": []
  },
  {
   "cell_type": "code",
   "execution_count": 6,
   "id": "653d1b10-e2ce-4f6c-a630-f209b828e173",
   "metadata": {},
   "outputs": [
    {
     "name": "stdin",
     "output_type": "stream",
     "text": [
      "Enter the elements of the list for summation :  1 2 3 5 6 7 4 8 9 0\n"
     ]
    },
    {
     "name": "stdout",
     "output_type": "stream",
     "text": [
      "The sum of the elements of the list :  45\n"
     ]
    }
   ],
   "source": [
    "string = input('Enter the elements of the list for summation : ')\n",
    "list1 = [int(item) for item in string.split()]\n",
    "sumoflist = sum(list)\n",
    "print('The sum of the elements of the list : ',sumoflist)"
   ]
  },
  {
   "cell_type": "code",
   "execution_count": null,
   "id": "12e34bc5-5bfb-4962-b05b-087eb4fca708",
   "metadata": {},
   "outputs": [],
   "source": []
  },
  {
   "cell_type": "code",
   "execution_count": null,
   "id": "8bee06f2-ebbd-4619-a73e-deed0d4d3a1f",
   "metadata": {},
   "outputs": [],
   "source": []
  },
  {
   "cell_type": "code",
   "execution_count": 7,
   "id": "f3d3f290-daa1-4fff-bdf6-464eeaa678a8",
   "metadata": {},
   "outputs": [
    {
     "name": "stdin",
     "output_type": "stream",
     "text": [
      "Enter the elements of the list :  1 23 456 34 43 6789 009 90 9010\n"
     ]
    },
    {
     "name": "stdout",
     "output_type": "stream",
     "text": [
      "The element in the list with the maximum value is :  9010\n"
     ]
    }
   ],
   "source": [
    "string  = input('Enter the elements of the list : ')\n",
    "list1 = [int(item) for item in string.split()]\n",
    "maxele = max(list1)\n",
    "print('The element in the list with the maximum value is : ',maxele)"
   ]
  },
  {
   "cell_type": "code",
   "execution_count": null,
   "id": "9fdb408c-e7bf-44da-8161-7c68c915a76c",
   "metadata": {},
   "outputs": [],
   "source": []
  },
  {
   "cell_type": "code",
   "execution_count": null,
   "id": "36caafed-37c6-41de-b29b-5177dd9c687a",
   "metadata": {},
   "outputs": [],
   "source": []
  },
  {
   "cell_type": "code",
   "execution_count": 8,
   "id": "d1d65616-ace5-4f7b-ada4-342ac30e9153",
   "metadata": {},
   "outputs": [
    {
     "name": "stdin",
     "output_type": "stream",
     "text": [
      "Enter the elements of the list :  23 423 566 78 903 90\n"
     ]
    },
    {
     "name": "stdout",
     "output_type": "stream",
     "text": [
      "The element in the list with the minimum value is :  23\n"
     ]
    }
   ],
   "source": [
    "string = input('Enter the elements of the list : ')\n",
    "list1 = [int(item) for item in string.split()]\n",
    "minele = min(list1)\n",
    "print('The element in the list with the minimum value is : ', minele)\n"
   ]
  },
  {
   "cell_type": "code",
   "execution_count": null,
   "id": "2adae7bd-8a37-45d5-91ff-68d44c2f3c93",
   "metadata": {},
   "outputs": [],
   "source": []
  },
  {
   "cell_type": "code",
   "execution_count": null,
   "id": "9926c986-9fb6-43d2-902c-3283cccae4df",
   "metadata": {},
   "outputs": [],
   "source": []
  },
  {
   "cell_type": "code",
   "execution_count": 9,
   "id": "f88d7797-b444-4198-95d0-e203b9285021",
   "metadata": {},
   "outputs": [
    {
     "name": "stdout",
     "output_type": "stream",
     "text": [
      "[1, 4, 9, 16, 25, 36, 49, 64, 81, 100]\n"
     ]
    }
   ],
   "source": [
    "squaredvalues = [i**2 for i in range(1,11)]\n",
    "print(squaredvalues)"
   ]
  },
  {
   "cell_type": "code",
   "execution_count": null,
   "id": "83522a91-aa10-4263-bdcc-dec8f99fbe74",
   "metadata": {},
   "outputs": [],
   "source": []
  },
  {
   "cell_type": "code",
   "execution_count": null,
   "id": "0ada86c3-716b-4bbc-bec1-5f2d28c6eb5b",
   "metadata": {},
   "outputs": [],
   "source": []
  },
  {
   "cell_type": "code",
   "execution_count": 10,
   "id": "97368d45-7a29-45dc-b660-b207ba6d5e45",
   "metadata": {},
   "outputs": [
    {
     "name": "stdout",
     "output_type": "stream",
     "text": [
      "The list of random numbers generated is :  [69, 82, 81, 40, 74, 26, 4, 15, 15, 47]\n"
     ]
    }
   ],
   "source": [
    "import random\n",
    "\n",
    "randnums = [random.randint(1,100) for i in range(10)]\n",
    "\n",
    "print('The list of random numbers generated is : ', randnums)"
   ]
  }
 ],
 "metadata": {
  "kernelspec": {
   "display_name": "Python 3 (ipykernel)",
   "language": "python",
   "name": "python3"
  },
  "language_info": {
   "codemirror_mode": {
    "name": "ipython",
    "version": 3
   },
   "file_extension": ".py",
   "mimetype": "text/x-python",
   "name": "python",
   "nbconvert_exporter": "python",
   "pygments_lexer": "ipython3",
   "version": "3.10.8"
  }
 },
 "nbformat": 4,
 "nbformat_minor": 5
}
