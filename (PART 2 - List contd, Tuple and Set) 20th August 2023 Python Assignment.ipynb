{
 "cells": [
  {
   "cell_type": "markdown",
   "id": "2aea9092-3cc0-49ab-8d11-11c7d316901e",
   "metadata": {},
   "source": [
    "List Based Practice Problem (continuation) :"
   ]
  },
  {
   "cell_type": "code",
   "execution_count": 3,
   "id": "d78604c9-ecbd-4221-96bf-f23d9c950053",
   "metadata": {},
   "outputs": [
    {
     "name": "stdin",
     "output_type": "stream",
     "text": [
      "Enter the elements of your choice :  1 2 2 3 3 3 4 4 4 4 5 5 5 5 5 \n"
     ]
    },
    {
     "name": "stdout",
     "output_type": "stream",
     "text": [
      "The list containing unique elements is :  [1, 2, 3, 4, 5]\n"
     ]
    }
   ],
   "source": [
    "string = input('Enter the elements of your choice : ')\n",
    "list1 = [int(item) for item in string.split()]\n",
    "set1 = set(list1)\n",
    "v = list(set1)\n",
    "print('The list containing unique elements is : ', v)"
   ]
  },
  {
   "cell_type": "code",
   "execution_count": null,
   "id": "7e861143-3b74-4053-9b2b-a281cc45bb6b",
   "metadata": {},
   "outputs": [],
   "source": []
  },
  {
   "cell_type": "code",
   "execution_count": null,
   "id": "65e93d29-e868-4248-bbd1-c758c13c8d80",
   "metadata": {},
   "outputs": [],
   "source": []
  },
  {
   "cell_type": "code",
   "execution_count": 5,
   "id": "423f693d-172a-4a69-a3ef-d823f9e6d1fb",
   "metadata": {},
   "outputs": [
    {
     "name": "stdin",
     "output_type": "stream",
     "text": [
      "Enter the elements of your choice for list1 :  1 2 3 4 5 6\n",
      "Enter the elements of your choice for list1 :  2 4 6 8 10 12\n"
     ]
    },
    {
     "name": "stdout",
     "output_type": "stream",
     "text": [
      "The list of common elements present are  :  [2, 4, 6]\n"
     ]
    }
   ],
   "source": [
    "s1 = input('Enter the elements of your choice for list1 : ')\n",
    "list1 = [int(item1) for item1 in s1.split()]\n",
    "s2 = input('Enter the elements of your choice for list1 : ')\n",
    "list2 = [int(item2) for item2 in s2.split()]\n",
    "\n",
    "commonele = list(set(list1) & set(list2))\n",
    "\n",
    "commonele = sorted(commonele)\n",
    "\n",
    "print('The list of common elements present are  : ', commonele)"
   ]
  },
  {
   "cell_type": "code",
   "execution_count": null,
   "id": "9bdfaaba-7343-47d5-ad69-d15a2c074d8f",
   "metadata": {},
   "outputs": [],
   "source": []
  },
  {
   "cell_type": "code",
   "execution_count": null,
   "id": "fe71bf39-0e11-4383-9ba7-63f2858c9a08",
   "metadata": {},
   "outputs": [],
   "source": []
  },
  {
   "cell_type": "code",
   "execution_count": 7,
   "id": "11040604-fece-45f3-89ff-7b4925eec3db",
   "metadata": {},
   "outputs": [
    {
     "name": "stdin",
     "output_type": "stream",
     "text": [
      "Enter the elements of your choice for list1 :  1 2 4 6 7 5 9 0\n",
      "Enter the elements of your choice for list1 :  1 3 2 5 7 0 8 3\n"
     ]
    },
    {
     "name": "stdout",
     "output_type": "stream",
     "text": [
      "The list of differences is :  [4, 6, 9]  and  [3, 8]\n"
     ]
    }
   ],
   "source": [
    "s1 = input('Enter the elements of your choice for list1 : ')\n",
    "list1 = [int(item1) for item1 in s1.split()]\n",
    "s2 = input('Enter the elements of your choice for list1 : ')\n",
    "list2 = [int(item2) for item2 in s2.split()]\n",
    "\n",
    "difference1 = list(set(list1) - set(list2))\n",
    "difference2 = list(set(list2) - set(list1))\n",
    "difference1 =  sorted(difference1)\n",
    "difference2 = sorted(difference2)\n",
    "\n",
    "print('The list of differences is : ', difference1, ' and ', difference2)"
   ]
  },
  {
   "cell_type": "code",
   "execution_count": null,
   "id": "aa472f4d-fc19-46d5-abaa-6664d240a170",
   "metadata": {},
   "outputs": [],
   "source": []
  },
  {
   "cell_type": "code",
   "execution_count": null,
   "id": "319ecb58-f304-4e01-8f39-7f0e823f1f41",
   "metadata": {},
   "outputs": [],
   "source": []
  },
  {
   "cell_type": "code",
   "execution_count": 3,
   "id": "43c14aa0-b2af-4d03-8253-97f400c4db24",
   "metadata": {},
   "outputs": [
    {
     "name": "stdin",
     "output_type": "stream",
     "text": [
      "Enter the elements of your choice for list1 :  6 7 8 9 0\n",
      "Enter the elements of your choice for list1 :  1 2 3 4 5\n"
     ]
    },
    {
     "name": "stdout",
     "output_type": "stream",
     "text": [
      "The merged list is :  [0, 1, 2, 3, 4, 5, 6, 7, 8, 9]\n"
     ]
    }
   ],
   "source": [
    "s1 = input('Enter the elements of your choice for list1 : ')\n",
    "list1 = [int(item1) for item1 in s1.split()]\n",
    "s2 = input('Enter the elements of your choice for list1 : ')\n",
    "list2 = [int(item2) for item2 in s2.split()]\n",
    "\n",
    "list1.extend(list2)\n",
    "\n",
    "list1 = sorted(list1)\n",
    "\n",
    "print('The merged list is : ', list1)\n"
   ]
  },
  {
   "cell_type": "code",
   "execution_count": null,
   "id": "665928c4-3b03-41b0-8cce-3b9bf05f4444",
   "metadata": {},
   "outputs": [],
   "source": []
  },
  {
   "cell_type": "code",
   "execution_count": null,
   "id": "402d9100-c7e5-49ad-822f-e1f9167e0bd1",
   "metadata": {},
   "outputs": [],
   "source": []
  },
  {
   "cell_type": "code",
   "execution_count": 4,
   "id": "dcb73751-71c7-4208-b7ae-f574755c0225",
   "metadata": {},
   "outputs": [
    {
     "name": "stdin",
     "output_type": "stream",
     "text": [
      "Enter the string of your choice :  1 2 3 4 5 6 7 8 9 0\n"
     ]
    },
    {
     "name": "stdout",
     "output_type": "stream",
     "text": [
      "The list with each element doubled is :  [2, 4, 6, 8, 10, 12, 14, 16, 18, 0]\n"
     ]
    }
   ],
   "source": [
    "s = input('Enter the string of your choice : ')\n",
    "l1 = [int(item) for item in s.split()]\n",
    "l2 = [item1*2 for item1 in l1]\n",
    "print('The list with each element doubled is : ',l2)"
   ]
  },
  {
   "cell_type": "code",
   "execution_count": null,
   "id": "4bea038f-e4e8-428f-aac6-55ebb9890276",
   "metadata": {},
   "outputs": [],
   "source": []
  },
  {
   "cell_type": "code",
   "execution_count": null,
   "id": "17809651-c15b-45c0-accd-86d5af8c3d9e",
   "metadata": {},
   "outputs": [],
   "source": []
  },
  {
   "cell_type": "code",
   "execution_count": 5,
   "id": "cdacfdb4-b6d3-4e34-b04d-6d5196f9f01f",
   "metadata": {},
   "outputs": [
    {
     "name": "stdin",
     "output_type": "stream",
     "text": [
      "Enter the string of your choice :  1 2 3 4 5 6 7 8 9 10 11 12 13 14 15 16 17 18 19 20\n"
     ]
    },
    {
     "name": "stdout",
     "output_type": "stream",
     "text": [
      "The new list with all even values filtered out are :  [1, 3, 5, 7, 9, 11, 13, 15, 17, 19]\n"
     ]
    }
   ],
   "source": [
    "s = input('Enter the string of your choice : ')\n",
    "l1 = [int(item) for item in s.split()]\n",
    "oddlist = [i for i in l1 if (i%2!=0)]\n",
    "\n",
    "print('The new list with all even values filtered out are : ', oddlist)"
   ]
  },
  {
   "cell_type": "code",
   "execution_count": null,
   "id": "d6768b10-6227-4593-85fb-adaaa706e97d",
   "metadata": {},
   "outputs": [],
   "source": []
  },
  {
   "cell_type": "code",
   "execution_count": null,
   "id": "2239b904-6c6f-49d8-8cfb-05b6d2de83f1",
   "metadata": {},
   "outputs": [],
   "source": []
  },
  {
   "cell_type": "code",
   "execution_count": 6,
   "id": "28100b01-aef6-4c01-a95f-4ce324192a1f",
   "metadata": {},
   "outputs": [
    {
     "name": "stdin",
     "output_type": "stream",
     "text": [
      "Enter the string of your choice :  1 2 3 4 5 6 7 8 9\n"
     ]
    },
    {
     "name": "stdout",
     "output_type": "stream",
     "text": [
      "The list of string is :  ['1', '2', '3', '4', '5', '6', '7', '8', '9']\n",
      "The list of inetger is :  [1, 2, 3, 4, 5, 6, 7, 8, 9]\n"
     ]
    }
   ],
   "source": [
    "s = input('Enter the string of your choice : ')\n",
    "l1 = [(item) for item in s.split()]\n",
    "l2 = [int(item) for item in l1]\n",
    "\n",
    "print('The list of string is : ', l1)\n",
    "print('The list of inetger is : ', l2)"
   ]
  },
  {
   "cell_type": "code",
   "execution_count": null,
   "id": "9e4942fb-6e6b-4b66-a4dc-f672f886d213",
   "metadata": {},
   "outputs": [],
   "source": []
  },
  {
   "cell_type": "code",
   "execution_count": null,
   "id": "728a43a7-4c71-468f-9338-5b840d5a8268",
   "metadata": {},
   "outputs": [],
   "source": []
  },
  {
   "cell_type": "code",
   "execution_count": 7,
   "id": "176da507-da64-41f7-94dd-517d8040f094",
   "metadata": {},
   "outputs": [
    {
     "name": "stdin",
     "output_type": "stream",
     "text": [
      "Enter the string of your choice :  1 2 3 4 5 6 7 8\n"
     ]
    },
    {
     "name": "stdout",
     "output_type": "stream",
     "text": [
      "The list of integer is :  [1, 2, 3, 4, 5, 6, 7, 8]\n",
      "The list of string is :  [1, 2, 3, 4, 5, 6, 7, 8]\n"
     ]
    }
   ],
   "source": [
    "s = input('Enter the string of your choice : ')\n",
    "l1 = [int(item) for item in s.split()]\n",
    "l2 = [(item) for item in l1]\n",
    "\n",
    "print('The list of integer is : ', l1)\n",
    "print('The list of string is : ', l2)"
   ]
  },
  {
   "cell_type": "code",
   "execution_count": null,
   "id": "d9742cdc-f236-4c13-951f-a21057fc3dfb",
   "metadata": {},
   "outputs": [],
   "source": []
  },
  {
   "cell_type": "code",
   "execution_count": null,
   "id": "30f0c7d4-9f75-455c-ab0c-055f05cd6144",
   "metadata": {},
   "outputs": [],
   "source": [
    "\n"
   ]
  },
  {
   "cell_type": "code",
   "execution_count": 11,
   "id": "5936f763-347b-435f-b923-213bd68bb92d",
   "metadata": {},
   "outputs": [
    {
     "name": "stdout",
     "output_type": "stream",
     "text": [
      "Output :  [1, 2, 3, 4, 5]\n"
     ]
    }
   ],
   "source": [
    "def flattendlist(nestedlist):\n",
    "    flattened = []\n",
    "    for item in nestedlist:\n",
    "        if isinstance(item,list):\n",
    "            flattened.extend(flattendlist(item))\n",
    "        else:\n",
    "            flattened.append(item)\n",
    "            \n",
    "    return flattened\n",
    "\n",
    "nestedlist = [1, [2], [3,[4,5]]]\n",
    "flatlist = flattendlist(nestedlist)\n",
    "print('Output : ', flatlist)"
   ]
  },
  {
   "cell_type": "code",
   "execution_count": null,
   "id": "5407ddb1-5b55-4075-b5da-41efe22ec7a3",
   "metadata": {},
   "outputs": [],
   "source": []
  },
  {
   "cell_type": "code",
   "execution_count": null,
   "id": "bcdab3f9-ac38-4b53-b550-738d8ae9f3a8",
   "metadata": {},
   "outputs": [],
   "source": [
    "\n"
   ]
  },
  {
   "cell_type": "code",
   "execution_count": 13,
   "id": "4fe6e66c-79ce-451b-8343-19c2661ad158",
   "metadata": {},
   "outputs": [
    {
     "name": "stdout",
     "output_type": "stream",
     "text": [
      "The updated fibonacci list is :  [0, 1, 1, 2, 3, 5, 8, 13, 21, 34]\n"
     ]
    }
   ],
   "source": [
    "fiblist = [0,1]\n",
    "\n",
    "while len(fiblist) < 10 :\n",
    "    fibx = fiblist[-1] + fiblist[-2]\n",
    "    fiblist.append(fibx)\n",
    "    \n",
    "print('The updated fibonacci list is : ', fiblist)"
   ]
  },
  {
   "cell_type": "code",
   "execution_count": null,
   "id": "7d35cd24-2214-4a9c-b808-54495ed2b2b3",
   "metadata": {},
   "outputs": [],
   "source": []
  },
  {
   "cell_type": "code",
   "execution_count": null,
   "id": "386fcc4f-263a-4414-9975-a4cff1617372",
   "metadata": {},
   "outputs": [],
   "source": []
  },
  {
   "cell_type": "code",
   "execution_count": 14,
   "id": "23ccc35b-1cd4-4e88-93fa-bbf169a83a11",
   "metadata": {},
   "outputs": [
    {
     "name": "stdin",
     "output_type": "stream",
     "text": [
      "Enter the elements of your desired list :  1 3 4 6 8 9 0\n"
     ]
    },
    {
     "name": "stdout",
     "output_type": "stream",
     "text": [
      "The list is not sorted\n"
     ]
    }
   ],
   "source": [
    "def sortornot(list1):\n",
    "    for i in range(1,len(list1)):\n",
    "        if list1[i] < list1[i-1]:\n",
    "            return False\n",
    "    return True\n",
    "\n",
    "s = input('Enter the elements of your desired list : ')\n",
    "list1 = [int(item) for item in s.split()]\n",
    "sortn = sortornot(list1)\n",
    "\n",
    "if sortn:\n",
    "    print('The list is sorted')\n",
    "else :\n",
    "    print('The list is not sorted')"
   ]
  },
  {
   "cell_type": "code",
   "execution_count": null,
   "id": "d9e92763-8e7f-4b2c-8e2f-17b3218045bb",
   "metadata": {},
   "outputs": [],
   "source": []
  },
  {
   "cell_type": "code",
   "execution_count": null,
   "id": "984a0c62-dc9e-40d9-83ca-8f5cde4aea44",
   "metadata": {},
   "outputs": [],
   "source": []
  },
  {
   "cell_type": "code",
   "execution_count": 18,
   "id": "5b172938-3e73-4375-a65e-268703f54634",
   "metadata": {},
   "outputs": [
    {
     "name": "stdin",
     "output_type": "stream",
     "text": [
      "Enter the elements of the list of your choice :  1 2 3 4 5 6\n",
      "Enter the nth position on which the rotation is to take place :  3\n"
     ]
    },
    {
     "name": "stdout",
     "output_type": "stream",
     "text": [
      "The list after rotating it leftwise :  [4, 5, 6, 1, 2, 3]\n"
     ]
    }
   ],
   "source": [
    "def rotatedlist(list1,n):\n",
    "    return list1[n:] + list1[:n]\n",
    "\n",
    "s = input('Enter the elements of the list of your choice : ')\n",
    "list1 = [int(item) for item in s.split()]\n",
    "n = int(input('Enter the nth position on which the rotation is to take place : '))\n",
    "rotatedleft = rotatedlist(list1,n)\n",
    "print('The list after rotating it leftwise : ',rotatedleft)"
   ]
  },
  {
   "cell_type": "code",
   "execution_count": null,
   "id": "55467e5f-81ed-44b9-8d01-7c953ee9c813",
   "metadata": {},
   "outputs": [],
   "source": []
  },
  {
   "cell_type": "code",
   "execution_count": null,
   "id": "05aeba43-55ec-48cb-b920-86aa6f8b0d96",
   "metadata": {},
   "outputs": [],
   "source": []
  },
  {
   "cell_type": "code",
   "execution_count": 23,
   "id": "9d33ac3b-d384-451c-9387-a154b2d780b2",
   "metadata": {},
   "outputs": [
    {
     "name": "stdin",
     "output_type": "stream",
     "text": [
      "Enter the elements of the list of your choice :  1 2 3 4 5 6\n",
      "Enter the nth position on which the rotation is to take place :  2\n"
     ]
    },
    {
     "name": "stdout",
     "output_type": "stream",
     "text": [
      "The list after rotating it leftwise :  [5, 6, 1, 2, 3, 4]\n"
     ]
    }
   ],
   "source": [
    "def rotatedlist(list1,n):\n",
    "    return list1[-n:] + list1[:-n]\n",
    "\n",
    "s = input('Enter the elements of the list of your choice : ')\n",
    "list1 = [int(item) for item in s.split()]\n",
    "n = int(input('Enter the nth position on which the rotation is to take place : '))\n",
    "rotatedright = rotatedlist(list1,n)\n",
    "print('The list after rotating it leftwise : ',rotatedright)"
   ]
  },
  {
   "cell_type": "code",
   "execution_count": null,
   "id": "656be02f-f8ef-481b-a067-efc8815374cd",
   "metadata": {},
   "outputs": [],
   "source": []
  },
  {
   "cell_type": "code",
   "execution_count": null,
   "id": "bef2e677-bc30-45a1-9972-1e8068576e73",
   "metadata": {},
   "outputs": [],
   "source": []
  },
  {
   "cell_type": "code",
   "execution_count": 24,
   "id": "164101be-564e-4484-b95c-a9d191f21393",
   "metadata": {},
   "outputs": [
    {
     "name": "stdout",
     "output_type": "stream",
     "text": [
      "The list of prime numbers :  [2, 3, 5, 7, 11, 13, 17, 19, 23, 29, 31, 37, 41, 43, 47]\n"
     ]
    }
   ],
   "source": [
    "from sympy import primerange\n",
    "\n",
    "list1 = list(primerange(1,51))\n",
    "\n",
    "print('The list of prime numbers : ', list1)"
   ]
  },
  {
   "cell_type": "code",
   "execution_count": null,
   "id": "c51fb58c-738d-4bd3-b124-d71382bb408e",
   "metadata": {},
   "outputs": [],
   "source": []
  },
  {
   "cell_type": "code",
   "execution_count": null,
   "id": "3687076c-ef74-4e16-b98e-96fc4d115d82",
   "metadata": {},
   "outputs": [],
   "source": []
  },
  {
   "cell_type": "code",
   "execution_count": 3,
   "id": "5840a288-ac99-40b2-b184-b449a463cbb1",
   "metadata": {},
   "outputs": [
    {
     "name": "stdin",
     "output_type": "stream",
     "text": [
      "Enter the elements of the list :  1 2 3 4 5 6 7 8\n",
      "Enter the size of each chunk :  3\n"
     ]
    },
    {
     "name": "stdout",
     "output_type": "stream",
     "text": [
      "The Output :  [[1, 2, 3], [4, 5, 6], [7, 8]]\n"
     ]
    }
   ],
   "source": [
    "def splitlistx(list1, n):\n",
    "    for i in range(0,len(list1),n):\n",
    "        yield list1[i:i+n]\n",
    "        \n",
    "s = input('Enter the elements of the list : ')\n",
    "list1 = [int(item) for item in s.split()]\n",
    "n = int(input('Enter the size of each chunk : '))\n",
    "\n",
    "chunklist = list(splitlistx(list1, n))\n",
    "\n",
    "print('The Output : ', chunklist)"
   ]
  },
  {
   "cell_type": "code",
   "execution_count": null,
   "id": "2af4d4db-b3b9-47af-beb4-50f032972020",
   "metadata": {},
   "outputs": [],
   "source": []
  },
  {
   "cell_type": "code",
   "execution_count": null,
   "id": "0f57ea09-a2e6-45d4-a089-13de03758fb5",
   "metadata": {},
   "outputs": [],
   "source": []
  },
  {
   "cell_type": "code",
   "execution_count": 6,
   "id": "59bbe565-a4e9-41fb-a90d-31ea5dbeca84",
   "metadata": {},
   "outputs": [
    {
     "name": "stdin",
     "output_type": "stream",
     "text": [
      "Enter the elements of the list :  1 2 3 4 5 6 7 8 9\n"
     ]
    },
    {
     "name": "stdout",
     "output_type": "stream",
     "text": [
      "The second largest element of the given list is :  8\n"
     ]
    }
   ],
   "source": [
    "s = input('Enter the elements of the list : ')\n",
    "list1 = [int(item) for item in s.split()]\n",
    "\n",
    "list1 = sorted(list1, reverse=True)\n",
    "\n",
    "secondlargestelement = list1[1]\n",
    "\n",
    "print('The second largest element of the given list is : ', secondlargestelement)"
   ]
  },
  {
   "cell_type": "code",
   "execution_count": null,
   "id": "a32d3db0-a243-49ce-999f-39d98a10b58f",
   "metadata": {},
   "outputs": [],
   "source": []
  },
  {
   "cell_type": "code",
   "execution_count": null,
   "id": "489f6c14-26c6-492a-9f95-f7e45cda0d38",
   "metadata": {},
   "outputs": [],
   "source": []
  },
  {
   "cell_type": "code",
   "execution_count": 9,
   "id": "93c98edc-8594-4f8f-8e8a-c34d14b9549f",
   "metadata": {},
   "outputs": [
    {
     "name": "stdin",
     "output_type": "stream",
     "text": [
      "Enter the elements of the list to be squared :  1 2 3 4 5 6\n"
     ]
    },
    {
     "name": "stdout",
     "output_type": "stream",
     "text": [
      "The squared list is :  [1, 4, 9, 16, 25, 36]\n"
     ]
    }
   ],
   "source": [
    "s = input('Enter the elements of the list to be squared : ')\n",
    "list1 = [int(item) for item in s.split()]\n",
    "\n",
    "for i in range(len(list1)):\n",
    "    list1[i] = list1[i]*list1[i]\n",
    "    \n",
    "print('The squared list is : ', list1)"
   ]
  },
  {
   "cell_type": "code",
   "execution_count": null,
   "id": "0d3f3ce7-b230-4dc9-b9de-12bcb78feba9",
   "metadata": {},
   "outputs": [],
   "source": []
  },
  {
   "cell_type": "code",
   "execution_count": null,
   "id": "adb8b23b-7b36-4f8b-bd7c-b04658d06615",
   "metadata": {},
   "outputs": [],
   "source": [
    "\n"
   ]
  },
  {
   "cell_type": "code",
   "execution_count": 10,
   "id": "30dcad72-c115-444c-8d4a-c6700425ebae",
   "metadata": {},
   "outputs": [
    {
     "name": "stdin",
     "output_type": "stream",
     "text": [
      "Enter the elements of the list :  a b c d e f g h i j\n"
     ]
    },
    {
     "name": "stdout",
     "output_type": "stream",
     "text": [
      "Output as dictionary :  {'a': 0, 'b': 1, 'c': 2, 'd': 3, 'e': 4, 'f': 5, 'g': 6, 'h': 7, 'i': 8, 'j': 9}\n"
     ]
    }
   ],
   "source": [
    "s = input('Enter the elements of the list : ')\n",
    "list1 = [items for items in s.split()]\n",
    "dicr1 = { value : index for index, value in enumerate(list1)}\n",
    "\n",
    "print('Output as dictionary : ', dicr1)"
   ]
  },
  {
   "cell_type": "code",
   "execution_count": null,
   "id": "2fb9cfa1-f63c-4c38-ae15-303e2e99f84a",
   "metadata": {},
   "outputs": [],
   "source": []
  },
  {
   "cell_type": "code",
   "execution_count": null,
   "id": "129bbba4-0ccd-4136-a481-bb0b75efb008",
   "metadata": {},
   "outputs": [],
   "source": []
  },
  {
   "cell_type": "code",
   "execution_count": 11,
   "id": "bc9f45be-2d67-4ab9-bae4-8ebd6fa0e781",
   "metadata": {},
   "outputs": [
    {
     "name": "stdin",
     "output_type": "stream",
     "text": [
      "Enter the elements of the list :  1 2 3 4 5 6 7 8 9\n"
     ]
    },
    {
     "name": "stdout",
     "output_type": "stream",
     "text": [
      "Output :  [7, 1, 4, 9, 3, 8, 5, 6, 2]\n"
     ]
    }
   ],
   "source": [
    "import random\n",
    "\n",
    "s = input('Enter the elements of the list : ')\n",
    "list1 = [int(item) for item in s.split()]\n",
    " \n",
    "randomlist = random.sample(list1,len(list1))\n",
    "\n",
    "print('Output : ', randomlist)"
   ]
  },
  {
   "cell_type": "code",
   "execution_count": null,
   "id": "792f02a2-a5ed-4739-8129-26c06f55eacc",
   "metadata": {},
   "outputs": [],
   "source": []
  },
  {
   "cell_type": "code",
   "execution_count": null,
   "id": "55aa4f33-94f0-4fd4-9fb6-8b31f09c5ebd",
   "metadata": {},
   "outputs": [],
   "source": []
  },
  {
   "cell_type": "code",
   "execution_count": 19,
   "id": "584459ac-8b5f-4362-8351-83666339ef1d",
   "metadata": {},
   "outputs": [
    {
     "name": "stdout",
     "output_type": "stream",
     "text": [
      "The Output :  [1, 1, 2, 6, 24, 120, 720, 5040, 40320, 362880]\n"
     ]
    }
   ],
   "source": [
    "def fact1(n):\n",
    "    if n == 0 or n == 1:\n",
    "        return 1\n",
    "    else :\n",
    "        return n * factorial(n-1)\n",
    "    \n",
    "\n",
    "factnum = [fact1(i) for i in range(10)]\n",
    "\n",
    "print('The Output : ', factnum)"
   ]
  },
  {
   "cell_type": "code",
   "execution_count": null,
   "id": "b8d7c2d3-3664-47ad-b746-7c7ee6d50ae6",
   "metadata": {},
   "outputs": [],
   "source": []
  },
  {
   "cell_type": "code",
   "execution_count": null,
   "id": "086c25b6-a2c9-4db7-b03b-42db77c8fbbd",
   "metadata": {},
   "outputs": [],
   "source": []
  },
  {
   "cell_type": "code",
   "execution_count": 20,
   "id": "2f9d301a-afb8-40b6-a1ff-e4cf37c26d92",
   "metadata": {},
   "outputs": [
    {
     "name": "stdin",
     "output_type": "stream",
     "text": [
      "Enter the elements of the first list :  1 2 3 4 5 6\n",
      "Enter the elements of the second list :  3 6 9 12 15 18\n"
     ]
    },
    {
     "name": "stdout",
     "output_type": "stream",
     "text": [
      "The first list is :  [1, 2, 3, 4, 5, 6]\n",
      "The second list is :  [3, 6, 9, 12, 15, 18]\n",
      "At least one common element is present in both the sets\n"
     ]
    }
   ],
   "source": [
    "s1 = input('Enter the elements of the first list : ')\n",
    "s2 = input('Enter the elements of the second list : ')\n",
    "l1 = [int(items) for items in s1.split()]\n",
    "l2 = [int(items) for items in s2.split()]\n",
    "print('The first list is : ', l1)\n",
    "print('The second list is : ', l2)\n",
    "commonele = set(l1) & set(l2)\n",
    "\n",
    "if commonele:\n",
    "    print('At least one common element is present in both the sets')\n",
    "else:\n",
    "    print('No common elements are present in both the sets')\n",
    "    "
   ]
  },
  {
   "cell_type": "code",
   "execution_count": null,
   "id": "39774675-8e71-488d-a66c-1e6786c0d37d",
   "metadata": {},
   "outputs": [],
   "source": []
  },
  {
   "cell_type": "code",
   "execution_count": null,
   "id": "8f376d68-3c40-4fb7-a110-b155bb6840bc",
   "metadata": {},
   "outputs": [],
   "source": []
  },
  {
   "cell_type": "code",
   "execution_count": 21,
   "id": "ee083e8b-6f0e-4c51-8c7c-4ded28466491",
   "metadata": {},
   "outputs": [
    {
     "name": "stdin",
     "output_type": "stream",
     "text": [
      "Enter the elements of the list :  1 2 3 4 5 6 7 8\n"
     ]
    },
    {
     "name": "stdout",
     "output_type": "stream",
     "text": [
      "The list before element removal :  [1, 2, 3, 4, 5, 6, 7, 8]\n",
      "The list after element removal :  []\n"
     ]
    }
   ],
   "source": [
    "s = input('Enter the elements of the list : ')\n",
    "l1 = [int(items) for items in s.split()]\n",
    "\n",
    "print('The list before element removal : ', l1)\n",
    "\n",
    "while l1:\n",
    "    l1.pop()\n",
    "    \n",
    "print('The list after element removal : ', l1)\n"
   ]
  },
  {
   "cell_type": "code",
   "execution_count": null,
   "id": "26d3d6b6-3c89-4229-8280-9beab3ccf932",
   "metadata": {},
   "outputs": [],
   "source": []
  },
  {
   "cell_type": "code",
   "execution_count": null,
   "id": "ede1fa6d-8a33-489b-9d00-f1a861b37455",
   "metadata": {},
   "outputs": [],
   "source": []
  },
  {
   "cell_type": "code",
   "execution_count": 22,
   "id": "af5e0499-ea7c-45cf-8203-ec4eebf093bb",
   "metadata": {},
   "outputs": [
    {
     "name": "stdin",
     "output_type": "stream",
     "text": [
      "Enter the elements of the list :  1 2 3 4 -8 9 -7 0 -45\n"
     ]
    },
    {
     "name": "stdout",
     "output_type": "stream",
     "text": [
      "The list before modifications :  [1, 2, 3, 4, -8, 9, -7, 0, -45]\n",
      "The list after modifications :  [1, 2, 3, 4, 0, 9, 0, 0, 0]\n"
     ]
    }
   ],
   "source": [
    "s = input('Enter the elements of the list : ')\n",
    "l1 = [int(items) for items in s.split()]\n",
    "\n",
    "print('The list before modifications : ', l1)\n",
    "\n",
    "for i in range(len(l1)):\n",
    "    if l1[i] < 0:\n",
    "        l1[i] = 0\n",
    "\n",
    "print('The list after modifications : ', l1)"
   ]
  },
  {
   "cell_type": "code",
   "execution_count": null,
   "id": "8763b57b-2e18-42b3-b3f1-2a4756bdd791",
   "metadata": {},
   "outputs": [],
   "source": []
  },
  {
   "cell_type": "code",
   "execution_count": null,
   "id": "5c94e20e-380b-48a5-9b3d-58ccc1ffb759",
   "metadata": {},
   "outputs": [],
   "source": []
  },
  {
   "cell_type": "code",
   "execution_count": 23,
   "id": "7fc6ed50-6872-404f-8f2f-bd607f4aca29",
   "metadata": {},
   "outputs": [
    {
     "name": "stdin",
     "output_type": "stream",
     "text": [
      "Enter the elements of the list :  Hello my name is Anthony Gonsalvez\n"
     ]
    },
    {
     "name": "stdout",
     "output_type": "stream",
     "text": [
      "List of words :  ['Hello', 'my', 'name', 'is', 'Anthony', 'Gonsalvez']\n"
     ]
    }
   ],
   "source": [
    "s = input('Enter the elements of the list : ')\n",
    "l1 = [(items) for items in s.split()]\n",
    "\n",
    "print('List of words : ', l1)\n"
   ]
  },
  {
   "cell_type": "code",
   "execution_count": null,
   "id": "084c39c4-831e-49ca-90a8-d3a891928d66",
   "metadata": {},
   "outputs": [],
   "source": []
  },
  {
   "cell_type": "code",
   "execution_count": null,
   "id": "2eed937f-7823-4fcc-8dda-38625e098596",
   "metadata": {},
   "outputs": [],
   "source": []
  },
  {
   "cell_type": "code",
   "execution_count": 24,
   "id": "7b246ba9-c7ce-4cba-8320-765e6c9fcbe2",
   "metadata": {},
   "outputs": [
    {
     "name": "stdout",
     "output_type": "stream",
     "text": [
      "Hello my name is Anthony Gonsalvez\n"
     ]
    }
   ],
   "source": [
    "l1 = ['Hello', 'my', 'name', 'is', 'Anthony', 'Gonsalvez']\n",
    "s = ' '.join(l1)\n",
    "\n",
    "print(s)"
   ]
  },
  {
   "cell_type": "code",
   "execution_count": null,
   "id": "3780c6aa-1dbb-4faa-98da-141ce0539441",
   "metadata": {},
   "outputs": [],
   "source": []
  },
  {
   "cell_type": "code",
   "execution_count": null,
   "id": "28f8efc9-4548-457d-be2f-0a6418f25193",
   "metadata": {},
   "outputs": [],
   "source": []
  },
  {
   "cell_type": "code",
   "execution_count": 25,
   "id": "b293ce84-3fa1-45a6-bdd7-dd84db046f55",
   "metadata": {},
   "outputs": [
    {
     "name": "stdin",
     "output_type": "stream",
     "text": [
      "Enter the nth power of 2 :  10\n"
     ]
    },
    {
     "name": "stdout",
     "output_type": "stream",
     "text": [
      "The list of nth powers of 2 is :  [1, 2, 4, 8, 16, 32, 64, 128, 256, 512, 1024]\n"
     ]
    }
   ],
   "source": [
    "n = int(input('Enter the nth power of 2 : '))\n",
    "\n",
    "list1 = [2**i for i in range(n+1)]\n",
    "\n",
    "print('The list of nth powers of 2 is : ', list1)"
   ]
  },
  {
   "cell_type": "code",
   "execution_count": null,
   "id": "1c7a5e65-69cd-425b-b818-910eb6e109b4",
   "metadata": {},
   "outputs": [],
   "source": []
  },
  {
   "cell_type": "code",
   "execution_count": null,
   "id": "40e829d3-7d1a-48c5-a67e-a43fabf5bb0c",
   "metadata": {},
   "outputs": [],
   "source": []
  },
  {
   "cell_type": "code",
   "execution_count": 26,
   "id": "7a92b9bd-b143-473c-88f8-f521297bc0a4",
   "metadata": {},
   "outputs": [
    {
     "name": "stdout",
     "output_type": "stream",
     "text": [
      "Max string present inside the list :  tangerine\n"
     ]
    }
   ],
   "source": [
    "l1 = ['red','blue','green','yellow','pink','black','white','emerald','tangerine']\n",
    "\n",
    "maxstr = max(l1, key=len)\n",
    "\n",
    "print('Max string present inside the list : ', maxstr)"
   ]
  },
  {
   "cell_type": "code",
   "execution_count": null,
   "id": "f1f281a2-eb7c-429d-90e8-82fe7d086940",
   "metadata": {},
   "outputs": [],
   "source": []
  },
  {
   "cell_type": "code",
   "execution_count": null,
   "id": "e504ba32-4499-43e2-acca-523ec7a8a9ef",
   "metadata": {},
   "outputs": [],
   "source": []
  },
  {
   "cell_type": "code",
   "execution_count": 27,
   "id": "5e25d0eb-0955-4142-99dd-2232feff4501",
   "metadata": {},
   "outputs": [
    {
     "name": "stdout",
     "output_type": "stream",
     "text": [
      "Max string present inside the list :  blue\n"
     ]
    }
   ],
   "source": [
    "l1 = ['redex','blue','green','yellow','pink','black','white','emerald','tangerine']\n",
    "\n",
    "minstr = min(l1, key=len)\n",
    "\n",
    "print('Max string present inside the list : ', minstr)"
   ]
  },
  {
   "cell_type": "code",
   "execution_count": null,
   "id": "53a5c439-8365-4952-bad4-eaaba65fd1a5",
   "metadata": {},
   "outputs": [],
   "source": []
  },
  {
   "cell_type": "code",
   "execution_count": null,
   "id": "4a2e13c0-b6a4-4965-93de-35acf3f641af",
   "metadata": {},
   "outputs": [],
   "source": []
  },
  {
   "cell_type": "code",
   "execution_count": 28,
   "id": "ebb251c0-4a35-47f0-a492-50bfd00cf992",
   "metadata": {},
   "outputs": [
    {
     "name": "stdin",
     "output_type": "stream",
     "text": [
      "Enter the nth limit of the triangular numbers :  10\n"
     ]
    },
    {
     "name": "stdout",
     "output_type": "stream",
     "text": [
      "The list of triangular numbers are :  [0.0, 1.0, 3.0, 6.0, 10.0, 15.0, 21.0, 28.0, 36.0, 45.0]\n"
     ]
    }
   ],
   "source": [
    "n = int(input('Enter the nth limit of the triangular numbers : '))\n",
    "\n",
    "triangularset = [(i*(i+1))/2 for i in range(n)]\n",
    "\n",
    "print('The list of triangular numbers are : ', triangularset)"
   ]
  },
  {
   "cell_type": "code",
   "execution_count": null,
   "id": "23f49f34-6b7b-4cbe-900e-c615a1bcb8c3",
   "metadata": {},
   "outputs": [],
   "source": []
  },
  {
   "cell_type": "code",
   "execution_count": null,
   "id": "732f336b-2d11-4814-9e35-55815dc424e1",
   "metadata": {},
   "outputs": [],
   "source": []
  },
  {
   "cell_type": "code",
   "execution_count": 31,
   "id": "7043453e-4e30-42ee-b535-1c9d0c0f7a55",
   "metadata": {},
   "outputs": [
    {
     "name": "stdout",
     "output_type": "stream",
     "text": [
      "Subsequence is present\n"
     ]
    }
   ],
   "source": [
    "def checkitz(mainlist, sublist):\n",
    "    mainlen = len(mainlist)\n",
    "    sublen = len(sublist)\n",
    "    i,j = 0,0\n",
    "    \n",
    "    \n",
    "    while i<mainlen and j<sublen:\n",
    "        if mainlist[i]==sublist[j]:\n",
    "            j = j + 1\n",
    "        i = i + 1\n",
    "        \n",
    "    return j == sublen\n",
    "\n",
    "mainlist = [1,2,3,4,5,6,7]\n",
    "sublist = [3,4,5]\n",
    "\n",
    "if checkitz(mainlist, sublist):\n",
    "    print('Subsequence is present')\n",
    "else:\n",
    "    print('Subsequence is not present')"
   ]
  },
  {
   "cell_type": "code",
   "execution_count": null,
   "id": "f8dcd099-5e62-4fef-9e2c-2e398a27afba",
   "metadata": {},
   "outputs": [],
   "source": []
  },
  {
   "cell_type": "code",
   "execution_count": null,
   "id": "e2b19afd-0376-494b-b52a-2207abcb7085",
   "metadata": {},
   "outputs": [],
   "source": []
  },
  {
   "cell_type": "code",
   "execution_count": 32,
   "id": "d5036485-bcb0-4b02-97e0-84b010390037",
   "metadata": {},
   "outputs": [
    {
     "name": "stdin",
     "output_type": "stream",
     "text": [
      "Enter the elements of the list :  1 2 3 4 5 6 7 8\n",
      "Enter the first index selected for swapping :  4\n",
      "Enter the second index selected for swapping :  5\n"
     ]
    },
    {
     "name": "stdout",
     "output_type": "stream",
     "text": [
      "The list before swapping :  [1, 2, 3, 4, 5, 6, 7, 8]\n",
      "The list after swapping :  [1, 2, 3, 4, 6, 5, 7, 8]\n"
     ]
    }
   ],
   "source": [
    "s = input('Enter the elements of the list : ')\n",
    "list1 = [int(item) for item in s.split()]\n",
    "\n",
    "n1 = int(input('Enter the first index selected for swapping : '))\n",
    "n2 = int(input('Enter the second index selected for swapping : '))\n",
    "\n",
    "print('The list before swapping : ', list1)\n",
    "\n",
    "list1[n1], list1[n2] = list1[n2], list1[n1]\n",
    "\n",
    "print('The list after swapping : ', list1)"
   ]
  },
  {
   "cell_type": "code",
   "execution_count": null,
   "id": "5233a06e-39c4-4960-9a9d-796ab10e6472",
   "metadata": {},
   "outputs": [],
   "source": []
  },
  {
   "cell_type": "code",
   "execution_count": null,
   "id": "3f1e37c3-c718-4581-86bb-a61173a143f3",
   "metadata": {},
   "outputs": [],
   "source": []
  },
  {
   "cell_type": "code",
   "execution_count": null,
   "id": "053d30c9-21fb-46e9-aa22-af0117779c86",
   "metadata": {},
   "outputs": [],
   "source": []
  },
  {
   "cell_type": "code",
   "execution_count": null,
   "id": "07ea29d8-d170-405b-89eb-fbbc59bffe0e",
   "metadata": {},
   "outputs": [],
   "source": []
  },
  {
   "cell_type": "markdown",
   "id": "cc2d1674-5742-4bcc-8eed-a3a902881afe",
   "metadata": {},
   "source": [
    "Tuple Based Practice Problem :"
   ]
  },
  {
   "cell_type": "code",
   "execution_count": null,
   "id": "c29718f3-0e37-4996-858d-ccf0869a0903",
   "metadata": {},
   "outputs": [],
   "source": []
  },
  {
   "cell_type": "code",
   "execution_count": 3,
   "id": "8ad23622-ae52-4ab1-a636-582b349d131e",
   "metadata": {},
   "outputs": [
    {
     "name": "stdin",
     "output_type": "stream",
     "text": [
      "Input the elements of the tuple :  1 2 3 4 5\n"
     ]
    },
    {
     "name": "stdout",
     "output_type": "stream",
     "text": [
      "The tuple with integers 1 to 5 is :  (1, 2, 3, 4, 5)\n"
     ]
    }
   ],
   "source": [
    "s = input('Input the elements of the tuple : ')\n",
    "num = s.split()\n",
    "t = tuple(map(int,num))\n",
    "print('The tuple with integers 1 to 5 is : ', t)"
   ]
  },
  {
   "cell_type": "code",
   "execution_count": null,
   "id": "609df675-9e81-4363-8e81-34679869eba4",
   "metadata": {},
   "outputs": [],
   "source": []
  },
  {
   "cell_type": "code",
   "execution_count": null,
   "id": "ebad626b-48c5-496a-a668-033151b4b83a",
   "metadata": {},
   "outputs": [],
   "source": []
  },
  {
   "cell_type": "code",
   "execution_count": 5,
   "id": "5d7531dc-fb54-41ec-ad1c-b0797b5365e0",
   "metadata": {},
   "outputs": [
    {
     "name": "stdin",
     "output_type": "stream",
     "text": [
      "Enter the elements of the tuple :  1 2 3 4 5\n",
      "Enter the position of the element to be accessed :  2\n"
     ]
    },
    {
     "name": "stdout",
     "output_type": "stream",
     "text": [
      "The element at  3 th position is :  3\n"
     ]
    }
   ],
   "source": [
    "s = input('Enter the elements of the tuple : ')\n",
    "num = s.split()\n",
    "t = tuple(map(int,num))\n",
    "n = int(input('Enter the position of the element to be accessed : '))\n",
    "nt = t[n]\n",
    "print('The element at ',n+1,'th position is : ',nt)"
   ]
  },
  {
   "cell_type": "code",
   "execution_count": null,
   "id": "91be15a0-5517-4041-b8b5-b42d4883f74a",
   "metadata": {},
   "outputs": [],
   "source": []
  },
  {
   "cell_type": "code",
   "execution_count": null,
   "id": "aba211a5-9d92-4c78-be60-106ec4510f6b",
   "metadata": {},
   "outputs": [],
   "source": []
  },
  {
   "cell_type": "code",
   "execution_count": 6,
   "id": "7c007d22-d641-450b-af3f-16909fcd04f4",
   "metadata": {},
   "outputs": [
    {
     "name": "stdin",
     "output_type": "stream",
     "text": [
      "Enter the elements of the tuple :  1 2 3 4 5\n"
     ]
    },
    {
     "name": "stdout",
     "output_type": "stream",
     "text": [
      "The length of tuple t : (1, 2, 3, 4, 5)  is :  5\n"
     ]
    }
   ],
   "source": [
    "s = input('Enter the elements of the tuple : ')\n",
    "num = s.split()\n",
    "t = tuple(map(int,num))\n",
    "count  = 0\n",
    "\n",
    "for i in t:\n",
    "    count =  count + 1\n",
    "    \n",
    "print('The length of tuple t :',t,' is : ',count)\n"
   ]
  },
  {
   "cell_type": "code",
   "execution_count": null,
   "id": "59be820d-3136-4a9f-a36d-72b70c32f71b",
   "metadata": {},
   "outputs": [],
   "source": []
  },
  {
   "cell_type": "code",
   "execution_count": null,
   "id": "a600d5a0-8369-4fe6-b3c8-1717df88ad18",
   "metadata": {},
   "outputs": [],
   "source": []
  },
  {
   "cell_type": "code",
   "execution_count": 2,
   "id": "32eb8941-df8e-4f1c-8501-b4c87029e9a1",
   "metadata": {},
   "outputs": [
    {
     "name": "stdin",
     "output_type": "stream",
     "text": [
      "Enter the elements of the tuple :  1 2 3 4 5 6 3 4 5 2 1 6 4 4 3 2 5 4 6 1\n",
      "Enter the occurence of the element :  4\n"
     ]
    },
    {
     "name": "stdout",
     "output_type": "stream",
     "text": [
      "The occurence of 4 is : 5\n"
     ]
    }
   ],
   "source": [
    "s = input('Enter the elements of the tuple : ')\n",
    "num1 = s.split()\n",
    "t = tuple(map(int, num1))\n",
    "\n",
    "n = int(input('Enter the occurence of the element : '))\n",
    "\n",
    "c = t.count(n)\n",
    "\n",
    "print('The occurence of',n,'is :',c)"
   ]
  },
  {
   "cell_type": "code",
   "execution_count": null,
   "id": "64d7fae0-ed3b-4105-81bd-8cfb2edf2483",
   "metadata": {},
   "outputs": [],
   "source": []
  },
  {
   "cell_type": "code",
   "execution_count": null,
   "id": "15f28d31-2a2c-49ac-bed1-bfeb367d337b",
   "metadata": {},
   "outputs": [],
   "source": []
  },
  {
   "cell_type": "code",
   "execution_count": 3,
   "id": "42c691a2-bb14-4b78-8d9d-95055c03dddc",
   "metadata": {},
   "outputs": [
    {
     "name": "stdin",
     "output_type": "stream",
     "text": [
      "Enter the elements of the tuple :   1 2 2 3 4 5 6 6 5 4 1\n",
      "Enter the element for finding its first occurence :  2\n"
     ]
    },
    {
     "name": "stdout",
     "output_type": "stream",
     "text": [
      "The occurence of 2 is : 1\n"
     ]
    }
   ],
   "source": [
    "s = input('Enter the elements of the tuple : ')\n",
    "num1 = s.split()\n",
    "t = tuple(map(int, num1))\n",
    "\n",
    "n = int(input('Enter the element for finding its first occurence : '))\n",
    "\n",
    "i = t.index(n)\n",
    "\n",
    "print('The occurence of',n,'is :',i)"
   ]
  },
  {
   "cell_type": "code",
   "execution_count": null,
   "id": "1f213970-5e03-4ef5-b550-3fa3660128b5",
   "metadata": {},
   "outputs": [],
   "source": []
  },
  {
   "cell_type": "code",
   "execution_count": null,
   "id": "019a0406-00ed-4d61-80e6-383781fc5f52",
   "metadata": {},
   "outputs": [],
   "source": [
    "\n"
   ]
  },
  {
   "cell_type": "code",
   "execution_count": 7,
   "id": "0d7e2389-656e-4230-807c-0630704136ae",
   "metadata": {},
   "outputs": [
    {
     "name": "stdin",
     "output_type": "stream",
     "text": [
      "Enter the elements of the tuple :  1 2 3 4 5 6 7 8\n",
      "Enter the element to be checked for :  6\n"
     ]
    },
    {
     "name": "stdout",
     "output_type": "stream",
     "text": [
      "Element 6 exists in the tuple ('1', '2', '3', '4', '5', '6', '7', '8')\n"
     ]
    }
   ],
   "source": [
    "s = input('Enter the elements of the tuple : ')\n",
    "n1 = s.split()\n",
    "t = tuple(n1)\n",
    "i = input('Enter the element to be checked for : ')\n",
    "\n",
    "if i in t:\n",
    "    print(f'Element {i} exists in the tuple {t}')\n",
    "    \n",
    "else:\n",
    "    print(f'Element is not found inside of the tuple')\n",
    "    "
   ]
  },
  {
   "cell_type": "code",
   "execution_count": null,
   "id": "29e2a71e-2fbd-4b06-a884-3487d3fcea55",
   "metadata": {},
   "outputs": [],
   "source": []
  },
  {
   "cell_type": "code",
   "execution_count": null,
   "id": "07b63a7f-87b6-4c8a-8db7-5d53f318fe2a",
   "metadata": {},
   "outputs": [],
   "source": []
  },
  {
   "cell_type": "code",
   "execution_count": 8,
   "id": "041f510f-cebf-477a-8217-ce62ba258154",
   "metadata": {},
   "outputs": [
    {
     "name": "stdin",
     "output_type": "stream",
     "text": [
      "Enter the elements of the tuple :  1 2 3 4 5 6 7 8\n"
     ]
    },
    {
     "name": "stdout",
     "output_type": "stream",
     "text": [
      "The new list is :  ['1', '2', '3', '4', '5', '6', '7', '8']\n"
     ]
    }
   ],
   "source": [
    "s = input('Enter the elements of the tuple : ')\n",
    "n = s.split()\n",
    "t = tuple(n)\n",
    "l = list(t)\n",
    "print('The new list is : ', l)"
   ]
  },
  {
   "cell_type": "code",
   "execution_count": null,
   "id": "3983aeca-963a-42cd-85a2-bf79d205f769",
   "metadata": {},
   "outputs": [],
   "source": []
  },
  {
   "cell_type": "code",
   "execution_count": null,
   "id": "7b26f691-3507-428f-807e-99313fbfa93e",
   "metadata": {},
   "outputs": [],
   "source": []
  },
  {
   "cell_type": "code",
   "execution_count": 1,
   "id": "e0f6513d-d47e-4a9f-b23a-195042b92de7",
   "metadata": {},
   "outputs": [
    {
     "name": "stdin",
     "output_type": "stream",
     "text": [
      "Enter the elements of the list :  1 2 3 4 5 6 7 8\n"
     ]
    },
    {
     "name": "stdout",
     "output_type": "stream",
     "text": [
      "The list :  ['1', '2', '3', '4', '5', '6', '7', '8']\n",
      "The tuple :  ('1', '2', '3', '4', '5', '6', '7', '8')\n"
     ]
    }
   ],
   "source": [
    "s = input('Enter the elements of the list : ')\n",
    "l = [item for item in s.split()]\n",
    "print('The list : ',l)\n",
    "t = tuple(l)\n",
    "print('The tuple : ',t)"
   ]
  },
  {
   "cell_type": "code",
   "execution_count": null,
   "id": "bc726fbe-cc3e-4568-9502-962484e9f657",
   "metadata": {},
   "outputs": [],
   "source": []
  },
  {
   "cell_type": "code",
   "execution_count": null,
   "id": "fc153d86-cd15-43f1-9158-dd6e5b48161a",
   "metadata": {},
   "outputs": [],
   "source": []
  },
  {
   "cell_type": "code",
   "execution_count": 2,
   "id": "38d0d242-b503-43a8-8e63-51af07501876",
   "metadata": {},
   "outputs": [
    {
     "name": "stdout",
     "output_type": "stream",
     "text": [
      " a :  1\n",
      " b :  2\n",
      " c :  3\n",
      " d :  4\n",
      " e :  5\n"
     ]
    }
   ],
   "source": [
    "t = (1,2,3,4,5)\n",
    "a,b,c,d,e = t\n",
    "print(' a : ',a)\n",
    "print(' b : ', b)\n",
    "print(' c : ', c)\n",
    "print(' d : ', d)\n",
    "print(' e : ', e)"
   ]
  },
  {
   "cell_type": "code",
   "execution_count": null,
   "id": "7b5c425d-e9a3-4a53-a1ca-b5ae411da28d",
   "metadata": {},
   "outputs": [],
   "source": []
  },
  {
   "cell_type": "code",
   "execution_count": null,
   "id": "2a62122a-1a1f-4701-b54e-db87a8b37504",
   "metadata": {},
   "outputs": [],
   "source": []
  },
  {
   "cell_type": "code",
   "execution_count": 12,
   "id": "a0deac15-79a3-4044-a465-a798906e645f",
   "metadata": {},
   "outputs": [
    {
     "name": "stdin",
     "output_type": "stream",
     "text": [
      "Enter the elements of the tuple :  1 2 3 4 5 6 7 8 9 10\n"
     ]
    },
    {
     "name": "stdout",
     "output_type": "stream",
     "text": [
      "The tuple of even numbers is :  (2, 4, 6, 8, 10)\n"
     ]
    }
   ],
   "source": [
    "s = input('Enter the elements of the tuple : ')\n",
    "s1 = s.split()\n",
    "x = [int(n) for n in s1 if int(n) %2==0]\n",
    "y = tuple(x)\n",
    "print('The tuple of even numbers is : ', y)"
   ]
  },
  {
   "cell_type": "code",
   "execution_count": null,
   "id": "4c726b0b-1efa-420d-8f77-d2d0c2d7e09e",
   "metadata": {},
   "outputs": [],
   "source": []
  },
  {
   "cell_type": "code",
   "execution_count": null,
   "id": "dd374009-3716-450c-a484-7c8168b7d863",
   "metadata": {},
   "outputs": [],
   "source": []
  },
  {
   "cell_type": "code",
   "execution_count": 13,
   "id": "a11ff2aa-4628-4070-ad7c-143aa897cc18",
   "metadata": {},
   "outputs": [
    {
     "name": "stdin",
     "output_type": "stream",
     "text": [
      "Enter the elements of the tuple :  1 2 3 4 5 6 7 8 9 10\n"
     ]
    },
    {
     "name": "stdout",
     "output_type": "stream",
     "text": [
      "The tuple of even numbers is :  (1, 3, 5, 7, 9)\n"
     ]
    }
   ],
   "source": [
    "s = input('Enter the elements of the tuple : ')\n",
    "s1 = s.split()\n",
    "x = [int(n) for n in s1 if int(n) %2!=0]\n",
    "y = tuple(x)\n",
    "print('The tuple of even numbers is : ', y)"
   ]
  },
  {
   "cell_type": "code",
   "execution_count": null,
   "id": "1a5770b5-16f5-494d-91a1-e28c77cfb5bf",
   "metadata": {},
   "outputs": [],
   "source": []
  },
  {
   "cell_type": "code",
   "execution_count": null,
   "id": "dcfaf520-b788-4043-b60d-1c9fa04af5b9",
   "metadata": {},
   "outputs": [],
   "source": []
  },
  {
   "cell_type": "code",
   "execution_count": 15,
   "id": "5353992c-07da-476c-bad3-dc0611f0bca1",
   "metadata": {},
   "outputs": [
    {
     "name": "stdin",
     "output_type": "stream",
     "text": [
      "Enter the elements of the first tuple :  1 2 3 4\n",
      "Enter the elements of the second tuple :  5 6 7 8\n"
     ]
    },
    {
     "name": "stdout",
     "output_type": "stream",
     "text": [
      "The concatenated tuple is :  ('1', '2', '3', '4', '5', '6', '7', '8')\n"
     ]
    }
   ],
   "source": [
    "s = input('Enter the elements of the first tuple : ')\n",
    "x = input('Enter the elements of the second tuple : ')\n",
    "s1 = s.split()\n",
    "x1 = x.split()\n",
    "t1 = tuple(map(str, s1))\n",
    "t2 = tuple(map(str, x1))\n",
    "concat_t = t1 + t2\n",
    "print('The concatenated tuple is : ', concat_t)"
   ]
  },
  {
   "cell_type": "code",
   "execution_count": null,
   "id": "01fc65d7-fe0c-4311-8b05-524c257b1212",
   "metadata": {},
   "outputs": [],
   "source": []
  },
  {
   "cell_type": "code",
   "execution_count": null,
   "id": "447f2982-d10b-4c5e-a0b2-b5062d040981",
   "metadata": {},
   "outputs": [],
   "source": []
  },
  {
   "cell_type": "code",
   "execution_count": 19,
   "id": "c6d8e8ae-734c-4813-9076-3e9c19210e9b",
   "metadata": {},
   "outputs": [
    {
     "name": "stdin",
     "output_type": "stream",
     "text": [
      "Enter the elements of the tuple :  1 2 3 4\n"
     ]
    },
    {
     "name": "stdout",
     "output_type": "stream",
     "text": [
      "The tuple after 3 times of repetition is :  (1, 2, 3, 4, 1, 2, 3, 4, 1, 2, 3, 4)\n"
     ]
    }
   ],
   "source": [
    "s = input('Enter the elements of the tuple : ')\n",
    "s1 = s.split()\n",
    "t = tuple(map(int, s1))\n",
    "repeat_t = t*3\n",
    "print('The tuple after 3 times of repetition is : ', repeat_t)"
   ]
  },
  {
   "cell_type": "code",
   "execution_count": null,
   "id": "763c2063-038d-43d7-afaa-5d6d53ec851b",
   "metadata": {},
   "outputs": [],
   "source": []
  },
  {
   "cell_type": "code",
   "execution_count": null,
   "id": "87240890-f4fd-48c5-991c-42fa91b6e8c5",
   "metadata": {},
   "outputs": [],
   "source": []
  },
  {
   "cell_type": "code",
   "execution_count": 20,
   "id": "7fc1a491-6a4c-4792-94de-536a0f2710f8",
   "metadata": {},
   "outputs": [
    {
     "name": "stdout",
     "output_type": "stream",
     "text": [
      "The tuple is empty\n"
     ]
    }
   ],
   "source": [
    "t = ()\n",
    "\n",
    "if len(t)==0:\n",
    "    print('The tuple is empty')\n",
    "else:\n",
    "    print('The tuple is not empty')"
   ]
  },
  {
   "cell_type": "code",
   "execution_count": null,
   "id": "20524342-d0ba-4919-b252-29275e85ab52",
   "metadata": {},
   "outputs": [],
   "source": []
  },
  {
   "cell_type": "code",
   "execution_count": null,
   "id": "8f5d23aa-b9bc-408e-9ae9-430f7d09b53f",
   "metadata": {},
   "outputs": [],
   "source": []
  },
  {
   "cell_type": "code",
   "execution_count": 21,
   "id": "14ac458e-00b5-47ff-88af-23064f35e186",
   "metadata": {},
   "outputs": [
    {
     "name": "stdout",
     "output_type": "stream",
     "text": [
      "The nested tuple is :  ('a', ('b', ('c', 'd')), ('e', ('f', ('g', 'h'))))\n"
     ]
    }
   ],
   "source": [
    "t = (('a'), ('b',('c','d')), ('e',('f',('g','h'))))\n",
    "print('The nested tuple is : ', t)"
   ]
  },
  {
   "cell_type": "code",
   "execution_count": null,
   "id": "c321b854-b8c9-4c06-b80a-83af9a4f1335",
   "metadata": {},
   "outputs": [],
   "source": []
  },
  {
   "cell_type": "code",
   "execution_count": null,
   "id": "5e41f486-ec50-4b03-97c9-89fd6a9427fe",
   "metadata": {},
   "outputs": [],
   "source": []
  },
  {
   "cell_type": "code",
   "execution_count": 24,
   "id": "4e94c331-7b5a-43fd-9657-14c97038a33f",
   "metadata": {},
   "outputs": [
    {
     "name": "stdout",
     "output_type": "stream",
     "text": [
      "The first element inside of the nested tuple is :  a\n"
     ]
    }
   ],
   "source": [
    "t = (('a','f'), ('b',('c','d')), ('e',('f',('g','h'))))\n",
    "\n",
    "f1 = t[0]\n",
    "finner1 = f1[0]\n",
    "\n",
    "print('The first element inside of the nested tuple is : ', finner1)"
   ]
  },
  {
   "cell_type": "code",
   "execution_count": null,
   "id": "8d5fc7e7-7f22-4810-94a7-08659ff0b99e",
   "metadata": {},
   "outputs": [],
   "source": []
  },
  {
   "cell_type": "code",
   "execution_count": null,
   "id": "ef3b1ab4-91ff-409b-b7e5-f22460486fbf",
   "metadata": {},
   "outputs": [],
   "source": []
  },
  {
   "cell_type": "code",
   "execution_count": 25,
   "id": "cdd99da2-a9bf-4f0b-b6d6-ba996f0da986",
   "metadata": {},
   "outputs": [
    {
     "name": "stdin",
     "output_type": "stream",
     "text": [
      "Enter the element of the tuple :  4\n"
     ]
    },
    {
     "name": "stdout",
     "output_type": "stream",
     "text": [
      "The required tuple is :  ('4',)\n"
     ]
    }
   ],
   "source": [
    "s = input('Enter the element of the tuple : ')\n",
    "s1 = s.split()\n",
    "t = tuple(map(str, s1))\n",
    "print('The required tuple is : ', t)"
   ]
  },
  {
   "cell_type": "code",
   "execution_count": null,
   "id": "7d1fc029-3a8e-4e9e-99ac-5eb09732e249",
   "metadata": {},
   "outputs": [],
   "source": []
  },
  {
   "cell_type": "code",
   "execution_count": null,
   "id": "ce0d66fc-9a8c-479b-9b8e-52d529269d59",
   "metadata": {},
   "outputs": [],
   "source": []
  },
  {
   "cell_type": "code",
   "execution_count": 29,
   "id": "fbc345f5-d896-4ec9-96c2-a45d6c7dc20c",
   "metadata": {},
   "outputs": [
    {
     "name": "stdin",
     "output_type": "stream",
     "text": [
      "Enter the elements of the first tuple :  1 2 3 4 \n"
     ]
    },
    {
     "name": "stdout",
     "output_type": "stream",
     "text": [
      "The first tuple is :  (1, 2, 3, 4)\n"
     ]
    },
    {
     "name": "stdin",
     "output_type": "stream",
     "text": [
      "Enter the elements of the second tuple :  5 6 7 8\n"
     ]
    },
    {
     "name": "stdout",
     "output_type": "stream",
     "text": [
      "The second tuple is :  (5, 6, 7, 8)\n",
      " t2 > t2 \n"
     ]
    }
   ],
   "source": [
    "s = input('Enter the elements of the first tuple : ')\n",
    "s1 = s.split()\n",
    "t1 = tuple(map(int, s1))\n",
    "print('The first tuple is : ', t1)\n",
    "x = input('Enter the elements of the second tuple : ')\n",
    "x1 = x.split()\n",
    "t2 = tuple(map(int, x1))\n",
    "print('The second tuple is : ', t2)\n",
    "\n",
    "if t1 > t2 :\n",
    "    print(' t1 > t2 ')\n",
    "elif t1 < t2 :\n",
    "    print(' t2 > t2 ')\n",
    "else :\n",
    "    print('Both the tuples are equal')"
   ]
  },
  {
   "cell_type": "code",
   "execution_count": null,
   "id": "fb3be183-259c-4829-95ea-9b34e2c9f482",
   "metadata": {},
   "outputs": [],
   "source": []
  },
  {
   "cell_type": "code",
   "execution_count": null,
   "id": "8d74695e-08dd-4525-be9b-73ece862df4b",
   "metadata": {},
   "outputs": [],
   "source": []
  },
  {
   "cell_type": "code",
   "execution_count": 30,
   "id": "e4b0569c-39f2-48c4-9e52-034c72dc721f",
   "metadata": {},
   "outputs": [
    {
     "name": "stdin",
     "output_type": "stream",
     "text": [
      "Enter the elements of the tuple :  1 2 3 4 5 6\n"
     ]
    },
    {
     "name": "stdout",
     "output_type": "stream",
     "text": [
      "The tuple t before deletion :  (1, 2, 3, 4, 5, 6)\n"
     ]
    },
    {
     "ename": "NameError",
     "evalue": "name 't' is not defined",
     "output_type": "error",
     "traceback": [
      "\u001b[0;31m---------------------------------------------------------------------------\u001b[0m",
      "\u001b[0;31mNameError\u001b[0m                                 Traceback (most recent call last)",
      "Cell \u001b[0;32mIn[30], line 9\u001b[0m\n\u001b[1;32m      5\u001b[0m \u001b[38;5;28mprint\u001b[39m(\u001b[38;5;124m'\u001b[39m\u001b[38;5;124mThe tuple t before deletion : \u001b[39m\u001b[38;5;124m'\u001b[39m, t)\n\u001b[1;32m      7\u001b[0m \u001b[38;5;28;01mdel\u001b[39;00m t\n\u001b[0;32m----> 9\u001b[0m \u001b[38;5;28mprint\u001b[39m(\u001b[38;5;124m'\u001b[39m\u001b[38;5;124mThe tuple t after deletion : \u001b[39m\u001b[38;5;124m'\u001b[39m, \u001b[43mt\u001b[49m)\n",
      "\u001b[0;31mNameError\u001b[0m: name 't' is not defined"
     ]
    }
   ],
   "source": [
    "s = input('Enter the elements of the tuple : ')\n",
    "s1 = s.split()\n",
    "t = tuple(map(int, s1))\n",
    "\n",
    "print('The tuple t before deletion : ', t)\n",
    "\n",
    "del t\n",
    "\n",
    "print('The tuple t after deletion : ', t)"
   ]
  },
  {
   "cell_type": "code",
   "execution_count": null,
   "id": "0034ba86-edf2-4241-8aab-3a446b5cea58",
   "metadata": {},
   "outputs": [],
   "source": []
  },
  {
   "cell_type": "code",
   "execution_count": null,
   "id": "99824d4d-5531-49da-9ac2-47bb13475fc3",
   "metadata": {},
   "outputs": [],
   "source": []
  },
  {
   "cell_type": "code",
   "execution_count": 32,
   "id": "5d891f5d-d7af-4dfa-a0b5-2d038c02d0e5",
   "metadata": {},
   "outputs": [
    {
     "name": "stdin",
     "output_type": "stream",
     "text": [
      "Enter the elements of the tuple :  1 2 3 4 5 6 7 8 9\n"
     ]
    },
    {
     "name": "stdout",
     "output_type": "stream",
     "text": [
      "The tuple t :  (1, 2, 3, 4, 5, 6, 7, 8, 9)\n",
      "The sliced part of tuple t, slc :  (4, 5, 6, 7)\n"
     ]
    }
   ],
   "source": [
    "s = input('Enter the elements of the tuple : ')\n",
    "s1 = s.split()\n",
    "t = tuple(map(int, s1))\n",
    "print('The tuple t : ', t)\n",
    "\n",
    "slc = t[3:7]\n",
    "\n",
    "print('The sliced part of tuple t, slc : ', slc)"
   ]
  },
  {
   "cell_type": "code",
   "execution_count": null,
   "id": "7f00dd24-b867-45bb-89bb-d4ebce86e03d",
   "metadata": {},
   "outputs": [],
   "source": []
  },
  {
   "cell_type": "code",
   "execution_count": null,
   "id": "b2cce70f-4e7c-4ad8-bf56-aae698d77d6c",
   "metadata": {},
   "outputs": [],
   "source": []
  },
  {
   "cell_type": "code",
   "execution_count": 33,
   "id": "5a2ea182-0f97-49ff-87f7-e205d89c7964",
   "metadata": {},
   "outputs": [
    {
     "name": "stdin",
     "output_type": "stream",
     "text": [
      "Enter the elements of the tuple :  1 2 3 4 5 6\n"
     ]
    },
    {
     "name": "stdout",
     "output_type": "stream",
     "text": [
      "The max value of the tuple is : 6\n"
     ]
    }
   ],
   "source": [
    "s = input('Enter the elements of the tuple : ')\n",
    "s1 = s.split()\n",
    "t = tuple(map(int, s1))\n",
    "\n",
    "maxval = max(t)\n",
    "\n",
    "print('The max value of the tuple is :',maxval)"
   ]
  },
  {
   "cell_type": "code",
   "execution_count": null,
   "id": "fdcf5cde-a4e0-45b7-822c-4485a4b9e773",
   "metadata": {},
   "outputs": [],
   "source": []
  },
  {
   "cell_type": "code",
   "execution_count": null,
   "id": "c58c0086-02ee-4799-811a-7eea06f9db82",
   "metadata": {},
   "outputs": [],
   "source": []
  },
  {
   "cell_type": "code",
   "execution_count": 34,
   "id": "ed877099-e481-4ad8-b39b-331de2238652",
   "metadata": {},
   "outputs": [
    {
     "name": "stdin",
     "output_type": "stream",
     "text": [
      "Enter the elements of the tuple :  1 2 3 4 5 6\n"
     ]
    },
    {
     "name": "stdout",
     "output_type": "stream",
     "text": [
      "The min value of the tuple is :  1\n"
     ]
    }
   ],
   "source": [
    "s = input('Enter the elements of the tuple : ')\n",
    "s1 = s.split()\n",
    "t = tuple(map(int, s1))\n",
    "\n",
    "minval = min(t)\n",
    "\n",
    "print('The min value of the tuple is : ', minval)\n"
   ]
  },
  {
   "cell_type": "code",
   "execution_count": null,
   "id": "c92734e6-6c63-4600-9e05-c29c7a68b589",
   "metadata": {},
   "outputs": [],
   "source": []
  },
  {
   "cell_type": "code",
   "execution_count": null,
   "id": "8a02d446-bb23-42a6-932a-937296367dbc",
   "metadata": {},
   "outputs": [],
   "source": []
  },
  {
   "cell_type": "code",
   "execution_count": 1,
   "id": "63930b0e-663e-4825-a776-1b59bc5b3473",
   "metadata": {},
   "outputs": [
    {
     "name": "stdin",
     "output_type": "stream",
     "text": [
      "Enter the string of your desire :  Hello My Name is Anthony Gonsalvez\n"
     ]
    },
    {
     "name": "stdout",
     "output_type": "stream",
     "text": [
      "The tuple, derived from the string is :  ('H', 'e', 'l', 'l', 'o', ' ', 'M', 'y', ' ', 'N', 'a', 'm', 'e', ' ', 'i', 's', ' ', 'A', 'n', 't', 'h', 'o', 'n', 'y', ' ', 'G', 'o', 'n', 's', 'a', 'l', 'v', 'e', 'z')\n"
     ]
    }
   ],
   "source": [
    "s = input('Enter the string of your desire : ')\n",
    "t =  tuple(s)\n",
    "print('The tuple, derived from the string is : ', t)"
   ]
  },
  {
   "cell_type": "code",
   "execution_count": null,
   "id": "47daf6b6-aea9-4438-b6ed-c2f6140612f9",
   "metadata": {},
   "outputs": [],
   "source": []
  },
  {
   "cell_type": "code",
   "execution_count": null,
   "id": "68a9d817-05b9-4711-b774-03d9a1500e31",
   "metadata": {},
   "outputs": [],
   "source": [
    "\n"
   ]
  },
  {
   "cell_type": "code",
   "execution_count": 3,
   "id": "a0a2c986-6d2a-4710-9f22-b8ccf493937d",
   "metadata": {},
   "outputs": [
    {
     "name": "stdout",
     "output_type": "stream",
     "text": [
      "The tuple containing various data types :  (1, '1', 1.0, (1+1j), True)\n"
     ]
    }
   ],
   "source": [
    "t = ( 1, '1', 1.0, (1+1j), True)\n",
    "print('The tuple containing various data types : ', t)"
   ]
  },
  {
   "cell_type": "code",
   "execution_count": null,
   "id": "7d72b2c0-273d-433a-8db1-96b4cbc2d7b1",
   "metadata": {},
   "outputs": [],
   "source": []
  },
  {
   "cell_type": "code",
   "execution_count": null,
   "id": "60d05d81-c8b0-4c45-af45-31ef577c9fb2",
   "metadata": {},
   "outputs": [],
   "source": []
  },
  {
   "cell_type": "code",
   "execution_count": 4,
   "id": "f9fc01ee-bf4d-44eb-b467-5e917849301e",
   "metadata": {},
   "outputs": [
    {
     "name": "stdin",
     "output_type": "stream",
     "text": [
      "Enter the elements of the first tuple :  1 2 3 4\n"
     ]
    },
    {
     "name": "stdout",
     "output_type": "stream",
     "text": [
      "The first tuple is :  (1, 2, 3, 4)\n"
     ]
    },
    {
     "name": "stdin",
     "output_type": "stream",
     "text": [
      "Enter the elements of the second tuple :  5 6 7 8\n"
     ]
    },
    {
     "name": "stdout",
     "output_type": "stream",
     "text": [
      "The second tuple is :  (5, 6, 7, 8)\n",
      "The tuples are not equal to each other\n"
     ]
    }
   ],
   "source": [
    "s = input('Enter the elements of the first tuple : ')\n",
    "s1 = s.split()\n",
    "t1 = tuple(map(int, s1))\n",
    "print('The first tuple is : ', t1)\n",
    "x = input('Enter the elements of the second tuple : ')\n",
    "x1 = x.split()\n",
    "t2 = tuple(map(int, x1))\n",
    "print('The second tuple is : ', t2)\n",
    "\n",
    "if t1 == t2 :\n",
    "    print('The tuples are equal to each other')\n",
    "else :\n",
    "    print('The tuples are not equal to each other')\n"
   ]
  },
  {
   "cell_type": "code",
   "execution_count": null,
   "id": "e0f7de48-c8c6-44ca-be26-45e12b97c0b8",
   "metadata": {},
   "outputs": [],
   "source": []
  },
  {
   "cell_type": "code",
   "execution_count": null,
   "id": "126f9e4b-e2b4-4599-8228-d80ffbc7e3c1",
   "metadata": {},
   "outputs": [],
   "source": []
  },
  {
   "cell_type": "code",
   "execution_count": 6,
   "id": "03c70be3-1a55-4b57-ac6d-c69aa94a774a",
   "metadata": {},
   "outputs": [
    {
     "name": "stdin",
     "output_type": "stream",
     "text": [
      "Enter the elements of the tuple :  1 4 7 3 2 9 5 11 12 16 8 6 17 10 19 18 15 14 13 20\n"
     ]
    },
    {
     "name": "stdout",
     "output_type": "stream",
     "text": [
      "The Unsorted Tuple is :  (1, 4, 7, 3, 2, 9, 5, 11, 12, 16, 8, 6, 17, 10, 19, 18, 15, 14, 13, 20)\n",
      "The sorted tuple is :  (1, 2, 3, 4, 5, 6, 7, 8, 9, 10, 11, 12, 13, 14, 15, 16, 17, 18, 19, 20)\n"
     ]
    }
   ],
   "source": [
    "s = input('Enter the elements of the tuple : ')\n",
    "s1 = s.split()\n",
    "t = tuple(map(int, s1))\n",
    "print('The Unsorted Tuple is : ', t)\n",
    "l = list(t)\n",
    "l = sorted(l)\n",
    "t = tuple(l)\n",
    "print('The sorted tuple is : ', t)"
   ]
  },
  {
   "cell_type": "code",
   "execution_count": null,
   "id": "25ccba42-f936-477a-b4c3-eee6c25c09d0",
   "metadata": {},
   "outputs": [],
   "source": []
  },
  {
   "cell_type": "code",
   "execution_count": null,
   "id": "cc37c550-6735-410f-a490-978637b04fbf",
   "metadata": {},
   "outputs": [],
   "source": []
  },
  {
   "cell_type": "code",
   "execution_count": 9,
   "id": "33f544d7-6e84-403c-b0cd-10b1a1ff1d10",
   "metadata": {},
   "outputs": [
    {
     "name": "stdout",
     "output_type": "stream",
     "text": [
      "The tuple of integers \"t1\" :  (1, 2, 3, 4, 5, 6, 7, 8, 9, 10)\n",
      "The tuple of strings \"t2\" :  ('1', '2', '3', '4', '5', '6', '7', '8', '9', '10')\n"
     ]
    }
   ],
   "source": [
    "t1 = (1,2,3,4,5,6,7,8,9,10)\n",
    "t2 = tuple(map(str, t1))\n",
    "print('The tuple of integers \"t1\" : ',t1)\n",
    "print('The tuple of strings \"t2\" : ',t2)"
   ]
  },
  {
   "cell_type": "code",
   "execution_count": null,
   "id": "2bc86b2c-fc8d-4f54-af6a-d639041c0d7b",
   "metadata": {},
   "outputs": [],
   "source": []
  },
  {
   "cell_type": "code",
   "execution_count": null,
   "id": "6ce175ac-d1bd-4f77-8fa3-3f0a91333018",
   "metadata": {},
   "outputs": [],
   "source": []
  },
  {
   "cell_type": "code",
   "execution_count": 10,
   "id": "69434af2-230d-4634-b489-417b38fff3be",
   "metadata": {},
   "outputs": [
    {
     "name": "stdin",
     "output_type": "stream",
     "text": [
      "Enter the elements of the tuple :  1 2 3 4 5 6 7 8 9 10\n"
     ]
    },
    {
     "name": "stdout",
     "output_type": "stream",
     "text": [
      "The tuple of strings \"t1\" :  ('1', '2', '3', '4', '5', '6', '7', '8', '9', '10')\n",
      "The tuple of string \"t2\" :  (1, 2, 3, 4, 5, 6, 7, 8, 9, 10)\n"
     ]
    }
   ],
   "source": [
    "s = input('Enter the elements of the tuple : ')\n",
    "s1 = s.split()\n",
    "t1 = tuple(map(str, s1))\n",
    "print('The tuple of strings \"t1\" : ', t1)\n",
    "t2 = tuple(map(int, t1))\n",
    "print('The tuple of string \"t2\" : ', t2)"
   ]
  },
  {
   "cell_type": "code",
   "execution_count": null,
   "id": "e04a291d-7761-4cb2-b0e1-e5c214c10555",
   "metadata": {},
   "outputs": [],
   "source": []
  },
  {
   "cell_type": "code",
   "execution_count": null,
   "id": "7247072d-26be-4836-b3f6-1fa496620c5b",
   "metadata": {},
   "outputs": [],
   "source": []
  },
  {
   "cell_type": "code",
   "execution_count": 12,
   "id": "76d91bc8-8806-42de-8aef-40e2e540f18c",
   "metadata": {},
   "outputs": [
    {
     "name": "stdout",
     "output_type": "stream",
     "text": [
      "The merged tuple is :  (1, 2, 3, 4, 'a', 'b', 'c', 'd')\n"
     ]
    }
   ],
   "source": [
    "t1 = ( 1, 2, 3, 4)\n",
    "t2 = ( 'a', 'b', 'c', 'd')\n",
    "\n",
    "merged_t = t1 + t2\n",
    "\n",
    "print('The merged tuple is : ', merged_t)"
   ]
  },
  {
   "cell_type": "code",
   "execution_count": null,
   "id": "f53f82d0-3e19-40f3-92e7-d3397dbf2632",
   "metadata": {},
   "outputs": [],
   "source": []
  },
  {
   "cell_type": "code",
   "execution_count": null,
   "id": "c1052d98-4781-4fa8-aae0-baac67e00ef7",
   "metadata": {},
   "outputs": [],
   "source": []
  },
  {
   "cell_type": "code",
   "execution_count": 13,
   "id": "e09278c9-17a0-4350-8359-c5fcf0488176",
   "metadata": {},
   "outputs": [
    {
     "name": "stdout",
     "output_type": "stream",
     "text": [
      "(1, 2, 3, 4, 5, 6, 7, 8, 9, 10, 11, 12)\n"
     ]
    }
   ],
   "source": [
    "t = ((1,2,3),(4,5,6,7),(8,9,10,11,12))\n",
    "\n",
    "t1 =  tuple(i for n in t for i in n)\n",
    "\n",
    "print(t1)"
   ]
  },
  {
   "cell_type": "code",
   "execution_count": null,
   "id": "073c5e3b-2ddf-4b43-95ba-9e00a7a0a688",
   "metadata": {},
   "outputs": [],
   "source": []
  },
  {
   "cell_type": "code",
   "execution_count": null,
   "id": "8a5afce9-f7da-488a-b9e8-c716a8d61336",
   "metadata": {},
   "outputs": [],
   "source": []
  },
  {
   "cell_type": "code",
   "execution_count": 14,
   "id": "03f99d2b-1515-4612-8680-db6697eca17a",
   "metadata": {},
   "outputs": [
    {
     "name": "stdout",
     "output_type": "stream",
     "text": [
      "The tuple containing the first 5 prime numbers :  (2, 3, 5, 7, 11)\n"
     ]
    }
   ],
   "source": [
    "def checkprime(a):\n",
    "    if a <= 1 :\n",
    "        return False\n",
    "    elif a <= 3:\n",
    "        return True\n",
    "    elif a%2==0 or a%3==0:\n",
    "        return False\n",
    "    i = 5\n",
    "    while i*i <= n :\n",
    "        if n%i == 0 or n%(i+2) == 0 :\n",
    "            return False\n",
    "        i = i + 6\n",
    "    return True\n",
    "\n",
    "n = 0\n",
    "l = []\n",
    "\n",
    "while len(l) < 5:\n",
    "    if checkprime(n):\n",
    "        l.append(n)\n",
    "    n = n + 1\n",
    "    \n",
    "t = tuple(l)\n",
    "\n",
    "print('The tuple containing the first 5 prime numbers : ', t)"
   ]
  },
  {
   "cell_type": "code",
   "execution_count": null,
   "id": "f7f6f476-aab8-4c2d-9937-932640d586cf",
   "metadata": {},
   "outputs": [],
   "source": []
  },
  {
   "cell_type": "code",
   "execution_count": null,
   "id": "091e9829-c8c5-4029-8795-6a566706c10a",
   "metadata": {},
   "outputs": [],
   "source": []
  },
  {
   "cell_type": "code",
   "execution_count": 15,
   "id": "01693368-9aea-4b27-9b72-1be920e2c6a8",
   "metadata": {},
   "outputs": [
    {
     "name": "stdin",
     "output_type": "stream",
     "text": [
      "Enter the elements of the tuple :  1 2 3 4 5 4 3 2 1\n"
     ]
    },
    {
     "name": "stdout",
     "output_type": "stream",
     "text": [
      "The tuple is palindromic in nature\n"
     ]
    }
   ],
   "source": [
    "def checkpalindrome(t):\n",
    "    return t == t[::-1]\n",
    "\n",
    "s = input('Enter the elements of the tuple : ')\n",
    "s1 = s.split()\n",
    "t1 = tuple(map(str,s1))\n",
    "\n",
    "if checkpalindrome(t1):\n",
    "    print('The tuple is palindromic in nature')\n",
    "else:\n",
    "    print('The tuple is not palindromic in nature')\n"
   ]
  },
  {
   "cell_type": "code",
   "execution_count": null,
   "id": "79521b63-a8d2-4452-994c-28fff1f007e4",
   "metadata": {},
   "outputs": [],
   "source": []
  },
  {
   "cell_type": "code",
   "execution_count": null,
   "id": "1199cd20-3eac-4a43-85b7-cdbd1b79ab84",
   "metadata": {},
   "outputs": [],
   "source": []
  },
  {
   "cell_type": "code",
   "execution_count": 21,
   "id": "5e83b851-f903-41b2-ab2a-9a134b659cbc",
   "metadata": {},
   "outputs": [
    {
     "name": "stdout",
     "output_type": "stream",
     "text": [
      "The tuple containing the squares from 1 to 5 :  (1, 4, 9, 16, 25)\n"
     ]
    }
   ],
   "source": [
    "l = []\n",
    "i = 1\n",
    "for i in range(1,6):\n",
    "    i = i*i\n",
    "    l.append(i)\n",
    "    i = i + 1\n",
    "    \n",
    "\n",
    "t = tuple(l)\n",
    "\n",
    "print('The tuple containing the squares from 1 to 5 : ', t)\n",
    "    \n",
    "    "
   ]
  },
  {
   "cell_type": "code",
   "execution_count": null,
   "id": "ad65e4f0-f564-4103-8542-b59546e27bd3",
   "metadata": {},
   "outputs": [],
   "source": []
  },
  {
   "cell_type": "code",
   "execution_count": null,
   "id": "a6d3c847-38c1-4202-9a30-f1101c63aac9",
   "metadata": {},
   "outputs": [],
   "source": [
    "\n"
   ]
  },
  {
   "cell_type": "code",
   "execution_count": 2,
   "id": "2a4d7fd3-04af-4e82-bf1f-b03b29bcb215",
   "metadata": {},
   "outputs": [
    {
     "name": "stdout",
     "output_type": "stream",
     "text": [
      "The required tuple is :  (1, 3, 5, 7, 9, 11, 13, 15, 17, 19, 21, 23, 25, 27, 29, 31, 33, 35, 37, 39, 41, 43, 45, 47, 49, 51, 53, 55, 57, 59, 61, 63, 65, 67, 69, 71, 73, 75, 77, 79, 81, 83, 85, 87, 89, 91, 93, 95, 97, 99)\n"
     ]
    }
   ],
   "source": [
    "l = []\n",
    "\n",
    "for i in range(1,101):\n",
    "    l.append(i)\n",
    "\n",
    "t = tuple(i for i in l if i%2!=0)\n",
    "\n",
    "print('The required tuple is : ', t)"
   ]
  },
  {
   "cell_type": "code",
   "execution_count": null,
   "id": "ac7a8888-cfed-41d7-a1dd-84e8f3f6371f",
   "metadata": {},
   "outputs": [],
   "source": []
  },
  {
   "cell_type": "code",
   "execution_count": null,
   "id": "b0d5a8fe-963d-499d-b842-483bf2297650",
   "metadata": {},
   "outputs": [],
   "source": []
  },
  {
   "cell_type": "code",
   "execution_count": 3,
   "id": "1909dea6-55df-4bc1-819b-6de1cc7fd983",
   "metadata": {},
   "outputs": [
    {
     "name": "stdout",
     "output_type": "stream",
     "text": [
      "The required tuple is :  (2, 4, 6, 8, 10, 12, 14, 16, 18, 20, 22, 24, 26, 28, 30, 32, 34, 36, 38, 40, 42, 44, 46, 48, 50, 52, 54, 56, 58, 60, 62, 64, 66, 68, 70, 72, 74, 76, 78, 80, 82, 84, 86, 88, 90, 92, 94, 96, 98, 100, 102, 104, 106, 108, 110, 112, 114, 116, 118, 120, 122, 124, 126, 128, 130, 132, 134, 136, 138, 140, 142, 144, 146, 148, 150, 152, 154, 156, 158, 160, 162, 164, 166, 168, 170, 172, 174, 176, 178, 180, 182, 184, 186, 188, 190, 192, 194, 196, 198, 200)\n"
     ]
    }
   ],
   "source": [
    "l = []\n",
    "\n",
    "for i in range(1,101):\n",
    "    l.append(i)\n",
    "    \n",
    "t = tuple(i*2 for i in l)\n",
    "\n",
    "print('The required tuple is : ', t)"
   ]
  },
  {
   "cell_type": "code",
   "execution_count": null,
   "id": "70106f13-7d70-4b34-9ed7-1f51f6c8bfb7",
   "metadata": {},
   "outputs": [],
   "source": []
  },
  {
   "cell_type": "code",
   "execution_count": null,
   "id": "f4330e13-83eb-4abe-8bfe-7b6462df86a6",
   "metadata": {},
   "outputs": [],
   "source": []
  },
  {
   "cell_type": "code",
   "execution_count": 4,
   "id": "a1aa53a7-411e-4f92-8060-b9f2a19efef6",
   "metadata": {},
   "outputs": [
    {
     "name": "stdout",
     "output_type": "stream",
     "text": [
      "The tuple containing random elements is :  (41, 6, 29, 70, 16, 27, 52, 5, 16, 64, 77, 22, 16, 71, 50, 15, 13, 12, 44, 92)\n"
     ]
    }
   ],
   "source": [
    "import random \n",
    "\n",
    "t = tuple(random.randint(1,100) for i in range(20))\n",
    "\n",
    "print('The tuple containing random elements is : ', t)"
   ]
  },
  {
   "cell_type": "code",
   "execution_count": null,
   "id": "68096dc3-a322-4871-b1c0-2be6a91948a1",
   "metadata": {},
   "outputs": [],
   "source": []
  },
  {
   "cell_type": "code",
   "execution_count": null,
   "id": "f68af1c5-694a-46af-b7c6-028a75a0e797",
   "metadata": {},
   "outputs": [],
   "source": []
  },
  {
   "cell_type": "code",
   "execution_count": 5,
   "id": "558dbaf9-e231-45e1-a3a9-b269d3cda121",
   "metadata": {},
   "outputs": [
    {
     "name": "stdin",
     "output_type": "stream",
     "text": [
      "Enter the elements for the first tuple :  1 2 3 4 5 6 7 \n"
     ]
    },
    {
     "name": "stdout",
     "output_type": "stream",
     "text": [
      "The contents of the first tuple t1 :  (1, 2, 3, 4, 5, 6, 7)\n"
     ]
    },
    {
     "name": "stdin",
     "output_type": "stream",
     "text": [
      "Enter the elements for the second tuple :  1 3 5 6 2 4 7\n"
     ]
    },
    {
     "name": "stdout",
     "output_type": "stream",
     "text": [
      "The contents of the second tuple t2 :  (1, 3, 5, 6, 2, 4, 7)\n",
      "The tuple t1 is sorted\n",
      "The tuple t2 is not sorted\n"
     ]
    }
   ],
   "source": [
    "def issortedornot(t):\n",
    "    return t == tuple(sorted(t))\n",
    "\n",
    "s1 = input('Enter the elements for the first tuple : ')\n",
    "s1x = s1.split()\n",
    "t1 = tuple(map(int , s1x))\n",
    "print('The contents of the first tuple t1 : ',t1)\n",
    "\n",
    "s2 = input('Enter the elements for the second tuple : ')\n",
    "s2x = s2.split()\n",
    "t2 = tuple(map(int , s2x))\n",
    "print('The contents of the second tuple t2 : ',t2)\n",
    "\n",
    "if issortedornot(t1):\n",
    "    print('The tuple t1 is sorted')\n",
    "else:\n",
    "    print('The tuple t2 is not sorted')\n",
    "    \n",
    "\n",
    "if issortedornot(t2):\n",
    "    print('The tuple t2 is sorted')\n",
    "else:\n",
    "    print('The tuple t2 is not sorted')"
   ]
  },
  {
   "cell_type": "code",
   "execution_count": null,
   "id": "23de1138-6f98-4d23-bf5b-3900e7a9e6d7",
   "metadata": {},
   "outputs": [],
   "source": []
  },
  {
   "cell_type": "code",
   "execution_count": null,
   "id": "c22b8e63-eaad-42bd-9a4d-46477b3232cd",
   "metadata": {},
   "outputs": [],
   "source": []
  },
  {
   "cell_type": "code",
   "execution_count": 6,
   "id": "1f844f80-fd7c-4267-8e00-12e0e4616ccc",
   "metadata": {},
   "outputs": [
    {
     "name": "stdout",
     "output_type": "stream",
     "text": [
      "The tuple after left rotation :  (4, 5, 6, 7, 8, 1, 2, 3)\n"
     ]
    }
   ],
   "source": [
    "def rotationleft(t, n):\n",
    "    return t[n:] + t[:n]\n",
    "\n",
    "t = (1,2,3,4,5,6,7,8)\n",
    "\n",
    "n = 3\n",
    "\n",
    "t1 = rotationleft(t,n)\n",
    "\n",
    "print('The tuple after left rotation : ', t1)"
   ]
  },
  {
   "cell_type": "code",
   "execution_count": null,
   "id": "5a4e4a70-f836-416b-a293-da06c6311263",
   "metadata": {},
   "outputs": [],
   "source": []
  },
  {
   "cell_type": "code",
   "execution_count": null,
   "id": "9c67e9c8-065a-4666-8aa2-855006e10d2e",
   "metadata": {},
   "outputs": [],
   "source": []
  },
  {
   "cell_type": "code",
   "execution_count": 7,
   "id": "5dfe7270-ad91-4a74-b40d-d148f630a759",
   "metadata": {},
   "outputs": [
    {
     "name": "stdout",
     "output_type": "stream",
     "text": [
      "The tuple after right rotation :  (6, 7, 8, 1, 2, 3, 4, 5)\n"
     ]
    }
   ],
   "source": [
    "def rotationleft(t, n):\n",
    "    return t[-n:] + t[:-n]\n",
    "\n",
    "t = (1,2,3,4,5,6,7,8)\n",
    "\n",
    "n = 3\n",
    "\n",
    "t2 = rotationleft(t,n)\n",
    "\n",
    "print('The tuple after right rotation : ', t2)"
   ]
  },
  {
   "cell_type": "code",
   "execution_count": null,
   "id": "c098480e-5629-48cc-9a04-6a17f623b1a5",
   "metadata": {},
   "outputs": [],
   "source": []
  },
  {
   "cell_type": "code",
   "execution_count": null,
   "id": "1437bfbb-176b-46da-9e35-fbb4685a20ee",
   "metadata": {},
   "outputs": [],
   "source": []
  },
  {
   "cell_type": "code",
   "execution_count": 1,
   "id": "7f4ea545-9011-4f3c-bce6-0e82418b0931",
   "metadata": {},
   "outputs": [
    {
     "name": "stdout",
     "output_type": "stream",
     "text": [
      "The tuple contianing the first 5 fibonaci numbers are :  (0, 1, 1, 2, 3)\n"
     ]
    }
   ],
   "source": [
    "def fibonacciseries(n):\n",
    "    fiblist = [0,1]\n",
    "    while len(fiblist)<n:\n",
    "        nextnum = fiblist[-1] + fiblist[-2]\n",
    "        fiblist.append(nextnum)\n",
    "    return tuple(fiblist)\n",
    "\n",
    "fibtuple = fibonacciseries(5)\n",
    "print('The tuple contianing the first 5 fibonaci numbers are : ',fibtuple)"
   ]
  },
  {
   "cell_type": "code",
   "execution_count": null,
   "id": "c9c855cb-ea6d-4d0b-8406-411aa10ab0cc",
   "metadata": {},
   "outputs": [],
   "source": []
  },
  {
   "cell_type": "code",
   "execution_count": null,
   "id": "baf593d2-d11f-4466-b965-2f6e6e94e3f5",
   "metadata": {},
   "outputs": [],
   "source": []
  },
  {
   "cell_type": "code",
   "execution_count": 2,
   "id": "2eb8f6ce-90e5-416b-9f5a-b794a7d4d7dc",
   "metadata": {},
   "outputs": [
    {
     "name": "stdin",
     "output_type": "stream",
     "text": [
      "Enter the  elements for the tuple :  1 2 3 4 5 6 7 8\n"
     ]
    },
    {
     "name": "stdout",
     "output_type": "stream",
     "text": [
      "The tuple created as per user input is :  ('1', '2', '3', '4', '5', '6', '7', '8')\n"
     ]
    }
   ],
   "source": [
    "s = input('Enter the  elements for the tuple : ')\n",
    "s1 = s.split()\n",
    "t = tuple(map(str, s1))\n",
    "\n",
    "print('The tuple created as per user input is : ', t)"
   ]
  },
  {
   "cell_type": "code",
   "execution_count": null,
   "id": "a57daadd-83d8-4f1e-b338-bd0991f305e6",
   "metadata": {},
   "outputs": [],
   "source": []
  },
  {
   "cell_type": "code",
   "execution_count": null,
   "id": "cc732177-290b-461b-9add-68aa200500e7",
   "metadata": {},
   "outputs": [],
   "source": []
  },
  {
   "cell_type": "code",
   "execution_count": 3,
   "id": "8dad8512-8e4d-454f-bb17-bcf314f91cab",
   "metadata": {},
   "outputs": [
    {
     "name": "stdin",
     "output_type": "stream",
     "text": [
      "Enter the elements of the tuple : 1 2 3 4 5 6\n",
      "Enter the index to be swapped :  2\n",
      "Enter the index to be swapped :  3\n"
     ]
    },
    {
     "name": "stdout",
     "output_type": "stream",
     "text": [
      "The new tuple is :  ('1', '2', '4', '3', '5', '6')\n"
     ]
    }
   ],
   "source": [
    "def swapt(t,i1,i2):\n",
    "    l = list(t)\n",
    "    l[i1],l[i2] =l[i2],l[i1]\n",
    "    nt = tuple(l)\n",
    "    return nt\n",
    "\n",
    "s = input('Enter the elements of the tuple :')\n",
    "s1 = s.split()\n",
    "t = tuple(map(str,s1))\n",
    "i1 = int(input('Enter the index to be swapped : '))\n",
    "i2 = int(input('Enter the index to be swapped : '))\n",
    "\n",
    "nt = swapt(t,i1,i2)\n",
    "\n",
    "print('The new tuple is : ', nt)\n"
   ]
  },
  {
   "cell_type": "code",
   "execution_count": null,
   "id": "adc643fb-31b1-40df-96d4-9ae30bc9e313",
   "metadata": {},
   "outputs": [],
   "source": []
  },
  {
   "cell_type": "code",
   "execution_count": null,
   "id": "3cc60abb-ae48-471a-bd4d-87890610031e",
   "metadata": {},
   "outputs": [],
   "source": []
  },
  {
   "cell_type": "code",
   "execution_count": 5,
   "id": "a565e491-6d89-418c-9cfe-bc26032a7c77",
   "metadata": {},
   "outputs": [
    {
     "name": "stdin",
     "output_type": "stream",
     "text": [
      "Enter the elements of the tuple :  1 2 3 4 5 6\n"
     ]
    },
    {
     "name": "stdout",
     "output_type": "stream",
     "text": [
      "The reversed tuple is :  ('6', '5', '4', '3', '2', '1')\n"
     ]
    }
   ],
   "source": [
    "def rev(t):\n",
    "    l = list(t)\n",
    "    l.reverse()\n",
    "    rt = tuple(l)\n",
    "    return rt\n",
    "\n",
    "s = input('Enter the elements of the tuple : ')\n",
    "s1 = s.split()\n",
    "t = tuple(map(str,s1))\n",
    "rt = rev(t)\n",
    "print('The reversed tuple is : ', rt)"
   ]
  },
  {
   "cell_type": "code",
   "execution_count": null,
   "id": "f43ca0ab-2928-47a0-9d5c-1837ac73d6f8",
   "metadata": {},
   "outputs": [],
   "source": []
  },
  {
   "cell_type": "code",
   "execution_count": null,
   "id": "984a8a54-d643-4c01-967b-65d894ec3168",
   "metadata": {},
   "outputs": [],
   "source": []
  },
  {
   "cell_type": "code",
   "execution_count": 9,
   "id": "bff0c9c2-4239-4410-94d6-6c821ee3518e",
   "metadata": {},
   "outputs": [
    {
     "name": "stdin",
     "output_type": "stream",
     "text": [
      "Enter the nth power of 2 :  10\n"
     ]
    },
    {
     "name": "stdout",
     "output_type": "stream",
     "text": [
      "The tuple containing the desired results is :  (1, 2, 4, 8, 16, 32, 64, 128, 256, 512)\n"
     ]
    }
   ],
   "source": [
    "def powerz(n):\n",
    "    t = tuple(2**i for i in range(n))\n",
    "    return t\n",
    "\n",
    "n = int(input('Enter the nth power of 2 : '))\n",
    "t = powerz(n)\n",
    "print('The tuple containing the desired results is : ', t)"
   ]
  },
  {
   "cell_type": "code",
   "execution_count": null,
   "id": "0f53d607-d005-4fc1-a3a1-792f44021d31",
   "metadata": {},
   "outputs": [],
   "source": []
  },
  {
   "cell_type": "code",
   "execution_count": null,
   "id": "edd35c44-abd6-421d-94fd-0550ba5fe018",
   "metadata": {},
   "outputs": [],
   "source": []
  },
  {
   "cell_type": "code",
   "execution_count": 10,
   "id": "7574616e-31ac-4047-ba13-ef36e5f33ac5",
   "metadata": {},
   "outputs": [
    {
     "name": "stdin",
     "output_type": "stream",
     "text": [
      "Enter the strings of your desire :  Hello my name is Anthony Gonsalvez\n"
     ]
    },
    {
     "name": "stdout",
     "output_type": "stream",
     "text": [
      "The longest string present in the string is :  Gonsalvez\n"
     ]
    }
   ],
   "source": [
    "def longstring(t):\n",
    "    longest = \"\"\n",
    "    for s in t:\n",
    "        if len(s)>len(longest):\n",
    "            longest = s\n",
    "    return longest\n",
    "\n",
    "s = input('Enter the strings of your desire : ')\n",
    "s1 = s.split()\n",
    "t = tuple(map(str,s1))\n",
    "l = longstring(t)\n",
    "print('The longest string present in the string is : ',l)"
   ]
  },
  {
   "cell_type": "code",
   "execution_count": null,
   "id": "fc7c513c-50ea-4c81-88ce-4dcbffd42397",
   "metadata": {},
   "outputs": [],
   "source": []
  },
  {
   "cell_type": "code",
   "execution_count": null,
   "id": "e1e42bd1-32db-47be-b0f8-02bdef3d4c08",
   "metadata": {},
   "outputs": [],
   "source": [
    "\n"
   ]
  },
  {
   "cell_type": "code",
   "execution_count": 3,
   "id": "83f96223-6d91-4fe3-9c7b-ff552738bffd",
   "metadata": {},
   "outputs": [
    {
     "name": "stdout",
     "output_type": "stream",
     "text": [
      "The short string present in the string is :  my\n"
     ]
    }
   ],
   "source": [
    "def shortstring(t):\n",
    "    shortest = t[0]\n",
    "    for x in t:\n",
    "        if len(x)<len(shortest):\n",
    "            shortest = x\n",
    "    return shortest\n",
    "\n",
    "t = ('hello','my','guy''ron')\n",
    "l = shortstring(t)\n",
    "print('The short string present in the string is : ',l)"
   ]
  },
  {
   "cell_type": "code",
   "execution_count": null,
   "id": "6a41da18-9cdc-4caa-bc5f-9295ef1a82b8",
   "metadata": {},
   "outputs": [],
   "source": []
  },
  {
   "cell_type": "code",
   "execution_count": null,
   "id": "0bba949e-0c60-4e8a-bc14-c86af5dc3377",
   "metadata": {},
   "outputs": [],
   "source": []
  },
  {
   "cell_type": "code",
   "execution_count": 1,
   "id": "5d6552cf-d19c-49d8-acac-274f82a5cac5",
   "metadata": {},
   "outputs": [
    {
     "name": "stdin",
     "output_type": "stream",
     "text": [
      "Enter the nth value for the series of the triangular numbers :  20\n"
     ]
    },
    {
     "name": "stdout",
     "output_type": "stream",
     "text": [
      "The series of triangular numbers inside of tuple is :  (1.0, 3.0, 6.0, 10.0, 15.0, 21.0, 28.0, 36.0, 45.0, 55.0, 66.0, 78.0, 91.0, 105.0, 120.0, 136.0, 153.0, 171.0, 190.0, 210.0)\n"
     ]
    }
   ],
   "source": [
    "def triangnum(n):\n",
    "    l = []\n",
    "    for i in range(1,n+1):\n",
    "        tn = ((i*(i+1))/2)\n",
    "        l.append(tn)\n",
    "    return tuple(l)\n",
    "\n",
    "n = int(input('Enter the nth value for the series of the triangular numbers : '))\n",
    "t = triangnum(n)\n",
    "print('The series of triangular numbers inside of tuple is : ', t)"
   ]
  },
  {
   "cell_type": "code",
   "execution_count": null,
   "id": "7746e093-99da-4433-8859-0adc1a8e79bc",
   "metadata": {},
   "outputs": [],
   "source": []
  },
  {
   "cell_type": "code",
   "execution_count": null,
   "id": "5057c150-8a54-409b-a512-7bcf6f22565c",
   "metadata": {},
   "outputs": [],
   "source": []
  },
  {
   "cell_type": "code",
   "execution_count": 1,
   "id": "7817ce78-23f2-4825-870c-28aef631c49c",
   "metadata": {},
   "outputs": [
    {
     "name": "stdin",
     "output_type": "stream",
     "text": [
      "Enter the elements of the tuple :  1 2 3 4 5\n",
      "Enter the elements of the sub tuple :  3 4\n"
     ]
    },
    {
     "name": "stdout",
     "output_type": "stream",
     "text": [
      "Subsequence is found inside of the tuple\n"
     ]
    }
   ],
   "source": [
    "def findseq(t,st):\n",
    "    tlen = len(t)\n",
    "    stlen = len(st)\n",
    "    i,j = 0,0\n",
    "    if stlen > tlen:\n",
    "        return False\n",
    "    while i < tlen :\n",
    "        if st[j] == t[i]:\n",
    "            j = j + 1\n",
    "            if j == stlen:\n",
    "                return True\n",
    "            \n",
    "        i = i + 1\n",
    "    return False\n",
    "\n",
    "ts = input('Enter the elements of the tuple : ')\n",
    "t = tuple(map(int, ts.split()))\n",
    "subts = input('Enter the elements of the sub tuple : ')\n",
    "st = tuple(map(int, subts.split()))\n",
    "\n",
    "if findseq(t,st):\n",
    "    print('Subsequence is found inside of the tuple')\n",
    "else:\n",
    "    print('Subsequence is not found')"
   ]
  },
  {
   "cell_type": "code",
   "execution_count": null,
   "id": "d0af4acb-0997-40b0-9768-bf54500bdfe3",
   "metadata": {},
   "outputs": [],
   "source": []
  },
  {
   "cell_type": "code",
   "execution_count": null,
   "id": "e5f38e96-0423-4af7-9b9e-649cabb0eed7",
   "metadata": {},
   "outputs": [],
   "source": []
  },
  {
   "cell_type": "code",
   "execution_count": 5,
   "id": "a1496f6d-988f-4601-9a43-b7a94429f66e",
   "metadata": {},
   "outputs": [
    {
     "name": "stdin",
     "output_type": "stream",
     "text": [
      "Enter the desired range of the tuple :  100\n"
     ]
    },
    {
     "name": "stdout",
     "output_type": "stream",
     "text": [
      "The desired tuple is :  (1, 0, 1, 0, 1, 0, 1, 0, 1, 0, 1, 0, 1, 0, 1, 0, 1, 0, 1, 0, 1, 0, 1, 0, 1, 0, 1, 0, 1, 0, 1, 0, 1, 0, 1, 0, 1, 0, 1, 0, 1, 0, 1, 0, 1, 0, 1, 0, 1, 0, 1, 0, 1, 0, 1, 0, 1, 0, 1, 0, 1, 0, 1, 0, 1, 0, 1, 0, 1, 0, 1, 0, 1, 0, 1, 0, 1, 0, 1, 0, 1, 0, 1, 0, 1, 0, 1, 0, 1, 0, 1, 0, 1, 0, 1, 0, 1, 0, 1, 0)\n"
     ]
    }
   ],
   "source": [
    "n = int(input('Enter the desired range of the tuple : '))\n",
    "t = tuple([1 if i%2==0 else 0 for i in range(n)])\n",
    "print('The desired tuple is : ',t)"
   ]
  },
  {
   "cell_type": "code",
   "execution_count": null,
   "id": "119ff65a-ff27-4f5b-b50f-448538c5157d",
   "metadata": {},
   "outputs": [],
   "source": []
  },
  {
   "cell_type": "code",
   "execution_count": null,
   "id": "4c43ba9b-6943-485c-8d1f-d27a6c8e10e7",
   "metadata": {},
   "outputs": [],
   "source": []
  },
  {
   "cell_type": "code",
   "execution_count": null,
   "id": "541d0949-e278-4248-9a10-e73833fe56f2",
   "metadata": {},
   "outputs": [],
   "source": []
  },
  {
   "cell_type": "code",
   "execution_count": null,
   "id": "365feb74-de64-4c06-a279-f909d9e12f21",
   "metadata": {},
   "outputs": [],
   "source": []
  },
  {
   "cell_type": "markdown",
   "id": "29d5c471-f949-4ee1-80ba-8045e185a28f",
   "metadata": {},
   "source": [
    "Set Based Practice Problem :"
   ]
  },
  {
   "cell_type": "code",
   "execution_count": 6,
   "id": "e34f32d3-6502-4ba3-ac8f-bcb2d74e8755",
   "metadata": {},
   "outputs": [],
   "source": [
    "s = {1,2,3,4,5}"
   ]
  },
  {
   "cell_type": "code",
   "execution_count": null,
   "id": "8e705e5b-4c00-4280-a0e7-bc87d41b957c",
   "metadata": {},
   "outputs": [],
   "source": []
  },
  {
   "cell_type": "code",
   "execution_count": null,
   "id": "a20bde2c-3c2b-4cbc-b9f9-6302aaaf95d0",
   "metadata": {},
   "outputs": [],
   "source": []
  },
  {
   "cell_type": "code",
   "execution_count": 1,
   "id": "daff0ecd-94cf-4019-beb2-80e5fb2cccde",
   "metadata": {},
   "outputs": [
    {
     "name": "stdout",
     "output_type": "stream",
     "text": [
      "{1, 2, 3, 4, 5, 6}\n"
     ]
    }
   ],
   "source": [
    "s = {1,2,3,4,5,6}\n",
    "n = 6\n",
    "s.add(n)\n",
    "print(s)"
   ]
  },
  {
   "cell_type": "code",
   "execution_count": null,
   "id": "72e88abc-4a70-49ef-b6b3-bbdb8646d118",
   "metadata": {},
   "outputs": [],
   "source": []
  },
  {
   "cell_type": "code",
   "execution_count": null,
   "id": "7c057e21-cac3-436e-ba49-d79aa2e5747a",
   "metadata": {},
   "outputs": [],
   "source": [
    "\n"
   ]
  },
  {
   "cell_type": "code",
   "execution_count": 2,
   "id": "c4418665-326f-4d29-8e1e-5f1c21390631",
   "metadata": {},
   "outputs": [
    {
     "name": "stdout",
     "output_type": "stream",
     "text": [
      "Set :  {2, 3, 4, 5}\n",
      "Discarded element :  1\n"
     ]
    }
   ],
   "source": [
    "s = {1,2,3,4,5}\n",
    "p = s.pop()\n",
    "print('Set : ', s)\n",
    "print('Discarded element : ',p)"
   ]
  },
  {
   "cell_type": "code",
   "execution_count": null,
   "id": "37a0a8fc-eef3-424c-b56d-640cef1bdbca",
   "metadata": {},
   "outputs": [],
   "source": []
  },
  {
   "cell_type": "code",
   "execution_count": null,
   "id": "abd1d58a-0774-4617-91ca-fdf1f2ee3933",
   "metadata": {},
   "outputs": [],
   "source": []
  },
  {
   "cell_type": "code",
   "execution_count": 3,
   "id": "288d8a06-0625-4131-a4cf-140c7debbe16",
   "metadata": {},
   "outputs": [
    {
     "name": "stdin",
     "output_type": "stream",
     "text": [
      "Enter the element to be checked for :  4\n"
     ]
    },
    {
     "name": "stdout",
     "output_type": "stream",
     "text": [
      "Element is present inside of the set\n"
     ]
    }
   ],
   "source": [
    "s = {1,2,3,4,5,6}\n",
    "n = int(input('Enter the element to be checked for : '))\n",
    "if n in s:\n",
    "    print('Element is present inside of the set')\n",
    "else:\n",
    "    print('Element is not present inside of the set')"
   ]
  },
  {
   "cell_type": "code",
   "execution_count": null,
   "id": "ea206e8d-6559-4419-8c54-320fc06f74c7",
   "metadata": {},
   "outputs": [],
   "source": []
  },
  {
   "cell_type": "code",
   "execution_count": null,
   "id": "a9091a21-06be-47ba-a890-9ef4aad0fbca",
   "metadata": {},
   "outputs": [],
   "source": []
  },
  {
   "cell_type": "code",
   "execution_count": 4,
   "id": "eabdddd5-6be0-4570-8f2a-8c3c2f33fa1e",
   "metadata": {},
   "outputs": [
    {
     "name": "stdout",
     "output_type": "stream",
     "text": [
      "The length of the set is :  9\n"
     ]
    }
   ],
   "source": [
    "s = {1,2,3,4,5,6,7,8,9}\n",
    "l = 0\n",
    "\n",
    "for i in s:\n",
    "    l = l + 1\n",
    "    \n",
    "print('The length of the set is : ',l)"
   ]
  },
  {
   "cell_type": "code",
   "execution_count": null,
   "id": "4fef3e07-017e-4e36-813b-5c102bc57671",
   "metadata": {},
   "outputs": [],
   "source": []
  },
  {
   "cell_type": "code",
   "execution_count": null,
   "id": "f18ae7d4-aa12-467f-8edc-0ea2c56b4e60",
   "metadata": {},
   "outputs": [],
   "source": []
  },
  {
   "cell_type": "code",
   "execution_count": 6,
   "id": "25c1ff85-dad5-4b28-9c1a-6c43b426eda4",
   "metadata": {},
   "outputs": [
    {
     "name": "stdout",
     "output_type": "stream",
     "text": [
      "set()\n"
     ]
    }
   ],
   "source": [
    "s = {1,2,3,4,5,6}\n",
    "s.clear()\n",
    "print(s)"
   ]
  },
  {
   "cell_type": "code",
   "execution_count": null,
   "id": "8bbd6216-b2ac-42b2-8e58-c1088e5afa9b",
   "metadata": {},
   "outputs": [],
   "source": []
  },
  {
   "cell_type": "code",
   "execution_count": null,
   "id": "875bcccc-f814-4403-a3b8-ebfe77d277f1",
   "metadata": {},
   "outputs": [],
   "source": []
  },
  {
   "cell_type": "code",
   "execution_count": 7,
   "id": "2427c6f2-9f6d-4f8d-8cb0-02378da339cc",
   "metadata": {},
   "outputs": [
    {
     "name": "stdout",
     "output_type": "stream",
     "text": [
      "The set of even numbers is :  {2, 4, 6, 8, 10}\n"
     ]
    }
   ],
   "source": [
    "s = {i for i in range(1,11) if i%2==0}\n",
    "print('The set of even numbers is : ', s)\n"
   ]
  },
  {
   "cell_type": "code",
   "execution_count": null,
   "id": "42767e34-b394-4ed9-bb72-7407f8310e3f",
   "metadata": {},
   "outputs": [],
   "source": []
  },
  {
   "cell_type": "code",
   "execution_count": null,
   "id": "a47edddd-47cc-4bbf-90fb-b7c5a67a85a7",
   "metadata": {},
   "outputs": [],
   "source": [
    "\n"
   ]
  },
  {
   "cell_type": "code",
   "execution_count": 8,
   "id": "5f254a67-2c03-48b4-ae07-7c6fe41a6ce3",
   "metadata": {},
   "outputs": [
    {
     "name": "stdout",
     "output_type": "stream",
     "text": [
      "The set of even numbers is :  {1, 3, 5, 7, 9}\n"
     ]
    }
   ],
   "source": [
    "s = {i for i in range(1,11) if i%2!=0}\n",
    "print('The set of even numbers is : ', s)\n"
   ]
  },
  {
   "cell_type": "code",
   "execution_count": null,
   "id": "48524b76-9328-4106-903c-9a40bbaf53c7",
   "metadata": {},
   "outputs": [],
   "source": []
  },
  {
   "cell_type": "code",
   "execution_count": null,
   "id": "3f99ee56-5274-42e6-a0c4-73de2e636eca",
   "metadata": {},
   "outputs": [],
   "source": [
    "\n"
   ]
  },
  {
   "cell_type": "code",
   "execution_count": 9,
   "id": "23fe4c33-d1f5-451d-8bd3-9c595a11c8ba",
   "metadata": {},
   "outputs": [
    {
     "name": "stdout",
     "output_type": "stream",
     "text": [
      "The union of the sets is :  {'b', 1, 2, 3, 4, 5, 'e', 'a', 'd', 'c'}\n"
     ]
    }
   ],
   "source": [
    "s1 = {1,2,3,4,5}\n",
    "s2 = {'a','b','c','d','e'}\n",
    "\n",
    "unionset = s1.union(s2)\n",
    "\n",
    "print('The union of the sets is : ', unionset)"
   ]
  },
  {
   "cell_type": "code",
   "execution_count": null,
   "id": "5d30db00-31b1-42ef-9f0b-7f05a384e87f",
   "metadata": {},
   "outputs": [],
   "source": []
  },
  {
   "cell_type": "code",
   "execution_count": null,
   "id": "9ccba750-ff6f-49b5-a566-dc56ea197f1c",
   "metadata": {},
   "outputs": [],
   "source": [
    "\n"
   ]
  },
  {
   "cell_type": "code",
   "execution_count": 10,
   "id": "fb7ecc60-0729-4024-b505-d18dfc9f4a17",
   "metadata": {},
   "outputs": [
    {
     "name": "stdout",
     "output_type": "stream",
     "text": [
      "The intersection between two sets is :  {1, 2, 3, 4}\n"
     ]
    }
   ],
   "source": [
    "s1 = {1,2,3,4,5,6,7}\n",
    "s2 = {1,2,3,4}\n",
    "\n",
    "intersectionfind = s1.intersection(s2)\n",
    "\n",
    "print('The intersection between two sets is : ', intersectionfind)"
   ]
  },
  {
   "cell_type": "code",
   "execution_count": null,
   "id": "403d477a-e5e0-414f-bb59-477bc7dac399",
   "metadata": {},
   "outputs": [],
   "source": []
  },
  {
   "cell_type": "code",
   "execution_count": null,
   "id": "7b4523a1-5c89-448d-bd58-e672e8593adb",
   "metadata": {},
   "outputs": [],
   "source": []
  },
  {
   "cell_type": "code",
   "execution_count": 11,
   "id": "43b8e881-06e1-47b5-b6ac-810c76eb5789",
   "metadata": {},
   "outputs": [
    {
     "name": "stdout",
     "output_type": "stream",
     "text": [
      "The difference :  {1, 2, 3}\n"
     ]
    }
   ],
   "source": [
    "s1 = {1,2,3,4,5}\n",
    "s2 = {4,5,6,7,8}\n",
    "\n",
    "diff = s1 - s2\n",
    "\n",
    "print('The difference : ', diff)"
   ]
  },
  {
   "cell_type": "code",
   "execution_count": null,
   "id": "14825560-d499-48fb-9667-085cdaed9be6",
   "metadata": {},
   "outputs": [],
   "source": []
  },
  {
   "cell_type": "code",
   "execution_count": null,
   "id": "c046bdd8-2a6b-4589-a14b-06bb67579aeb",
   "metadata": {},
   "outputs": [],
   "source": []
  },
  {
   "cell_type": "code",
   "execution_count": 12,
   "id": "30084794-1a37-4679-9e75-0e6b574e3d62",
   "metadata": {},
   "outputs": [
    {
     "name": "stdout",
     "output_type": "stream",
     "text": [
      "Is s2 a subset of s1? :  False\n"
     ]
    }
   ],
   "source": [
    "s1 = {1,2,3,4,5}\n",
    "s2 = {4,5,6,7,8}\n",
    "\n",
    "subsz = s2 <= s1\n",
    "\n",
    "print('Is s2 a subset of s1? : ', subsz)"
   ]
  },
  {
   "cell_type": "code",
   "execution_count": null,
   "id": "a227008f-35e0-40e5-80c5-94477b915fe1",
   "metadata": {},
   "outputs": [],
   "source": []
  },
  {
   "cell_type": "code",
   "execution_count": null,
   "id": "27c633c2-9806-4583-b8f2-65a56f66094f",
   "metadata": {},
   "outputs": [],
   "source": [
    "\n"
   ]
  },
  {
   "cell_type": "code",
   "execution_count": 14,
   "id": "9e651540-1b0e-4091-9b4f-80a11d0d5897",
   "metadata": {},
   "outputs": [
    {
     "name": "stdout",
     "output_type": "stream",
     "text": [
      "Is s1 a superset of s2> :  False\n"
     ]
    }
   ],
   "source": [
    "s1 = {1,2,3,4,5}\n",
    "s2 = {4,5,6,7,8}\n",
    "\n",
    "supersz = s1.issuperset(s2)\n",
    "\n",
    "print('Is s1 a superset of s2> : ', supersz)"
   ]
  },
  {
   "cell_type": "code",
   "execution_count": null,
   "id": "684fb999-bfe4-4549-acdb-fd14ecd191ee",
   "metadata": {},
   "outputs": [],
   "source": []
  },
  {
   "cell_type": "code",
   "execution_count": null,
   "id": "ed887915-05d4-47ee-9c4d-daa73146a3f5",
   "metadata": {},
   "outputs": [],
   "source": []
  },
  {
   "cell_type": "code",
   "execution_count": 15,
   "id": "fc5dc230-f59a-4e05-a7ba-8ea81682864f",
   "metadata": {},
   "outputs": [
    {
     "name": "stdout",
     "output_type": "stream",
     "text": [
      "The set is :  {1, 2, 3, 4, 5}\n"
     ]
    }
   ],
   "source": [
    "l = [1,2,3,4,5]\n",
    "s = set(l)\n",
    "print('The set is : ', s)"
   ]
  },
  {
   "cell_type": "code",
   "execution_count": null,
   "id": "d7d1c4ac-7e36-44d7-a344-8aeeccf3287f",
   "metadata": {},
   "outputs": [],
   "source": []
  },
  {
   "cell_type": "code",
   "execution_count": null,
   "id": "c744b3fe-70ef-4a68-98b4-ed0832451f93",
   "metadata": {},
   "outputs": [],
   "source": []
  },
  {
   "cell_type": "code",
   "execution_count": 16,
   "id": "d95ca761-ee7d-4813-81db-bb9ee9c79593",
   "metadata": {},
   "outputs": [
    {
     "name": "stdout",
     "output_type": "stream",
     "text": [
      "The list is :  {1, 2, 3, 4, 5}\n"
     ]
    }
   ],
   "source": [
    "s = {1,2,3,4,5}\n",
    "l = set(s)\n",
    "print('The list is : ', l)"
   ]
  },
  {
   "cell_type": "code",
   "execution_count": null,
   "id": "b1f4be7a-ab7f-4ec7-a8b6-685bed90283c",
   "metadata": {},
   "outputs": [],
   "source": []
  },
  {
   "cell_type": "code",
   "execution_count": null,
   "id": "362972c9-0cb0-4d8b-a375-ec102943483c",
   "metadata": {},
   "outputs": [],
   "source": []
  },
  {
   "cell_type": "code",
   "execution_count": 18,
   "id": "44c0411f-2c48-46cb-8866-dd88e6dbd966",
   "metadata": {},
   "outputs": [
    {
     "name": "stdout",
     "output_type": "stream",
     "text": [
      "Set :  {2, 3, 4, 5}\n",
      "Discarded element :  1\n"
     ]
    }
   ],
   "source": [
    "s = {2,1,3,4,5}\n",
    "p = s.pop()\n",
    "print('Set : ', s)\n",
    "print('Discarded element : ',p)"
   ]
  },
  {
   "cell_type": "code",
   "execution_count": null,
   "id": "162760ab-875c-45a5-8a6d-1f6a53382a8c",
   "metadata": {},
   "outputs": [],
   "source": []
  },
  {
   "cell_type": "code",
   "execution_count": null,
   "id": "4dc671bd-aec8-44b5-88ea-605679bbf6a8",
   "metadata": {},
   "outputs": [],
   "source": []
  },
  {
   "cell_type": "code",
   "execution_count": 19,
   "id": "ed6ae2f6-2b0a-46a2-8ba9-0d0b2847e060",
   "metadata": {},
   "outputs": [
    {
     "name": "stdout",
     "output_type": "stream",
     "text": [
      "Set :  {1, 567, 70, 23}\n",
      "Discarded element :  400\n"
     ]
    }
   ],
   "source": [
    "s = {400,70,1,23,567}\n",
    "p = s.pop()\n",
    "print('Set : ', s)\n",
    "print('Discarded element : ',p)"
   ]
  },
  {
   "cell_type": "code",
   "execution_count": null,
   "id": "4a1cfbb7-4050-47a9-b814-bd4217b31e4c",
   "metadata": {},
   "outputs": [],
   "source": []
  },
  {
   "cell_type": "code",
   "execution_count": null,
   "id": "cd545cb2-7313-4dd7-8f9f-2ce69948b128",
   "metadata": {},
   "outputs": [],
   "source": []
  },
  {
   "cell_type": "code",
   "execution_count": 20,
   "id": "7f3eb52a-dfc5-41f2-863a-95cca0d99998",
   "metadata": {},
   "outputs": [
    {
     "name": "stdout",
     "output_type": "stream",
     "text": [
      "The sets have common elements\n"
     ]
    }
   ],
   "source": [
    "s1 = {1,2,3,4,5}\n",
    "s2 = {4,5,6,7,8}\n",
    "\n",
    "disj = s1.isdisjoint(s2)\n",
    "\n",
    "if disj:\n",
    "    print('The sets have nothing in common')\n",
    "else:\n",
    "    print('The sets have common elements')"
   ]
  },
  {
   "cell_type": "code",
   "execution_count": null,
   "id": "36e92c4f-273b-45a2-8b75-323d01daf46c",
   "metadata": {},
   "outputs": [],
   "source": []
  },
  {
   "cell_type": "code",
   "execution_count": null,
   "id": "c3007025-5882-47ec-be7d-6593b296c936",
   "metadata": {},
   "outputs": [],
   "source": [
    "\n"
   ]
  },
  {
   "cell_type": "code",
   "execution_count": 21,
   "id": "3d0c596c-cba9-445a-b319-429e111b9dfa",
   "metadata": {},
   "outputs": [
    {
     "name": "stdout",
     "output_type": "stream",
     "text": [
      "The symmetric difference between s1 and s2 is :  {1, 2, 3, 6, 7, 8}\n"
     ]
    }
   ],
   "source": [
    "s1 = {1,2,3,4,5}\n",
    "s2 = {4,5,6,7,8}\n",
    "\n",
    "sd = s1.symmetric_difference(s2)\n",
    "\n",
    "print('The symmetric difference between s1 and s2 is : ', sd)"
   ]
  },
  {
   "cell_type": "code",
   "execution_count": null,
   "id": "2af40610-9d23-4384-8309-ebc83d41edde",
   "metadata": {},
   "outputs": [],
   "source": []
  },
  {
   "cell_type": "code",
   "execution_count": null,
   "id": "80794bb9-f637-486a-a0ac-2f35de326b24",
   "metadata": {},
   "outputs": [],
   "source": []
  },
  {
   "cell_type": "code",
   "execution_count": 23,
   "id": "cab4e38c-0aeb-4b34-961e-ed7da885ecda",
   "metadata": {},
   "outputs": [
    {
     "name": "stdout",
     "output_type": "stream",
     "text": [
      "{1, 2, 3, 4, 5, 6}\n"
     ]
    }
   ],
   "source": [
    "s1 = {1,2,3}\n",
    "s2 = {4,5,6}\n",
    "\n",
    "s1.update(s2)\n",
    "\n",
    "print(s1)"
   ]
  },
  {
   "cell_type": "code",
   "execution_count": null,
   "id": "5b0f8809-6fc5-43eb-a38d-7324fb2989b6",
   "metadata": {},
   "outputs": [],
   "source": []
  },
  {
   "cell_type": "code",
   "execution_count": null,
   "id": "23b3f487-e9a3-4695-96cd-79847609804e",
   "metadata": {},
   "outputs": [],
   "source": [
    "\n"
   ]
  },
  {
   "cell_type": "code",
   "execution_count": 25,
   "id": "13c068a4-b40e-40e3-b047-584d6464cc85",
   "metadata": {},
   "outputs": [
    {
     "name": "stdout",
     "output_type": "stream",
     "text": [
      "The set of first five numbers is :  {2, 3, 5, 7, 11}\n"
     ]
    }
   ],
   "source": [
    "def checkprime(n):\n",
    "    if n <= 1:\n",
    "        return False\n",
    "    if n <= 3 :\n",
    "        return True\n",
    "    if n%2==0 or n%3==0:\n",
    "        return False\n",
    "    i = 5\n",
    "    while i*i<=n:\n",
    "        if n%i==0 or n%(i+2)==0:\n",
    "            return False\n",
    "        i = i + 6\n",
    "    return True\n",
    "\n",
    "primenumberset = {n for n in range(2,30) if checkprime(n)}\n",
    "\n",
    "firstfiveprime = set()\n",
    "c = 0\n",
    "\n",
    "for i in primenumberset:\n",
    "    if c >= 5:\n",
    "        break\n",
    "    firstfiveprime.add(i)\n",
    "    c = c + 1\n",
    "    \n",
    "print('The set of first five numbers is : ', firstfiveprime)\n",
    "        "
   ]
  },
  {
   "cell_type": "code",
   "execution_count": null,
   "id": "0b07c3e4-1b2d-49a2-ae4c-d8a5b05be706",
   "metadata": {},
   "outputs": [],
   "source": []
  },
  {
   "cell_type": "code",
   "execution_count": null,
   "id": "1a4ae530-0da9-42eb-beba-9e557ae171f5",
   "metadata": {},
   "outputs": [],
   "source": []
  },
  {
   "cell_type": "code",
   "execution_count": 26,
   "id": "e5a88f4b-3c6b-4a86-bdd0-1b399c497bdc",
   "metadata": {},
   "outputs": [
    {
     "name": "stdout",
     "output_type": "stream",
     "text": [
      "The sets are identical\n"
     ]
    }
   ],
   "source": [
    "s1 = {1,2,3,4}\n",
    "s2 = {1,2,3,4}\n",
    "\n",
    "if s1==s2:\n",
    "    print('The sets are identical')\n",
    "else:\n",
    "    print('The sets are not identical')"
   ]
  },
  {
   "cell_type": "code",
   "execution_count": null,
   "id": "63e5bb78-4239-46ec-aac0-7a9667474513",
   "metadata": {},
   "outputs": [],
   "source": []
  },
  {
   "cell_type": "code",
   "execution_count": null,
   "id": "ccfe07b5-37d1-46eb-83fb-4ee82fcd89da",
   "metadata": {},
   "outputs": [],
   "source": [
    "\n"
   ]
  },
  {
   "cell_type": "code",
   "execution_count": 27,
   "id": "24cf3ed7-6d6f-41ff-8b1f-e0a825363697",
   "metadata": {},
   "outputs": [
    {
     "name": "stdout",
     "output_type": "stream",
     "text": [
      "The frozen set is :  frozenset({1, 2, 3, 4, 5})\n"
     ]
    }
   ],
   "source": [
    "s = {1,2,3,4,5}\n",
    "frz = frozenset(s)\n",
    "print('The frozen set is : ', frz)"
   ]
  },
  {
   "cell_type": "code",
   "execution_count": null,
   "id": "7c4705a0-d318-4806-939d-b60e2bd505f7",
   "metadata": {},
   "outputs": [],
   "source": []
  },
  {
   "cell_type": "code",
   "execution_count": null,
   "id": "28b7378a-81ec-43a9-9845-7169e8c46246",
   "metadata": {},
   "outputs": [],
   "source": []
  },
  {
   "cell_type": "code",
   "execution_count": 28,
   "id": "864ec43a-1d2b-4fa4-9c23-b2957c7acf3d",
   "metadata": {},
   "outputs": [
    {
     "name": "stdout",
     "output_type": "stream",
     "text": [
      "The sets are disjointed in nature\n"
     ]
    }
   ],
   "source": [
    "s1 = {1,2,3}\n",
    "s2 = {'a','b','c'}\n",
    "\n",
    "djs = s1.isdisjoint(s2)\n",
    "\n",
    "if djs:\n",
    "    print('The sets are disjointed in nature')\n",
    "else:\n",
    "    print('The sets are not disjointed in nature')"
   ]
  },
  {
   "cell_type": "code",
   "execution_count": null,
   "id": "34d191f3-a5e4-4d8d-8fd2-763301b32ac9",
   "metadata": {},
   "outputs": [],
   "source": []
  },
  {
   "cell_type": "code",
   "execution_count": null,
   "id": "b6130011-c678-4f9c-83c7-819998c06763",
   "metadata": {},
   "outputs": [],
   "source": [
    "\n"
   ]
  },
  {
   "cell_type": "code",
   "execution_count": 29,
   "id": "c95acf83-b926-4655-9e79-f413d84cbfc8",
   "metadata": {},
   "outputs": [
    {
     "name": "stdout",
     "output_type": "stream",
     "text": [
      "{1, 4, 9, 16, 25}\n"
     ]
    }
   ],
   "source": [
    "s = {n*n for n in range(1,6)}\n",
    "print(s)"
   ]
  },
  {
   "cell_type": "code",
   "execution_count": null,
   "id": "139293a2-fd52-4de4-ab64-20190ed90fe2",
   "metadata": {},
   "outputs": [],
   "source": []
  },
  {
   "cell_type": "code",
   "execution_count": null,
   "id": "a277594a-d56f-4d79-a64c-6bec5fa97652",
   "metadata": {},
   "outputs": [],
   "source": [
    "\n"
   ]
  },
  {
   "cell_type": "code",
   "execution_count": 30,
   "id": "439ae489-d9ec-44cc-83ec-efd5f51b82b7",
   "metadata": {},
   "outputs": [
    {
     "name": "stdout",
     "output_type": "stream",
     "text": [
      "{1, 3, 5, 7, 9, 11, 13, 15, 17, 19, 21, 23, 25, 27, 29, 31, 33, 35, 37, 39, 41, 43, 45, 47, 49, 51, 53, 55, 57, 59, 61, 63, 65, 67, 69, 71, 73, 75, 77, 79, 81, 83, 85, 87, 89, 91, 93, 95, 97, 99}\n"
     ]
    }
   ],
   "source": [
    "s = {n for n in range(1,101) if n%2!=0}\n",
    "print(s)"
   ]
  },
  {
   "cell_type": "code",
   "execution_count": null,
   "id": "d815b859-7a63-4929-a5e0-2e267c9bcec5",
   "metadata": {},
   "outputs": [],
   "source": []
  },
  {
   "cell_type": "code",
   "execution_count": null,
   "id": "3373c817-acff-4a31-8c72-f92891bb06a8",
   "metadata": {},
   "outputs": [],
   "source": []
  },
  {
   "cell_type": "code",
   "execution_count": 32,
   "id": "bd0b3616-1055-48e6-8c5e-a59287f1e5cc",
   "metadata": {},
   "outputs": [
    {
     "name": "stdout",
     "output_type": "stream",
     "text": [
      "The original set is :  {1, 2, 3, 4, 5, 6, 7, 8, 9, 10, 11, 12, 13, 14, 15, 16, 17, 18, 19, 20, 21, 22, 23, 24, 25, 26, 27, 28, 29, 30, 31, 32, 33, 34, 35, 36, 37, 38, 39, 40, 41, 42, 43, 44, 45, 46, 47, 48, 49, 50, 51, 52, 53, 54, 55, 56, 57, 58, 59, 60, 61, 62, 63, 64, 65, 66, 67, 68, 69, 70, 71, 72, 73, 74, 75, 76, 77, 78, 79, 80, 81, 82, 83, 84, 85, 86, 87, 88, 89, 90, 91, 92, 93, 94, 95, 96, 97, 98, 99, 100}\n",
      "\n",
      "\n",
      "The modified set is :  {2, 4, 6, 8, 10, 12, 14, 16, 18, 20, 22, 24, 26, 28, 30, 32, 34, 36, 38, 40, 42, 44, 46, 48, 50, 52, 54, 56, 58, 60, 62, 64, 66, 68, 70, 72, 74, 76, 78, 80, 82, 84, 86, 88, 90, 92, 94, 96, 98, 100, 102, 104, 106, 108, 110, 112, 114, 116, 118, 120, 122, 124, 126, 128, 130, 132, 134, 136, 138, 140, 142, 144, 146, 148, 150, 152, 154, 156, 158, 160, 162, 164, 166, 168, 170, 172, 174, 176, 178, 180, 182, 184, 186, 188, 190, 192, 194, 196, 198, 200}\n"
     ]
    }
   ],
   "source": [
    "s = {n for n in range(1,101)}\n",
    "print('The original set is : ',s)\n",
    "print('\\n')\n",
    "s = {n*2 for n in range(1,101)}\n",
    "print('The modified set is : ',s)"
   ]
  },
  {
   "cell_type": "code",
   "execution_count": null,
   "id": "d96f8667-5186-449f-8561-9f7bc887b315",
   "metadata": {},
   "outputs": [],
   "source": []
  },
  {
   "cell_type": "code",
   "execution_count": null,
   "id": "6feaac05-e108-45f1-b015-e25e9d948585",
   "metadata": {},
   "outputs": [],
   "source": []
  },
  {
   "cell_type": "code",
   "execution_count": 34,
   "id": "02ce3f5b-a2e6-4195-9b4f-67fbc3be3c02",
   "metadata": {},
   "outputs": [
    {
     "name": "stdout",
     "output_type": "stream",
     "text": [
      "The set of random numbers :  {2, 6, 11, 14, 16, 19, 20, 21, 30, 31, 35, 36, 37, 45, 46, 47, 49, 51, 57, 59, 60, 61, 66, 69, 72, 77, 79, 83, 85, 87, 89, 92, 97, 98, 100}\n"
     ]
    }
   ],
   "source": [
    "import random\n",
    "\n",
    "randset = set()\n",
    "\n",
    "for i in range(1,51):\n",
    "    randnum = random.randint(1,101)\n",
    "    randset.add(randnum)\n",
    "    \n",
    "print('The set of random numbers : ', randset)"
   ]
  },
  {
   "cell_type": "code",
   "execution_count": null,
   "id": "9af0cc5a-37f5-4891-b734-36a4256112d1",
   "metadata": {},
   "outputs": [],
   "source": []
  },
  {
   "cell_type": "code",
   "execution_count": null,
   "id": "96238e96-3b84-46d3-9271-b34299daa6d5",
   "metadata": {},
   "outputs": [],
   "source": []
  },
  {
   "cell_type": "code",
   "execution_count": 35,
   "id": "3901fdf2-5485-4468-b31a-a4df8aaf63bb",
   "metadata": {},
   "outputs": [
    {
     "name": "stdout",
     "output_type": "stream",
     "text": [
      "The set is clear\n"
     ]
    }
   ],
   "source": [
    "s = {1,2,3,4,5}\n",
    "\n",
    "s.clear()\n",
    "\n",
    "if not s:\n",
    "    print('The set is clear')\n",
    "else:\n",
    "    print('The set has elements inside of it')"
   ]
  },
  {
   "cell_type": "code",
   "execution_count": null,
   "id": "9a0075d6-e964-4107-9eaa-a384ecd6142e",
   "metadata": {},
   "outputs": [],
   "source": []
  },
  {
   "cell_type": "code",
   "execution_count": null,
   "id": "bc703103-3052-4dc7-96e3-3ec16573edcd",
   "metadata": {},
   "outputs": [],
   "source": [
    "\n"
   ]
  },
  {
   "cell_type": "code",
   "execution_count": 37,
   "id": "ef02b5cd-0029-4060-9d26-2c3764c2d94f",
   "metadata": {},
   "outputs": [
    {
     "name": "stdout",
     "output_type": "stream",
     "text": [
      "{frozenset({1, 2, 3}), frozenset({4, 5, 6}), frozenset({8, 9, 7})}\n"
     ]
    }
   ],
   "source": [
    "s = {frozenset({1,2,3}),frozenset({4,5,6}),frozenset({7,8,9})}\n",
    "print(s)\n"
   ]
  },
  {
   "cell_type": "code",
   "execution_count": null,
   "id": "22f8e440-7ec2-467e-b39a-67afc0374fd6",
   "metadata": {},
   "outputs": [],
   "source": []
  },
  {
   "cell_type": "code",
   "execution_count": null,
   "id": "5b6efb18-7433-463a-9da0-85f13f603105",
   "metadata": {},
   "outputs": [],
   "source": []
  },
  {
   "cell_type": "code",
   "execution_count": 38,
   "id": "96da7329-c174-4f6c-b19c-054ee9e2eeab",
   "metadata": {},
   "outputs": [
    {
     "name": "stdout",
     "output_type": "stream",
     "text": [
      "{'b', 'e', 'a', 'c'}\n"
     ]
    }
   ],
   "source": [
    "s = {'a','b','c','d','e'}\n",
    "s.discard('d')\n",
    "print(s)"
   ]
  },
  {
   "cell_type": "code",
   "execution_count": null,
   "id": "b7cb5c04-a880-4c59-bd0e-c2aaa62a0590",
   "metadata": {},
   "outputs": [],
   "source": []
  },
  {
   "cell_type": "code",
   "execution_count": null,
   "id": "c6415623-1766-4244-9c31-0dc06ac8a18e",
   "metadata": {},
   "outputs": [],
   "source": []
  },
  {
   "cell_type": "code",
   "execution_count": 39,
   "id": "529f963b-07a9-4964-aaa0-f57c2514f8e1",
   "metadata": {},
   "outputs": [
    {
     "name": "stdout",
     "output_type": "stream",
     "text": [
      "The sets are not equal\n"
     ]
    }
   ],
   "source": [
    "s1 = {1,2,3}\n",
    "s2 = {'x','y','z'}\n",
    "\n",
    "if s1==s2:\n",
    "    print('The sets are equal')\n",
    "else:\n",
    "    print('The sets are not equal')"
   ]
  },
  {
   "cell_type": "code",
   "execution_count": null,
   "id": "be2f334f-216f-4d2b-953b-79e581762ba6",
   "metadata": {},
   "outputs": [],
   "source": []
  },
  {
   "cell_type": "code",
   "execution_count": null,
   "id": "2b74910b-3cc8-461e-a2fa-9a3bdc8d8f37",
   "metadata": {},
   "outputs": [],
   "source": [
    "\n"
   ]
  },
  {
   "cell_type": "code",
   "execution_count": 42,
   "id": "01354d46-952e-417e-9ddd-49764c9658f2",
   "metadata": {},
   "outputs": [
    {
     "name": "stdin",
     "output_type": "stream",
     "text": [
      "Enter the string of your choice :  rasputin\n"
     ]
    },
    {
     "name": "stdout",
     "output_type": "stream",
     "text": [
      "The set is :  {'r', 't', 'p', 'a', 's', 'u', 'i', 'n'}\n"
     ]
    }
   ],
   "source": [
    "s = input('Enter the string of your choice : ')\n",
    "sx = {n for n in s}\n",
    "print('The set is : ', sx)"
   ]
  },
  {
   "cell_type": "code",
   "execution_count": null,
   "id": "9cd5fdf6-f5a6-4814-9ab4-fcf88abbd080",
   "metadata": {},
   "outputs": [],
   "source": []
  },
  {
   "cell_type": "code",
   "execution_count": null,
   "id": "74568994-4154-4af7-959d-dbfac6cec2d3",
   "metadata": {},
   "outputs": [],
   "source": []
  },
  {
   "cell_type": "code",
   "execution_count": 46,
   "id": "0f156e94-2f73-45a5-9dcb-af95513d930a",
   "metadata": {},
   "outputs": [
    {
     "name": "stdin",
     "output_type": "stream",
     "text": [
      "Enter the string of your choice :  1 23 56 78\n"
     ]
    },
    {
     "name": "stdout",
     "output_type": "stream",
     "text": [
      "The set of strings is :  {'3', '6', '8', '1', '5', '7', '2', ' '}\n",
      "The set of integers is :  {1, 2, 3, 5, 6, 7, 8}\n"
     ]
    }
   ],
   "source": [
    "s = input('Enter the string of your choice : ')\n",
    "sx = {n for n in s}\n",
    "print('The set of strings is : ', sx)\n",
    "isx = set()\n",
    "\n",
    "for item in sx:\n",
    "    try:\n",
    "        i = int(item)\n",
    "        isx.add(i)\n",
    "    except ValueError:\n",
    "        pass\n",
    "    \n",
    "print('The set of integers is : ',isx)"
   ]
  },
  {
   "cell_type": "code",
   "execution_count": null,
   "id": "74be06c4-dbff-4839-b304-931136d8a35b",
   "metadata": {},
   "outputs": [],
   "source": []
  },
  {
   "cell_type": "code",
   "execution_count": null,
   "id": "06a1496f-9e96-4161-bf19-bc6093803e67",
   "metadata": {},
   "outputs": [],
   "source": []
  },
  {
   "cell_type": "code",
   "execution_count": 48,
   "id": "4d402a11-136a-400b-87ba-705d4ffcc12e",
   "metadata": {},
   "outputs": [
    {
     "name": "stdout",
     "output_type": "stream",
     "text": [
      "The set of strings is :  {'3', '4', '6', '1', '5', '2'}\n"
     ]
    }
   ],
   "source": [
    "isx = {1,2,3,4,5,6}\n",
    "\n",
    "sx = set()\n",
    "\n",
    "for item in isx:\n",
    "    i = str(item)\n",
    "    sx.add(i)\n",
    "    \n",
    "print('The set of strings is : ', sx)"
   ]
  },
  {
   "cell_type": "code",
   "execution_count": null,
   "id": "f2a9c08c-040b-4629-8734-ac3152b1fdf2",
   "metadata": {},
   "outputs": [],
   "source": []
  },
  {
   "cell_type": "code",
   "execution_count": null,
   "id": "2bdae15e-2d24-4bb2-b961-b1d436e25f9f",
   "metadata": {},
   "outputs": [],
   "source": []
  },
  {
   "cell_type": "code",
   "execution_count": 49,
   "id": "5984da1b-d9d1-4ee6-871f-eb3eb453f566",
   "metadata": {},
   "outputs": [
    {
     "name": "stdout",
     "output_type": "stream",
     "text": [
      "{2, 4, 6, 8, 10, 12}\n"
     ]
    }
   ],
   "source": [
    "t = (2,4,6,8,10,12)\n",
    "s = set(t)\n",
    "print(s)"
   ]
  },
  {
   "cell_type": "code",
   "execution_count": null,
   "id": "ca2a6387-2ab4-4fb3-84be-564c9c043386",
   "metadata": {},
   "outputs": [],
   "source": []
  },
  {
   "cell_type": "code",
   "execution_count": null,
   "id": "e61fdcc2-d4a2-4216-a0c0-984e1ae8c09e",
   "metadata": {},
   "outputs": [],
   "source": [
    "\n"
   ]
  },
  {
   "cell_type": "code",
   "execution_count": 50,
   "id": "0b1748f7-b784-4b25-8005-f9d64da33b57",
   "metadata": {},
   "outputs": [
    {
     "name": "stdout",
     "output_type": "stream",
     "text": [
      "{2, 4, 6, 8, 10, 12}\n"
     ]
    }
   ],
   "source": [
    "s = {2,4,6,8,10,12}\n",
    "t = tuple(s)\n",
    "print(s)"
   ]
  },
  {
   "cell_type": "code",
   "execution_count": null,
   "id": "c320e320-98db-46f4-9c54-c16a74d64c91",
   "metadata": {},
   "outputs": [],
   "source": []
  },
  {
   "cell_type": "code",
   "execution_count": null,
   "id": "6b53a40d-22e4-4d8a-947e-a199ddfbb374",
   "metadata": {},
   "outputs": [],
   "source": [
    "\n"
   ]
  },
  {
   "cell_type": "code",
   "execution_count": 51,
   "id": "86f5eea9-288e-4418-aadd-4d0c58af9b1d",
   "metadata": {},
   "outputs": [
    {
     "name": "stdout",
     "output_type": "stream",
     "text": [
      "The maximum value present in the set is :  670\n"
     ]
    }
   ],
   "source": [
    "s = {1,45,670,9,20}\n",
    "maximum_value = max(s)\n",
    "print('The maximum value present in the set is : ', maximum_value)"
   ]
  },
  {
   "cell_type": "code",
   "execution_count": null,
   "id": "8d733ab1-7ac6-47b7-854b-71f8ef9722fe",
   "metadata": {},
   "outputs": [],
   "source": []
  },
  {
   "cell_type": "code",
   "execution_count": null,
   "id": "fff8f314-3fcc-4ed2-beec-48c52e2a42e8",
   "metadata": {},
   "outputs": [],
   "source": [
    "\n"
   ]
  },
  {
   "cell_type": "code",
   "execution_count": 52,
   "id": "b9c1620c-58a7-48dd-bf17-124b42f615d7",
   "metadata": {},
   "outputs": [
    {
     "name": "stdout",
     "output_type": "stream",
     "text": [
      "The minimum value present in the set is :  1\n"
     ]
    }
   ],
   "source": [
    "s = {1,45,670,9,20}\n",
    "minimum_value = min(s)\n",
    "print('The minimum value present in the set is : ', minimum_value)"
   ]
  },
  {
   "cell_type": "code",
   "execution_count": null,
   "id": "ca7cee41-2ad1-49da-8da0-850a449fd907",
   "metadata": {},
   "outputs": [],
   "source": []
  },
  {
   "cell_type": "code",
   "execution_count": null,
   "id": "6d57ff0d-08b7-4717-b524-248d22159d88",
   "metadata": {},
   "outputs": [],
   "source": []
  },
  {
   "cell_type": "code",
   "execution_count": 53,
   "id": "68a56752-9512-4f5c-b72a-edc1dfd84f0d",
   "metadata": {},
   "outputs": [
    {
     "name": "stdin",
     "output_type": "stream",
     "text": [
      "Enter the elements for the string :  1 2 3 4 5 6 7 8\n"
     ]
    },
    {
     "name": "stdout",
     "output_type": "stream",
     "text": [
      "The set is :  {1, 2, 3, 4, 5, 6, 7, 8}\n"
     ]
    }
   ],
   "source": [
    "s = input('Enter the elements for the string : ')\n",
    "s1 = s.split()\n",
    "sx = set()\n",
    "\n",
    "for item in s1:\n",
    "    try:\n",
    "        sx.add(int(item))\n",
    "    except ValueError:\n",
    "        print('Skip')\n",
    "        \n",
    "print('The set is : ', sx)"
   ]
  },
  {
   "cell_type": "code",
   "execution_count": null,
   "id": "3e85bd03-bea0-4d69-be55-bc99239faf79",
   "metadata": {},
   "outputs": [],
   "source": []
  },
  {
   "cell_type": "code",
   "execution_count": null,
   "id": "2adda8c8-14ec-4eab-8366-d95f62e0c484",
   "metadata": {},
   "outputs": [],
   "source": []
  },
  {
   "cell_type": "code",
   "execution_count": 54,
   "id": "42e71030-6c3a-4009-b693-3e92f4509df6",
   "metadata": {},
   "outputs": [
    {
     "name": "stdout",
     "output_type": "stream",
     "text": [
      "The intersection of s1 and s2 is empty\n"
     ]
    }
   ],
   "source": [
    "s1 = {1,2,3}\n",
    "s2 = {4,5,6}\n",
    "\n",
    "if s1.isdisjoint(s2):\n",
    "    print('The intersection of s1 and s2 is empty')\n",
    "else:\n",
    "    print('The intersection of s1 and s2 is not empty')"
   ]
  },
  {
   "cell_type": "code",
   "execution_count": null,
   "id": "d9d750d3-3163-4a91-843f-838a38b9bbfa",
   "metadata": {},
   "outputs": [],
   "source": []
  },
  {
   "cell_type": "code",
   "execution_count": null,
   "id": "4717a19f-c8db-41a8-bc41-637f8b0aab31",
   "metadata": {},
   "outputs": [],
   "source": []
  },
  {
   "cell_type": "code",
   "execution_count": 56,
   "id": "2479e8a7-7f50-4811-ae81-0c3ec79b33c9",
   "metadata": {},
   "outputs": [
    {
     "name": "stdout",
     "output_type": "stream",
     "text": [
      "The set of the first five fibonaacci series is :  {0, 1, 2, 3, 5}\n"
     ]
    }
   ],
   "source": [
    "def genfib(n):\n",
    "    fib = set()\n",
    "    a,b = 0,1\n",
    "    for i in range(n):\n",
    "        fib.add(a)\n",
    "        a,b = b, a+b\n",
    "    return fib\n",
    "\n",
    "firstfivefib = genfib(6)\n",
    "\n",
    "print('The set of the first five fibonaacci series is : ',firstfivefib)"
   ]
  },
  {
   "cell_type": "code",
   "execution_count": null,
   "id": "99883fa6-7748-4ca8-96eb-c451a158b42b",
   "metadata": {},
   "outputs": [],
   "source": []
  },
  {
   "cell_type": "code",
   "execution_count": null,
   "id": "95bf868e-4e68-4434-9767-a51916a03200",
   "metadata": {},
   "outputs": [],
   "source": []
  },
  {
   "cell_type": "code",
   "execution_count": 57,
   "id": "795c51a9-12e2-4d79-b506-8acea498124c",
   "metadata": {},
   "outputs": [
    {
     "name": "stdout",
     "output_type": "stream",
     "text": [
      "{1, 2, 3, 4, 5}\n"
     ]
    }
   ],
   "source": [
    "l = [1,2,2,3,3,3,4,4,4,4,5,5,5,5,5]\n",
    "s = set(l)\n",
    "print(s)"
   ]
  },
  {
   "cell_type": "code",
   "execution_count": null,
   "id": "0e2f96ae-1cab-4d73-b1b3-733dc5a0fdfd",
   "metadata": {},
   "outputs": [],
   "source": []
  },
  {
   "cell_type": "code",
   "execution_count": null,
   "id": "774c75fd-2d31-4bf9-9110-dfe3cb802730",
   "metadata": {},
   "outputs": [],
   "source": []
  },
  {
   "cell_type": "code",
   "execution_count": 58,
   "id": "bf1ed8c9-eb1d-4e13-a2b8-1ea722f2782d",
   "metadata": {},
   "outputs": [
    {
     "name": "stdout",
     "output_type": "stream",
     "text": [
      "The sets have the same elements\n"
     ]
    }
   ],
   "source": [
    "a = {1,2,3,4,5}\n",
    "b = {5,3,2,4,1}\n",
    "\n",
    "if a==b:\n",
    "    print('The sets have the same elements')\n",
    "else:\n",
    "    print('The sets dont have the same elements')"
   ]
  },
  {
   "cell_type": "code",
   "execution_count": null,
   "id": "4ec755bc-f375-4f29-8b3c-b84c61486429",
   "metadata": {},
   "outputs": [],
   "source": []
  },
  {
   "cell_type": "code",
   "execution_count": null,
   "id": "71d50252-a8bb-4f30-90ba-dbdd2440fd6d",
   "metadata": {},
   "outputs": [],
   "source": []
  },
  {
   "cell_type": "code",
   "execution_count": 63,
   "id": "6ddaab02-a760-410d-9840-3c3e76cf35ed",
   "metadata": {},
   "outputs": [
    {
     "name": "stdin",
     "output_type": "stream",
     "text": [
      "Enter the nth power of 2 :  5\n"
     ]
    },
    {
     "name": "stdout",
     "output_type": "stream",
     "text": [
      "{32, 1, 2, 4, 8, 16}\n"
     ]
    }
   ],
   "source": [
    "n = int(input('Enter the nth power of 2 : '))\n",
    "s = {2**i for i in range(n+1)}\n",
    "l =  sorted(s)\n",
    "s = set(l)\n",
    "print(s)"
   ]
  },
  {
   "cell_type": "code",
   "execution_count": null,
   "id": "a2f5b018-ce8c-4ef0-a9e4-f27929a07fc9",
   "metadata": {},
   "outputs": [],
   "source": []
  },
  {
   "cell_type": "code",
   "execution_count": null,
   "id": "30ab1ee1-1a62-4e8e-86cc-97075bf90a8f",
   "metadata": {},
   "outputs": [],
   "source": []
  },
  {
   "cell_type": "code",
   "execution_count": 64,
   "id": "55e60cd2-1a4f-4dde-a3a1-99c28ad9364f",
   "metadata": {},
   "outputs": [
    {
     "name": "stdout",
     "output_type": "stream",
     "text": [
      "The common elements of the list and the set are :  {3, 4, 5, 6, 7, 8}\n"
     ]
    }
   ],
   "source": [
    "s = {1,2,3,4,5,6,7,8}\n",
    "l = [3,4,5,6,7,8,9]\n",
    "\n",
    "commonele = s.intersection(l)\n",
    "\n",
    "print('The common elements of the list and the set are : ', commonele)"
   ]
  },
  {
   "cell_type": "code",
   "execution_count": null,
   "id": "e33b5b06-0f1c-4089-877e-48096152f52a",
   "metadata": {},
   "outputs": [],
   "source": []
  },
  {
   "cell_type": "code",
   "execution_count": null,
   "id": "a7937597-d18d-42af-a004-c4e1a70abc8d",
   "metadata": {},
   "outputs": [],
   "source": []
  },
  {
   "cell_type": "code",
   "execution_count": 12,
   "id": "8bb93481-94c0-4da5-94e4-a37743181fa6",
   "metadata": {},
   "outputs": [
    {
     "name": "stdout",
     "output_type": "stream",
     "text": [
      "{1.0, 3.0, 36.0, 6.0, 10.0, 45.0, 15.0, 21.0, 55.0, 28.0}\n"
     ]
    }
   ],
   "source": [
    "def gentrian(n):\n",
    "    trianset = set()\n",
    "    triannum = 0\n",
    "    \n",
    "    for i in range(1,n+1):\n",
    "        triannum = ((i*(i+1))/2)\n",
    "        trianset.add(triannum)\n",
    "        \n",
    "    return trianset\n",
    "\n",
    "n = 10\n",
    "t = gentrian(n)\n",
    "print(t)"
   ]
  },
  {
   "cell_type": "code",
   "execution_count": null,
   "id": "18769192-d4f9-4175-938a-8a3d49b816da",
   "metadata": {},
   "outputs": [],
   "source": []
  },
  {
   "cell_type": "code",
   "execution_count": null,
   "id": "e2afc255-a186-4754-bb93-1e07cbc44d8b",
   "metadata": {},
   "outputs": [],
   "source": []
  },
  {
   "cell_type": "code",
   "execution_count": 15,
   "id": "6cbcc478-009f-4190-b63a-f8539559771b",
   "metadata": {},
   "outputs": [
    {
     "name": "stdout",
     "output_type": "stream",
     "text": [
      "s2 is not the subset of s1\n"
     ]
    }
   ],
   "source": [
    "s1 = {1,2,3,4,5}\n",
    "s2 = {3,4,6}\n",
    "\n",
    "if s2.issubset(s1):\n",
    "    print('s2 is a subset of s1')\n",
    "else:\n",
    "    print('s2 is not the subset of s1')"
   ]
  },
  {
   "cell_type": "code",
   "execution_count": null,
   "id": "dac151cc-3347-434d-96a3-48c6d52a61f7",
   "metadata": {},
   "outputs": [],
   "source": []
  },
  {
   "cell_type": "code",
   "execution_count": null,
   "id": "e6e11356-b4f6-4e98-8afd-4c7be82c0983",
   "metadata": {},
   "outputs": [],
   "source": []
  },
  {
   "cell_type": "code",
   "execution_count": 22,
   "id": "61b72a73-0d70-4d94-b659-075a4f8f01f7",
   "metadata": {},
   "outputs": [
    {
     "name": "stdout",
     "output_type": "stream",
     "text": [
      "The set containings 1s and 0s is :  {0, 1}\n"
     ]
    }
   ],
   "source": [
    "n = 10\n",
    "s = set()\n",
    "\n",
    "for i in range(n) :\n",
    "    s.add(i%2)\n",
    "    \n",
    "  \n",
    "    \n",
    "print('The set containings 1s and 0s is : ',s)"
   ]
  },
  {
   "cell_type": "code",
   "execution_count": null,
   "id": "eb8d4b6d-0c52-488d-970e-9b57dcaa0922",
   "metadata": {},
   "outputs": [],
   "source": []
  },
  {
   "cell_type": "code",
   "execution_count": null,
   "id": "cfde056f-da29-4a97-bf96-9981a669614b",
   "metadata": {},
   "outputs": [],
   "source": []
  },
  {
   "cell_type": "code",
   "execution_count": null,
   "id": "0f0256f1-8d29-4172-a978-5296c54e051a",
   "metadata": {},
   "outputs": [],
   "source": []
  }
 ],
 "metadata": {
  "kernelspec": {
   "display_name": "Python 3 (ipykernel)",
   "language": "python",
   "name": "python3"
  },
  "language_info": {
   "codemirror_mode": {
    "name": "ipython",
    "version": 3
   },
   "file_extension": ".py",
   "mimetype": "text/x-python",
   "name": "python",
   "nbconvert_exporter": "python",
   "pygments_lexer": "ipython3",
   "version": "3.10.8"
  }
 },
 "nbformat": 4,
 "nbformat_minor": 5
}
